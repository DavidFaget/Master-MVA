{
  "cells": [
    {
      "cell_type": "markdown",
      "metadata": {
        "cell_ktag": "1OwQKpKKP4yj",
        "id": "GjaSve1CLo54"
      },
      "source": [
        "# Implementing a Low Rank Adapter (LoRA) (8 points)\n",
        "\n",
        "Objective of this exercice:\n",
        "\n",
        "Given a neural network (NN) classifier pre-trained on the subset of MNIST containing digits 0...4,\n",
        "you will fine-tune this NN, by optimizing all weights, and compare the test accuracy of this baseline model versus fine-tuning a LoRA.\n",
        "\n",
        "The neural network that we will define is artificially big because LoRA is usually applied to Large Language Models of billions of parameters\n",
        "\n",
        "**What is a LoRA ?**\n",
        "\n",
        "LoRA (Low-Rank Adaptation of Large Language Models) is a popular and lightweight training technique that significantly reduces the number of trainable parameters. It works by inserting a smaller number of new weights into the model and only these are trained. This makes training with LoRA much faster, memory-efficient, and produces smaller model weights (a few hundred MBs), which are easier to store and share.\n",
        "\n",
        "<div style=\"display: flex; justify-content: space-between;\">\n",
        "    <img src='https://www.lri.fr/~gcharpia/deeppractice/2024/TP4/imgs/lora_fig.png' style=\"width: 30%;\">\n",
        "    <img src='https://www.lri.fr/~gcharpia/deeppractice/2024/TP4/imgs/lora_text.png' style=\"width: 70%;\">\n",
        "</div>\n",
        "\n",
        "\n",
        "\n",
        "References:\n",
        "\n",
        "https://arxiv.org/pdf/2106.09685.pdf\n",
        "\n",
        "https://lightning.ai/pages/community/tutorial/lora-llm/\n",
        "\n",
        "https://huggingface.co/docs/diffusers/main/en/training/lora\n"
      ],
      "id": "GjaSve1CLo54"
    },
    {
      "cell_type": "code",
      "execution_count": null,
      "metadata": {
        "cell_ktag": "1OwQKpKKP4yj",
        "id": "MklvYJ77Lo56",
        "outputId": "ea7ca49d-520f-4ee8-b529-05af632074f3",
        "colab": {
          "base_uri": "https://localhost:8080/"
        }
      },
      "outputs": [
        {
          "output_type": "stream",
          "name": "stdout",
          "text": [
            "Tesla T4\n",
            "Memory Usage:\n",
            "Allocated: 0.0 GB\n",
            "Cached:    0.0 GB\n"
          ]
        }
      ],
      "source": [
        "import torch\n",
        "import torch.nn as nn\n",
        "import torchvision.datasets as datasets\n",
        "from torch.utils.data import DataLoader, random_split, Subset\n",
        "import torch.nn.utils.parametrize as parametrize\n",
        "import torchvision.transforms as transforms\n",
        "\n",
        "import numpy as np\n",
        "import matplotlib.pyplot as plt\n",
        "\n",
        "from tqdm import tqdm\n",
        "\n",
        "# Make torch deterministic\n",
        "_ = torch.manual_seed(0)\n",
        "\n",
        "\n",
        "# Decide which device we want to run on\n",
        "ngpu=1\n",
        "device = torch.device(\"cuda:0\" if (torch.cuda.is_available() and ngpu > 0) else \"cpu\")\n",
        "\n",
        "if device.type == 'cuda':\n",
        "    print(torch.cuda.get_device_name(0))\n",
        "    print('Memory Usage:')\n",
        "    print('Allocated:', round(torch.cuda.memory_allocated(0)/1024**3,1), 'GB')\n",
        "    print('Cached:   ', round(torch.cuda.memory_reserved(0)/1024**3,1), 'GB')"
      ],
      "id": "MklvYJ77Lo56"
    },
    {
      "cell_type": "code",
      "execution_count": null,
      "metadata": {
        "cell_ktag": "1OwQKpKKP4yj",
        "id": "x24DsN34Lo58",
        "colab": {
          "base_uri": "https://localhost:8080/"
        },
        "outputId": "2307da38-6e2f-4414-841a-944ae5d1bc7e"
      },
      "outputs": [
        {
          "output_type": "stream",
          "name": "stdout",
          "text": [
            "Downloading http://yann.lecun.com/exdb/mnist/train-images-idx3-ubyte.gz\n",
            "Downloading http://yann.lecun.com/exdb/mnist/train-images-idx3-ubyte.gz to ./data/MNIST/raw/train-images-idx3-ubyte.gz\n"
          ]
        },
        {
          "output_type": "stream",
          "name": "stderr",
          "text": [
            "100%|██████████| 9912422/9912422 [00:00<00:00, 124996876.99it/s]\n"
          ]
        },
        {
          "output_type": "stream",
          "name": "stdout",
          "text": [
            "Extracting ./data/MNIST/raw/train-images-idx3-ubyte.gz to ./data/MNIST/raw\n",
            "\n",
            "Downloading http://yann.lecun.com/exdb/mnist/train-labels-idx1-ubyte.gz\n",
            "Downloading http://yann.lecun.com/exdb/mnist/train-labels-idx1-ubyte.gz to ./data/MNIST/raw/train-labels-idx1-ubyte.gz\n"
          ]
        },
        {
          "output_type": "stream",
          "name": "stderr",
          "text": [
            "100%|██████████| 28881/28881 [00:00<00:00, 15323933.44it/s]\n"
          ]
        },
        {
          "output_type": "stream",
          "name": "stdout",
          "text": [
            "Extracting ./data/MNIST/raw/train-labels-idx1-ubyte.gz to ./data/MNIST/raw\n",
            "\n",
            "Downloading http://yann.lecun.com/exdb/mnist/t10k-images-idx3-ubyte.gz\n",
            "Downloading http://yann.lecun.com/exdb/mnist/t10k-images-idx3-ubyte.gz to ./data/MNIST/raw/t10k-images-idx3-ubyte.gz\n"
          ]
        },
        {
          "output_type": "stream",
          "name": "stderr",
          "text": [
            "100%|██████████| 1648877/1648877 [00:00<00:00, 36182334.40it/s]\n"
          ]
        },
        {
          "output_type": "stream",
          "name": "stdout",
          "text": [
            "Extracting ./data/MNIST/raw/t10k-images-idx3-ubyte.gz to ./data/MNIST/raw\n",
            "\n",
            "Downloading http://yann.lecun.com/exdb/mnist/t10k-labels-idx1-ubyte.gz\n",
            "Downloading http://yann.lecun.com/exdb/mnist/t10k-labels-idx1-ubyte.gz to ./data/MNIST/raw/t10k-labels-idx1-ubyte.gz\n"
          ]
        },
        {
          "output_type": "stream",
          "name": "stderr",
          "text": [
            "100%|██████████| 4542/4542 [00:00<00:00, 21309316.30it/s]"
          ]
        },
        {
          "output_type": "stream",
          "name": "stdout",
          "text": [
            "Extracting ./data/MNIST/raw/t10k-labels-idx1-ubyte.gz to ./data/MNIST/raw\n",
            "\n"
          ]
        },
        {
          "output_type": "stream",
          "name": "stderr",
          "text": [
            "\n"
          ]
        }
      ],
      "source": [
        "#Normalizing MNIST\n",
        "#These values are the mean and std deviation of the MNIST dataset.\n",
        "transform = transforms.Compose([transforms.ToTensor(), transforms.Normalize((0.1307,), (0.3081,))])\n",
        "\n",
        "# load MNIST\n",
        "mnist_train = datasets.MNIST(root='./data', train=True, download=True, transform=transform)\n",
        "mnist_test = datasets.MNIST(root='./data', train=False, download=True, transform=transform)\n",
        "\n",
        "# keep images of desired labels\n",
        "class_names = [0, 1, 2, 3, 4]\n",
        "\n",
        "# create a mask to filter indices for each label\n",
        "train_mask = torch.tensor([label in class_names for label in mnist_train.targets])\n",
        "test_mask = torch.tensor([label in class_names for label in mnist_test.targets])\n",
        "\n",
        "# Create Subset datasets for train, validation, and test\n",
        "train_dataset = Subset(mnist_train, torch.where(train_mask)[0])\n",
        "test_dataset = Subset(mnist_test, torch.where(test_mask)[0])\n",
        "\n",
        "# split train into train & validation\n",
        "train_size = int(0.7 * len(train_dataset))\n",
        "val_size = len(train_dataset) - train_size\n",
        "train_dataset, val_dataset = random_split(train_dataset, [train_size, val_size])\n",
        "\n",
        "batch_size=128\n",
        "\n",
        "train_loader = DataLoader(train_dataset, batch_size=batch_size, shuffle=True)\n",
        "val_loader = DataLoader(val_dataset, batch_size=batch_size, shuffle=False)\n",
        "test_loader = DataLoader(test_dataset, batch_size=batch_size, shuffle=False)\n"
      ],
      "id": "x24DsN34Lo58"
    },
    {
      "cell_type": "code",
      "execution_count": null,
      "metadata": {
        "cell_ktag": "1OwQKpKKP4yj",
        "id": "1Lvhe8pLLo58",
        "outputId": "3e82eabe-cbde-44bd-d00a-adfe8e613624",
        "colab": {
          "base_uri": "https://localhost:8080/"
        }
      },
      "outputs": [
        {
          "output_type": "execute_result",
          "data": {
            "text/plain": [
              "(21417, 9179, 5139)"
            ]
          },
          "metadata": {},
          "execution_count": 3
        }
      ],
      "source": [
        "len(train_dataset),len(val_dataset),len(test_dataset)"
      ],
      "id": "1Lvhe8pLLo58"
    },
    {
      "cell_type": "markdown",
      "metadata": {
        "cell_ktag": "1OwQKpKKP4yj",
        "id": "lhPhCdCTLo59"
      },
      "source": [
        "# Architecture of the classifier"
      ],
      "id": "lhPhCdCTLo59"
    },
    {
      "cell_type": "code",
      "execution_count": null,
      "metadata": {
        "cell_ktag": "1OwQKpKKP4yj",
        "id": "sUOULDHvLo59"
      },
      "outputs": [],
      "source": [
        "#note that last layer has 5 neurons for digits 0...4\n",
        "#and the same layer will be used for 5...9\n",
        "\n",
        "class classifier(nn.Module):\n",
        "    def __init__(self, hidden_size_1=1000, hidden_size_2=2000):\n",
        "        super(classifier,self).__init__()\n",
        "\n",
        "        self.linear1 = nn.Linear(28*28, hidden_size_1)\n",
        "        self.linear2 = nn.Linear(hidden_size_1, hidden_size_2)\n",
        "        self.linear3 = nn.Linear(hidden_size_2, 5)\n",
        "        self.relu = nn.ReLU()\n",
        "\n",
        "\n",
        "        self.dropout = nn.Dropout(0.5)\n",
        "\n",
        "\n",
        "\n",
        "    def forward(self, img):\n",
        "        x = img.view(-1, 28*28)\n",
        "        x = self.relu(self.linear1(x))\n",
        "        x = self.dropout(x)\n",
        "        x = self.relu(self.linear2(x))\n",
        "        x = self.dropout(x)\n",
        "        x = self.linear3(x)\n",
        "        return x\n",
        "\n",
        "net = classifier().to(device)"
      ],
      "id": "sUOULDHvLo59"
    },
    {
      "cell_type": "markdown",
      "metadata": {
        "cell_ktag": "1OwQKpKKP4yj",
        "id": "K_MRlhYELo59"
      },
      "source": [
        "# Code for training loop & validation"
      ],
      "id": "K_MRlhYELo59"
    },
    {
      "cell_type": "code",
      "execution_count": null,
      "metadata": {
        "cell_ktag": "1OwQKpKKP4yj",
        "id": "KZoBvATmLo59"
      },
      "outputs": [],
      "source": [
        "#We set a lower learning rate when we will fine-tune on the subset of MNIST containing digits 5...9\n",
        "#so that fine-tuning don't change pre-training weights too much.\n",
        "\n",
        "#Since the NN is big, we add weight decay to regularize it otherwise it will overfit too much too fast\n",
        "def adjust_optimizer(name, parameters):\n",
        "    lr = 0.001\n",
        "    if name == \"subset2\":\n",
        "        lr = 0.00001\n",
        "    return torch.optim.Adam(parameters, lr=lr, weight_decay=0.0001)\n",
        "\n",
        "#to do label prediction during training we use argmax on the last layer, which output a vector of 5 components\n",
        "#so y_hat will be between 0 and 4, we thus have to \"translate\" y_true so that it's in the right range\n",
        "\n",
        "# the name variable will be used later on to recognize on which dataset we are\n",
        "# and do the corresponding label translation, and set the good hyperparameters\n",
        "def process_labels(name, labels):\n",
        "    if 'subset2' in name:\n",
        "        labels = labels - 5\n",
        "    return labels\n",
        "\n",
        "\n",
        "def run_epoch(loader, name, net, optimizer, cross_el, total_iterations_limit=None):\n",
        "    net.train() if optimizer else net.eval()\n",
        "\n",
        "    loss_sum = 0\n",
        "    num_iterations = 0\n",
        "\n",
        "    data_iterator = tqdm(loader, desc=f'Training' if optimizer else f'Validation')\n",
        "    if total_iterations_limit is not None:\n",
        "        data_iterator.total = total_iterations_limit\n",
        "\n",
        "    for data in data_iterator:\n",
        "        num_iterations += 1\n",
        "        x, y = data\n",
        "        x, y = x.to(device), y.to(device)\n",
        "        x = x.view(-1, 28*28)\n",
        "        optimizer.zero_grad() if optimizer else None\n",
        "        output = net(x)\n",
        "        loss = cross_el(output, process_labels(name, y))\n",
        "        loss_sum += loss.item()\n",
        "        avg_loss = loss_sum / num_iterations\n",
        "        data_iterator.set_postfix(loss=avg_loss)\n",
        "        if optimizer:\n",
        "            loss.backward()\n",
        "            optimizer.step()\n",
        "\n",
        "    return loss_sum / len(data_iterator)\n",
        "\n",
        "def train(train_loader, val_loader, name, net, epochs=5, total_iterations_limit=None):\n",
        "    cross_el = nn.CrossEntropyLoss()\n",
        "    optimizer = adjust_optimizer(name, net.parameters())\n",
        "\n",
        "    total_iterations = 0\n",
        "    train_loss_lst, val_loss_lst = [], []\n",
        "\n",
        "    for epoch in range(epochs):\n",
        "        train_loss = run_epoch(train_loader, name, net, optimizer, cross_el, total_iterations_limit)\n",
        "        print(f\"Epoch [{epoch+1}/{epochs}] Train Loss: {train_loss}\")\n",
        "        train_loss_lst.append(train_loss)\n",
        "\n",
        "        val_loss = run_epoch(val_loader, name, net, None, cross_el, total_iterations_limit)\n",
        "        print(f\"Epoch [{epoch+1}/{epochs}] Validation Loss: {val_loss}\")\n",
        "        val_loss_lst.append(val_loss)\n",
        "\n",
        "    return train_loss_lst, val_loss_lst"
      ],
      "id": "KZoBvATmLo59"
    },
    {
      "cell_type": "code",
      "execution_count": null,
      "metadata": {
        "cell_ktag": "1OwQKpKKP4yj",
        "id": "_09gJ0WsLo5-"
      },
      "outputs": [],
      "source": [
        "def plot_losses(train_loss_lst, val_loss_lst):\n",
        "    plt.plot(train_loss_lst,label=\"train\")\n",
        "    plt.plot(val_loss_lst,label=\"val\")\n",
        "    plt.legend()"
      ],
      "id": "_09gJ0WsLo5-"
    },
    {
      "cell_type": "markdown",
      "metadata": {
        "cell_ktag": "1OwQKpKKP4yj",
        "id": "8aBnlf8rLo5-"
      },
      "source": [
        "# If you have GPU access, or simply want to train your own model, run this code"
      ],
      "id": "8aBnlf8rLo5-"
    },
    {
      "cell_type": "code",
      "execution_count": null,
      "metadata": {
        "cell_ktag": "1OwQKpKKP4yj",
        "id": "jOxDWrOwLo5-",
        "outputId": "15245cc0-cbf3-4ff7-c956-612f36eaf302",
        "colab": {
          "base_uri": "https://localhost:8080/"
        }
      },
      "outputs": [
        {
          "output_type": "stream",
          "name": "stderr",
          "text": [
            "Training: 100%|██████████| 168/168 [00:09<00:00, 17.49it/s, loss=0.15]\n"
          ]
        },
        {
          "output_type": "stream",
          "name": "stdout",
          "text": [
            "Epoch [1/30] Train Loss: 0.14974932339308517\n"
          ]
        },
        {
          "output_type": "stream",
          "name": "stderr",
          "text": [
            "Validation: 100%|██████████| 72/72 [00:02<00:00, 32.83it/s, loss=0.0825]\n"
          ]
        },
        {
          "output_type": "stream",
          "name": "stdout",
          "text": [
            "Epoch [1/30] Validation Loss: 0.08251338893185473\n"
          ]
        },
        {
          "output_type": "stream",
          "name": "stderr",
          "text": [
            "Training: 100%|██████████| 168/168 [00:05<00:00, 28.27it/s, loss=0.0727]\n"
          ]
        },
        {
          "output_type": "stream",
          "name": "stdout",
          "text": [
            "Epoch [2/30] Train Loss: 0.0727058290171304\n"
          ]
        },
        {
          "output_type": "stream",
          "name": "stderr",
          "text": [
            "Validation: 100%|██████████| 72/72 [00:02<00:00, 33.37it/s, loss=0.0739]\n"
          ]
        },
        {
          "output_type": "stream",
          "name": "stdout",
          "text": [
            "Epoch [2/30] Validation Loss: 0.07392260182597157\n"
          ]
        },
        {
          "output_type": "stream",
          "name": "stderr",
          "text": [
            "Training: 100%|██████████| 168/168 [00:05<00:00, 31.79it/s, loss=0.0526]\n"
          ]
        },
        {
          "output_type": "stream",
          "name": "stdout",
          "text": [
            "Epoch [3/30] Train Loss: 0.05263905182004064\n"
          ]
        },
        {
          "output_type": "stream",
          "name": "stderr",
          "text": [
            "Validation: 100%|██████████| 72/72 [00:02<00:00, 28.32it/s, loss=0.045]\n"
          ]
        },
        {
          "output_type": "stream",
          "name": "stdout",
          "text": [
            "Epoch [3/30] Validation Loss: 0.044970981440403394\n"
          ]
        },
        {
          "output_type": "stream",
          "name": "stderr",
          "text": [
            "Training: 100%|██████████| 168/168 [00:05<00:00, 28.62it/s, loss=0.051]\n"
          ]
        },
        {
          "output_type": "stream",
          "name": "stdout",
          "text": [
            "Epoch [4/30] Train Loss: 0.051019202169430046\n"
          ]
        },
        {
          "output_type": "stream",
          "name": "stderr",
          "text": [
            "Validation: 100%|██████████| 72/72 [00:02<00:00, 33.21it/s, loss=0.0399]\n"
          ]
        },
        {
          "output_type": "stream",
          "name": "stdout",
          "text": [
            "Epoch [4/30] Validation Loss: 0.039921130816057686\n"
          ]
        },
        {
          "output_type": "stream",
          "name": "stderr",
          "text": [
            "Training: 100%|██████████| 168/168 [00:05<00:00, 28.09it/s, loss=0.0439]\n"
          ]
        },
        {
          "output_type": "stream",
          "name": "stdout",
          "text": [
            "Epoch [5/30] Train Loss: 0.04388246592550006\n"
          ]
        },
        {
          "output_type": "stream",
          "name": "stderr",
          "text": [
            "Validation: 100%|██████████| 72/72 [00:02<00:00, 32.47it/s, loss=0.057]\n"
          ]
        },
        {
          "output_type": "stream",
          "name": "stdout",
          "text": [
            "Epoch [5/30] Validation Loss: 0.05699470036132778\n"
          ]
        },
        {
          "output_type": "stream",
          "name": "stderr",
          "text": [
            "Training: 100%|██████████| 168/168 [00:06<00:00, 27.91it/s, loss=0.0388]\n"
          ]
        },
        {
          "output_type": "stream",
          "name": "stdout",
          "text": [
            "Epoch [6/30] Train Loss: 0.0388344281292077\n"
          ]
        },
        {
          "output_type": "stream",
          "name": "stderr",
          "text": [
            "Validation: 100%|██████████| 72/72 [00:02<00:00, 24.99it/s, loss=0.0555]\n"
          ]
        },
        {
          "output_type": "stream",
          "name": "stdout",
          "text": [
            "Epoch [6/30] Validation Loss: 0.0555133964581829\n"
          ]
        },
        {
          "output_type": "stream",
          "name": "stderr",
          "text": [
            "Training: 100%|██████████| 168/168 [00:05<00:00, 30.36it/s, loss=0.0382]\n"
          ]
        },
        {
          "output_type": "stream",
          "name": "stdout",
          "text": [
            "Epoch [7/30] Train Loss: 0.03818635740650019\n"
          ]
        },
        {
          "output_type": "stream",
          "name": "stderr",
          "text": [
            "Validation: 100%|██████████| 72/72 [00:02<00:00, 33.35it/s, loss=0.0471]\n"
          ]
        },
        {
          "output_type": "stream",
          "name": "stdout",
          "text": [
            "Epoch [7/30] Validation Loss: 0.04714426022757026\n"
          ]
        },
        {
          "output_type": "stream",
          "name": "stderr",
          "text": [
            "Training: 100%|██████████| 168/168 [00:05<00:00, 28.98it/s, loss=0.0322]\n"
          ]
        },
        {
          "output_type": "stream",
          "name": "stdout",
          "text": [
            "Epoch [8/30] Train Loss: 0.032195798712477665\n"
          ]
        },
        {
          "output_type": "stream",
          "name": "stderr",
          "text": [
            "Validation: 100%|██████████| 72/72 [00:02<00:00, 32.94it/s, loss=0.0435]\n"
          ]
        },
        {
          "output_type": "stream",
          "name": "stdout",
          "text": [
            "Epoch [8/30] Validation Loss: 0.04350943462062181\n"
          ]
        },
        {
          "output_type": "stream",
          "name": "stderr",
          "text": [
            "Training: 100%|██████████| 168/168 [00:05<00:00, 32.03it/s, loss=0.0325]\n"
          ]
        },
        {
          "output_type": "stream",
          "name": "stdout",
          "text": [
            "Epoch [9/30] Train Loss: 0.032548023160156196\n"
          ]
        },
        {
          "output_type": "stream",
          "name": "stderr",
          "text": [
            "Validation: 100%|██████████| 72/72 [00:02<00:00, 31.80it/s, loss=0.0363]\n"
          ]
        },
        {
          "output_type": "stream",
          "name": "stdout",
          "text": [
            "Epoch [9/30] Validation Loss: 0.03634637334946294\n"
          ]
        },
        {
          "output_type": "stream",
          "name": "stderr",
          "text": [
            "Training: 100%|██████████| 168/168 [00:05<00:00, 29.14it/s, loss=0.0323]\n"
          ]
        },
        {
          "output_type": "stream",
          "name": "stdout",
          "text": [
            "Epoch [10/30] Train Loss: 0.032335361063208744\n"
          ]
        },
        {
          "output_type": "stream",
          "name": "stderr",
          "text": [
            "Validation: 100%|██████████| 72/72 [00:02<00:00, 32.83it/s, loss=0.0439]\n"
          ]
        },
        {
          "output_type": "stream",
          "name": "stdout",
          "text": [
            "Epoch [10/30] Validation Loss: 0.04394077951696494\n"
          ]
        },
        {
          "output_type": "stream",
          "name": "stderr",
          "text": [
            "Training: 100%|██████████| 168/168 [00:06<00:00, 24.30it/s, loss=0.0353]\n"
          ]
        },
        {
          "output_type": "stream",
          "name": "stdout",
          "text": [
            "Epoch [11/30] Train Loss: 0.03525609094746566\n"
          ]
        },
        {
          "output_type": "stream",
          "name": "stderr",
          "text": [
            "Validation: 100%|██████████| 72/72 [00:02<00:00, 32.74it/s, loss=0.0402]\n"
          ]
        },
        {
          "output_type": "stream",
          "name": "stdout",
          "text": [
            "Epoch [11/30] Validation Loss: 0.04019067670136186\n"
          ]
        },
        {
          "output_type": "stream",
          "name": "stderr",
          "text": [
            "Training: 100%|██████████| 168/168 [00:05<00:00, 31.82it/s, loss=0.0289]\n"
          ]
        },
        {
          "output_type": "stream",
          "name": "stdout",
          "text": [
            "Epoch [12/30] Train Loss: 0.02887745749432638\n"
          ]
        },
        {
          "output_type": "stream",
          "name": "stderr",
          "text": [
            "Validation: 100%|██████████| 72/72 [00:02<00:00, 31.38it/s, loss=0.048]\n"
          ]
        },
        {
          "output_type": "stream",
          "name": "stdout",
          "text": [
            "Epoch [12/30] Validation Loss: 0.047962664700106766\n"
          ]
        },
        {
          "output_type": "stream",
          "name": "stderr",
          "text": [
            "Training: 100%|██████████| 168/168 [00:06<00:00, 25.73it/s, loss=0.0332]\n"
          ]
        },
        {
          "output_type": "stream",
          "name": "stdout",
          "text": [
            "Epoch [13/30] Train Loss: 0.033212027780661756\n"
          ]
        },
        {
          "output_type": "stream",
          "name": "stderr",
          "text": [
            "Validation: 100%|██████████| 72/72 [00:02<00:00, 31.92it/s, loss=0.0495]\n"
          ]
        },
        {
          "output_type": "stream",
          "name": "stdout",
          "text": [
            "Epoch [13/30] Validation Loss: 0.04945662647716947\n"
          ]
        },
        {
          "output_type": "stream",
          "name": "stderr",
          "text": [
            "Training: 100%|██████████| 168/168 [00:06<00:00, 27.36it/s, loss=0.0241]\n"
          ]
        },
        {
          "output_type": "stream",
          "name": "stdout",
          "text": [
            "Epoch [14/30] Train Loss: 0.024146842429088013\n"
          ]
        },
        {
          "output_type": "stream",
          "name": "stderr",
          "text": [
            "Validation: 100%|██████████| 72/72 [00:02<00:00, 32.03it/s, loss=0.0454]\n"
          ]
        },
        {
          "output_type": "stream",
          "name": "stdout",
          "text": [
            "Epoch [14/30] Validation Loss: 0.045374524898256316\n"
          ]
        },
        {
          "output_type": "stream",
          "name": "stderr",
          "text": [
            "Training: 100%|██████████| 168/168 [00:05<00:00, 31.61it/s, loss=0.0311]\n"
          ]
        },
        {
          "output_type": "stream",
          "name": "stdout",
          "text": [
            "Epoch [15/30] Train Loss: 0.031124311276514726\n"
          ]
        },
        {
          "output_type": "stream",
          "name": "stderr",
          "text": [
            "Validation: 100%|██████████| 72/72 [00:02<00:00, 30.71it/s, loss=0.0622]\n"
          ]
        },
        {
          "output_type": "stream",
          "name": "stdout",
          "text": [
            "Epoch [15/30] Validation Loss: 0.062247429725781935\n"
          ]
        },
        {
          "output_type": "stream",
          "name": "stderr",
          "text": [
            "Training: 100%|██████████| 168/168 [00:05<00:00, 28.63it/s, loss=0.0277]\n"
          ]
        },
        {
          "output_type": "stream",
          "name": "stdout",
          "text": [
            "Epoch [16/30] Train Loss: 0.027696087993977665\n"
          ]
        },
        {
          "output_type": "stream",
          "name": "stderr",
          "text": [
            "Validation: 100%|██████████| 72/72 [00:02<00:00, 32.88it/s, loss=0.0529]\n"
          ]
        },
        {
          "output_type": "stream",
          "name": "stdout",
          "text": [
            "Epoch [16/30] Validation Loss: 0.0529151780938264\n"
          ]
        },
        {
          "output_type": "stream",
          "name": "stderr",
          "text": [
            "Training: 100%|██████████| 168/168 [00:06<00:00, 28.00it/s, loss=0.0261]\n"
          ]
        },
        {
          "output_type": "stream",
          "name": "stdout",
          "text": [
            "Epoch [17/30] Train Loss: 0.026115033389335924\n"
          ]
        },
        {
          "output_type": "stream",
          "name": "stderr",
          "text": [
            "Validation: 100%|██████████| 72/72 [00:02<00:00, 31.39it/s, loss=0.042]\n"
          ]
        },
        {
          "output_type": "stream",
          "name": "stdout",
          "text": [
            "Epoch [17/30] Validation Loss: 0.04201710590723451\n"
          ]
        },
        {
          "output_type": "stream",
          "name": "stderr",
          "text": [
            "Training: 100%|██████████| 168/168 [00:05<00:00, 31.01it/s, loss=0.0265]\n"
          ]
        },
        {
          "output_type": "stream",
          "name": "stdout",
          "text": [
            "Epoch [18/30] Train Loss: 0.026536672590910235\n"
          ]
        },
        {
          "output_type": "stream",
          "name": "stderr",
          "text": [
            "Validation: 100%|██████████| 72/72 [00:02<00:00, 30.92it/s, loss=0.0423]\n"
          ]
        },
        {
          "output_type": "stream",
          "name": "stdout",
          "text": [
            "Epoch [18/30] Validation Loss: 0.042308687057862296\n"
          ]
        },
        {
          "output_type": "stream",
          "name": "stderr",
          "text": [
            "Training: 100%|██████████| 168/168 [00:06<00:00, 27.91it/s, loss=0.0236]\n"
          ]
        },
        {
          "output_type": "stream",
          "name": "stdout",
          "text": [
            "Epoch [19/30] Train Loss: 0.023623232239472037\n"
          ]
        },
        {
          "output_type": "stream",
          "name": "stderr",
          "text": [
            "Validation: 100%|██████████| 72/72 [00:02<00:00, 29.91it/s, loss=0.0461]\n"
          ]
        },
        {
          "output_type": "stream",
          "name": "stdout",
          "text": [
            "Epoch [19/30] Validation Loss: 0.046063210224600776\n"
          ]
        },
        {
          "output_type": "stream",
          "name": "stderr",
          "text": [
            "Training: 100%|██████████| 168/168 [00:06<00:00, 27.31it/s, loss=0.0189]\n"
          ]
        },
        {
          "output_type": "stream",
          "name": "stdout",
          "text": [
            "Epoch [20/30] Train Loss: 0.018922397777628032\n"
          ]
        },
        {
          "output_type": "stream",
          "name": "stderr",
          "text": [
            "Validation: 100%|██████████| 72/72 [00:02<00:00, 32.42it/s, loss=0.0467]\n"
          ]
        },
        {
          "output_type": "stream",
          "name": "stdout",
          "text": [
            "Epoch [20/30] Validation Loss: 0.046737306796962405\n"
          ]
        },
        {
          "output_type": "stream",
          "name": "stderr",
          "text": [
            "Training: 100%|██████████| 168/168 [00:05<00:00, 31.95it/s, loss=0.022]\n"
          ]
        },
        {
          "output_type": "stream",
          "name": "stdout",
          "text": [
            "Epoch [21/30] Train Loss: 0.02201877897451119\n"
          ]
        },
        {
          "output_type": "stream",
          "name": "stderr",
          "text": [
            "Validation: 100%|██████████| 72/72 [00:02<00:00, 30.56it/s, loss=0.0506]\n"
          ]
        },
        {
          "output_type": "stream",
          "name": "stdout",
          "text": [
            "Epoch [21/30] Validation Loss: 0.050577840019589836\n"
          ]
        },
        {
          "output_type": "stream",
          "name": "stderr",
          "text": [
            "Training: 100%|██████████| 168/168 [00:05<00:00, 28.11it/s, loss=0.0274]\n"
          ]
        },
        {
          "output_type": "stream",
          "name": "stdout",
          "text": [
            "Epoch [22/30] Train Loss: 0.027364984396453587\n"
          ]
        },
        {
          "output_type": "stream",
          "name": "stderr",
          "text": [
            "Validation: 100%|██████████| 72/72 [00:02<00:00, 31.83it/s, loss=0.045]\n"
          ]
        },
        {
          "output_type": "stream",
          "name": "stdout",
          "text": [
            "Epoch [22/30] Validation Loss: 0.04503257767871421\n"
          ]
        },
        {
          "output_type": "stream",
          "name": "stderr",
          "text": [
            "Training: 100%|██████████| 168/168 [00:06<00:00, 27.32it/s, loss=0.027]\n"
          ]
        },
        {
          "output_type": "stream",
          "name": "stdout",
          "text": [
            "Epoch [23/30] Train Loss: 0.026974615275575854\n"
          ]
        },
        {
          "output_type": "stream",
          "name": "stderr",
          "text": [
            "Validation: 100%|██████████| 72/72 [00:02<00:00, 32.72it/s, loss=0.046]\n"
          ]
        },
        {
          "output_type": "stream",
          "name": "stdout",
          "text": [
            "Epoch [23/30] Validation Loss: 0.04601384805662039\n"
          ]
        },
        {
          "output_type": "stream",
          "name": "stderr",
          "text": [
            "Training: 100%|██████████| 168/168 [00:05<00:00, 30.21it/s, loss=0.0247]\n"
          ]
        },
        {
          "output_type": "stream",
          "name": "stdout",
          "text": [
            "Epoch [24/30] Train Loss: 0.024679075321121974\n"
          ]
        },
        {
          "output_type": "stream",
          "name": "stderr",
          "text": [
            "Validation: 100%|██████████| 72/72 [00:02<00:00, 28.49it/s, loss=0.052]\n"
          ]
        },
        {
          "output_type": "stream",
          "name": "stdout",
          "text": [
            "Epoch [24/30] Validation Loss: 0.051963286942938995\n"
          ]
        },
        {
          "output_type": "stream",
          "name": "stderr",
          "text": [
            "Training: 100%|██████████| 168/168 [00:05<00:00, 28.77it/s, loss=0.0227]\n"
          ]
        },
        {
          "output_type": "stream",
          "name": "stdout",
          "text": [
            "Epoch [25/30] Train Loss: 0.02269305546247952\n"
          ]
        },
        {
          "output_type": "stream",
          "name": "stderr",
          "text": [
            "Validation: 100%|██████████| 72/72 [00:02<00:00, 26.43it/s, loss=0.0425]\n"
          ]
        },
        {
          "output_type": "stream",
          "name": "stdout",
          "text": [
            "Epoch [25/30] Validation Loss: 0.04245810768144212\n"
          ]
        },
        {
          "output_type": "stream",
          "name": "stderr",
          "text": [
            "Training: 100%|██████████| 168/168 [00:06<00:00, 26.58it/s, loss=0.0244]\n"
          ]
        },
        {
          "output_type": "stream",
          "name": "stdout",
          "text": [
            "Epoch [26/30] Train Loss: 0.024409375068769026\n"
          ]
        },
        {
          "output_type": "stream",
          "name": "stderr",
          "text": [
            "Validation: 100%|██████████| 72/72 [00:02<00:00, 31.16it/s, loss=0.0426]\n"
          ]
        },
        {
          "output_type": "stream",
          "name": "stdout",
          "text": [
            "Epoch [26/30] Validation Loss: 0.0425777312912285\n"
          ]
        },
        {
          "output_type": "stream",
          "name": "stderr",
          "text": [
            "Training: 100%|██████████| 168/168 [00:05<00:00, 30.55it/s, loss=0.026]\n"
          ]
        },
        {
          "output_type": "stream",
          "name": "stdout",
          "text": [
            "Epoch [27/30] Train Loss: 0.02596881687198523\n"
          ]
        },
        {
          "output_type": "stream",
          "name": "stderr",
          "text": [
            "Validation: 100%|██████████| 72/72 [00:02<00:00, 27.29it/s, loss=0.0372]\n"
          ]
        },
        {
          "output_type": "stream",
          "name": "stdout",
          "text": [
            "Epoch [27/30] Validation Loss: 0.03724991662567037\n"
          ]
        },
        {
          "output_type": "stream",
          "name": "stderr",
          "text": [
            "Training: 100%|██████████| 168/168 [00:07<00:00, 21.93it/s, loss=0.0276]\n"
          ]
        },
        {
          "output_type": "stream",
          "name": "stdout",
          "text": [
            "Epoch [28/30] Train Loss: 0.027648606950043314\n"
          ]
        },
        {
          "output_type": "stream",
          "name": "stderr",
          "text": [
            "Validation: 100%|██████████| 72/72 [00:04<00:00, 16.91it/s, loss=0.0443]\n"
          ]
        },
        {
          "output_type": "stream",
          "name": "stdout",
          "text": [
            "Epoch [28/30] Validation Loss: 0.04432549775060579\n"
          ]
        },
        {
          "output_type": "stream",
          "name": "stderr",
          "text": [
            "Training: 100%|██████████| 168/168 [00:06<00:00, 24.64it/s, loss=0.0292]\n"
          ]
        },
        {
          "output_type": "stream",
          "name": "stdout",
          "text": [
            "Epoch [29/30] Train Loss: 0.029202995721615957\n"
          ]
        },
        {
          "output_type": "stream",
          "name": "stderr",
          "text": [
            "Validation: 100%|██████████| 72/72 [00:03<00:00, 23.81it/s, loss=0.0453]\n"
          ]
        },
        {
          "output_type": "stream",
          "name": "stdout",
          "text": [
            "Epoch [29/30] Validation Loss: 0.04532906108960964\n"
          ]
        },
        {
          "output_type": "stream",
          "name": "stderr",
          "text": [
            "Training: 100%|██████████| 168/168 [00:06<00:00, 27.78it/s, loss=0.017]\n"
          ]
        },
        {
          "output_type": "stream",
          "name": "stdout",
          "text": [
            "Epoch [30/30] Train Loss: 0.016994555830738785\n"
          ]
        },
        {
          "output_type": "stream",
          "name": "stderr",
          "text": [
            "Validation: 100%|██████████| 72/72 [00:02<00:00, 33.17it/s, loss=0.0497]"
          ]
        },
        {
          "output_type": "stream",
          "name": "stdout",
          "text": [
            "Epoch [30/30] Validation Loss: 0.049672105197689435\n"
          ]
        },
        {
          "output_type": "stream",
          "name": "stderr",
          "text": [
            "\n"
          ]
        }
      ],
      "source": [
        "train_loss_lst, val_loss_lst = train(train_loader, val_loader, \"subset1\", net, epochs=30)"
      ],
      "id": "jOxDWrOwLo5-"
    },
    {
      "cell_type": "code",
      "execution_count": null,
      "metadata": {
        "cell_ktag": "1OwQKpKKP4yj",
        "id": "s6gBHCxJLo5_",
        "outputId": "66b9b9a8-d44a-4e93-b42c-f47ec3cac4d0",
        "colab": {
          "base_uri": "https://localhost:8080/",
          "height": 430
        }
      },
      "outputs": [
        {
          "output_type": "display_data",
          "data": {
            "text/plain": [
              "<Figure size 640x480 with 1 Axes>"
            ],
            "image/png": "[encoded data removed]"
          },
          "metadata": {}
        }
      ],
      "source": [
        "plot_losses(train_loss_lst,val_loss_lst)"
      ],
      "id": "s6gBHCxJLo5_"
    },
    {
      "cell_type": "code",
      "execution_count": null,
      "metadata": {
        "cell_ktag": "1OwQKpKKP4yj",
        "id": "1vIV_-i6Lo5_"
      },
      "outputs": [],
      "source": [
        "# save the model\n",
        "path1=\"/content/bieldavid_model_subset1.pth\"\n",
        "torch.save(net,path1)\n",
        "\n",
        "path2=\"/content/bieldavid_model_subset1_state_dict.pth\"\n",
        "# Save the state dictionary\n",
        "torch.save(net.state_dict(), path2)\n"
      ],
      "id": "1vIV_-i6Lo5_"
    },
    {
      "cell_type": "markdown",
      "metadata": {
        "cell_ktag": "1OwQKpKKP4yj",
        "id": "0M77HfDmLo5_"
      },
      "source": [
        "# Otherwise load an already pre-trained model\n",
        "Either the one you have created above, either the one already available at https://www.lri.fr/~gcharpia/deeppractice/2024/TP4/models/\n"
      ],
      "id": "0M77HfDmLo5_"
    },
    {
      "cell_type": "code",
      "execution_count": null,
      "metadata": {
        "cell_ktag": "1OwQKpKKP4yj",
        "id": "JiwHeLAsLo5_"
      },
      "outputs": [],
      "source": [
        "path1=\"/content/bieldavid_model_subset1.pth\"\n",
        "net=torch.load(path1).to(device)"
      ],
      "id": "JiwHeLAsLo5_"
    },
    {
      "cell_type": "markdown",
      "metadata": {
        "cell_ktag": "1OwQKpKKP4yj",
        "id": "isElgjgjLo5_"
      },
      "source": [
        "# Count the number of weights & compare it with parameters added by LoRA"
      ],
      "id": "isElgjgjLo5_"
    },
    {
      "cell_type": "code",
      "execution_count": null,
      "metadata": {
        "cell_ktag": "1OwQKpKKP4yj",
        "id": "DV63rwVJLo5_"
      },
      "outputs": [],
      "source": [
        "original_weights = {}\n",
        "for name, param in net.named_parameters():\n",
        "    original_weights[name] = param.clone().detach()"
      ],
      "id": "DV63rwVJLo5_"
    },
    {
      "cell_type": "code",
      "execution_count": null,
      "metadata": {
        "cell_ktag": "1OwQKpKKP4yj",
        "id": "V2BfgKKvLo5_",
        "outputId": "7f0b5e98-689d-483c-dbb6-654d45674422",
        "colab": {
          "base_uri": "https://localhost:8080/"
        }
      },
      "outputs": [
        {
          "output_type": "stream",
          "name": "stdout",
          "text": [
            "Layer 1: W: torch.Size([1000, 784]) + B: torch.Size([1000])\n",
            "Layer 2: W: torch.Size([2000, 1000]) + B: torch.Size([2000])\n",
            "Layer 3: W: torch.Size([5, 2000]) + B: torch.Size([5])\n",
            "Total number of parameters: 2,797,005\n"
          ]
        }
      ],
      "source": [
        "# Print the size of the weights matrices of the network\n",
        "# Save the count of the total number of parameters\n",
        "net.eval()\n",
        "total_parameters_original = 0\n",
        "for index, layer in enumerate([net.linear1, net.linear2, net.linear3]):\n",
        "    total_parameters_original += layer.weight.nelement() + layer.bias.nelement()\n",
        "    print(f'Layer {index+1}: W: {layer.weight.shape} + B: {layer.bias.shape}')\n",
        "print(f'Total number of parameters: {total_parameters_original:,}')\n"
      ],
      "id": "V2BfgKKvLo5_"
    },
    {
      "cell_type": "markdown",
      "metadata": {
        "cell_ktag": "1OwQKpKKP4yj",
        "id": "dXeKgZqsLo6A"
      },
      "source": [
        "# Test the model on digits 0...4"
      ],
      "id": "dXeKgZqsLo6A"
    },
    {
      "cell_type": "code",
      "source": [
        "def test(loader, name, net, wrong_counts):\n",
        "    correct = 0\n",
        "    total = 0\n",
        "\n",
        "    net.eval()\n",
        "    with torch.no_grad():\n",
        "        for data in tqdm(loader, desc=name):\n",
        "            x, y = data\n",
        "            x = x.to(device)\n",
        "            y = y.to(device)\n",
        "            y = process_labels(name, y)\n",
        "            output = net(x.view(-1, 784))\n",
        "            for idx, i in enumerate(output):\n",
        "                if torch.argmax(i) == y[idx]:\n",
        "                    correct += 1\n",
        "                else:\n",
        "                    wrong_digit = y[idx].item() + 5 if 'subset2' in name else y[idx].item()\n",
        "                    wrong_counts[wrong_digit] += 1\n",
        "\n",
        "                total += 1\n",
        "\n",
        "    accuracy = round(correct / total, 3)\n",
        "    print(f'Accuracy: {accuracy}')\n",
        "    for key, value in wrong_counts.items():\n",
        "        print(f'Wrong counts for the digit {key}: {value}')\n",
        "\n",
        "    return accuracy"
      ],
      "metadata": {
        "id": "lPB9C2E4LxCJ"
      },
      "id": "lPB9C2E4LxCJ",
      "execution_count": null,
      "outputs": []
    },
    {
      "cell_type": "code",
      "execution_count": null,
      "metadata": {
        "cell_ktag": "1OwQKpKKP4yj",
        "id": "-AIK-6dXLo6A",
        "outputId": "2f6c25ca-a879-47af-9ed4-3380787fe415",
        "colab": {
          "base_uri": "https://localhost:8080/"
        }
      },
      "outputs": [
        {
          "output_type": "stream",
          "name": "stderr",
          "text": [
            "Testing: 100%|██████████| 41/41 [00:01<00:00, 26.52it/s]"
          ]
        },
        {
          "output_type": "stream",
          "name": "stdout",
          "text": [
            "Accuracy: 0.992\n",
            "Wrong counts for the digit 0: 4\n",
            "Wrong counts for the digit 1: 9\n",
            "Wrong counts for the digit 2: 18\n",
            "Wrong counts for the digit 3: 6\n",
            "Wrong counts for the digit 4: 5\n"
          ]
        },
        {
          "output_type": "stream",
          "name": "stderr",
          "text": [
            "\n"
          ]
        },
        {
          "output_type": "execute_result",
          "data": {
            "text/plain": [
              "0.992"
            ]
          },
          "metadata": {},
          "execution_count": 9
        }
      ],
      "source": [
        "\n",
        "test(test_loader, \"Testing\", net, {i: 0 for i in range(5)})\n"
      ],
      "id": "-AIK-6dXLo6A"
    },
    {
      "cell_type": "markdown",
      "metadata": {
        "cell_ktag": "1OwQKpKKP4yj",
        "id": "ahs3ddUmLo6A"
      },
      "source": [
        "# Define train, validation, test sets for digits 5...9"
      ],
      "id": "ahs3ddUmLo6A"
    },
    {
      "cell_type": "markdown",
      "metadata": {
        "cell_ktag": "1OwQKpKKP4yj",
        "id": "HFUyrXh7Lo6A"
      },
      "source": [
        "__Question 1 (0.25 points) :__"
      ],
      "id": "HFUyrXh7Lo6A"
    },
    {
      "cell_type": "code",
      "execution_count": null,
      "metadata": {
        "cell_ktag": "1OwQKpKKP4yj",
        "id": "vJQV7e2nLo6A"
      },
      "outputs": [],
      "source": [
        "#same code as before except for the mask\n",
        "\n",
        "# create a mask to filter indices for each label, retrieve digits 5...9\n",
        "\n",
        "class_names = [5, 6, 7, 8, 9]\n",
        "train_mask_subset2 = torch.tensor([label in class_names for label in mnist_train.targets])\n",
        "test_mask_subset2 = torch.tensor([label in class_names for label in mnist_test.targets])\n",
        "\n",
        "# Create Subset datasets for train, validation, and test\n",
        "train_dataset_subset2 = Subset(mnist_train, torch.where(train_mask_subset2)[0])\n",
        "test_dataset_subset2 = Subset(mnist_test, torch.where(test_mask_subset2)[0])\n",
        "\n",
        "# split train into train & validation\n",
        "train_size_subset2 = int(0.7 * len(train_dataset_subset2))\n",
        "val_size_subset2 = len(train_dataset_subset2) - train_size_subset2\n",
        "train_dataset_subset2, val_dataset_subset2 = random_split(train_dataset_subset2, [train_size_subset2, val_size_subset2])\n",
        "\n",
        "train_loader_subset2 = DataLoader(train_dataset_subset2, batch_size=batch_size, shuffle=True)\n",
        "val_loader_subset2 = DataLoader(val_dataset_subset2, batch_size=batch_size, shuffle=False)\n",
        "test_loader_subset2 = DataLoader(test_dataset_subset2, batch_size=batch_size, shuffle=False)\n"
      ],
      "id": "vJQV7e2nLo6A"
    },
    {
      "cell_type": "markdown",
      "metadata": {
        "cell_ktag": "1OwQKpKKP4yj",
        "id": "ZDDp8Zi8Lo6A"
      },
      "source": [
        "# Verify that pre-trained model on digits 0...4 is bad on digits 5...9"
      ],
      "id": "ZDDp8Zi8Lo6A"
    },
    {
      "cell_type": "markdown",
      "metadata": {
        "cell_ktag": "1OwQKpKKP4yj",
        "id": "G72XJGX7Lo6A"
      },
      "source": [
        "__Question 2 (0.25 points) :__"
      ],
      "id": "G72XJGX7Lo6A"
    },
    {
      "cell_type": "markdown",
      "metadata": {
        "cell_ktag": "1OwQKpKKP4yj",
        "id": "08hj3h9dLo6A"
      },
      "source": [
        "You should display the number of wrong predictions for each digits & global accuracy. \\\n",
        "Note that it's better than random guess ($\\frac{1}{5}\\times 100= $20%) for digit 8 and 9 because 3 looks like 8 and 4 looks like 9\n"
      ],
      "id": "08hj3h9dLo6A"
    },
    {
      "cell_type": "code",
      "execution_count": null,
      "metadata": {
        "cell_ktag": "1OwQKpKKP4yj",
        "id": "ILOcifv_Lo6B",
        "colab": {
          "base_uri": "https://localhost:8080/"
        },
        "outputId": "0435abaa-75b1-4efa-b87a-7c256ffd1aa9"
      },
      "outputs": [
        {
          "output_type": "stream",
          "name": "stderr",
          "text": [
            "Testing subset2: 100%|██████████| 38/38 [00:01<00:00, 29.55it/s]"
          ]
        },
        {
          "output_type": "stream",
          "name": "stdout",
          "text": [
            "Accuracy: 0.413\n",
            "Wrong counts for the digit 0: 0\n",
            "Wrong counts for the digit 1: 0\n",
            "Wrong counts for the digit 2: 0\n",
            "Wrong counts for the digit 3: 0\n",
            "Wrong counts for the digit 4: 0\n",
            "Wrong counts for the digit 5: 772\n",
            "Wrong counts for the digit 6: 952\n",
            "Wrong counts for the digit 7: 600\n",
            "Wrong counts for the digit 8: 454\n",
            "Wrong counts for the digit 9: 77\n"
          ]
        },
        {
          "output_type": "stream",
          "name": "stderr",
          "text": [
            "\n"
          ]
        },
        {
          "output_type": "execute_result",
          "data": {
            "text/plain": [
              "0.413"
            ]
          },
          "metadata": {},
          "execution_count": 11
        }
      ],
      "source": [
        "test(test_loader_subset2, \"Testing subset2\", net, {i: 0 for i in range(10)})\n",
        "\n",
        "# Obviously the wrong counts of digits 0 to 4 are zero because these digirs do not exist in test_loader_subset2.\n",
        "# We observe an accuracy of 0.413, which is higher than random guess as expected"
      ],
      "id": "ILOcifv_Lo6B"
    },
    {
      "cell_type": "markdown",
      "metadata": {
        "cell_ktag": "1OwQKpKKP4yj",
        "id": "SnqyPZdnLo6B"
      },
      "source": [
        "# Fine-tune the model on digits 5...9"
      ],
      "id": "SnqyPZdnLo6B"
    },
    {
      "cell_type": "markdown",
      "metadata": {
        "cell_ktag": "1OwQKpKKP4yj",
        "id": "X3LvohsNLo6B"
      },
      "source": [
        "__Question 3 (0.5 points) :__"
      ],
      "id": "X3LvohsNLo6B"
    },
    {
      "cell_type": "markdown",
      "metadata": {
        "cell_ktag": "1OwQKpKKP4yj",
        "id": "i2MaXFw4Lo6B"
      },
      "source": [
        "You will fine-tune all the layers of the model (ie. all parameters of all fully-connected matrices) for 10 epochs"
      ],
      "id": "i2MaXFw4Lo6B"
    },
    {
      "cell_type": "code",
      "execution_count": null,
      "metadata": {
        "cell_ktag": "1OwQKpKKP4yj",
        "id": "-h6AysOcLo6B",
        "colab": {
          "base_uri": "https://localhost:8080/"
        },
        "outputId": "33177c75-e3a7-40e6-d10d-96aef659944d"
      },
      "outputs": [
        {
          "output_type": "stream",
          "name": "stderr",
          "text": [
            "Training: 100%|██████████| 161/161 [00:05<00:00, 29.58it/s, loss=6.43]\n"
          ]
        },
        {
          "output_type": "stream",
          "name": "stdout",
          "text": [
            "Epoch [1/30] Train Loss: 6.431466542415738\n"
          ]
        },
        {
          "output_type": "stream",
          "name": "stderr",
          "text": [
            "Validation: 100%|██████████| 69/69 [00:02<00:00, 24.85it/s, loss=4.83]\n"
          ]
        },
        {
          "output_type": "stream",
          "name": "stdout",
          "text": [
            "Epoch [1/30] Validation Loss: 4.825417204179626\n"
          ]
        },
        {
          "output_type": "stream",
          "name": "stderr",
          "text": [
            "Training: 100%|██████████| 161/161 [00:08<00:00, 19.97it/s, loss=4.18]\n"
          ]
        },
        {
          "output_type": "stream",
          "name": "stdout",
          "text": [
            "Epoch [2/30] Train Loss: 4.184570537590832\n"
          ]
        },
        {
          "output_type": "stream",
          "name": "stderr",
          "text": [
            "Validation: 100%|██████████| 69/69 [00:02<00:00, 32.05it/s, loss=2.79]\n"
          ]
        },
        {
          "output_type": "stream",
          "name": "stdout",
          "text": [
            "Epoch [2/30] Validation Loss: 2.792764071105183\n"
          ]
        },
        {
          "output_type": "stream",
          "name": "stderr",
          "text": [
            "Training: 100%|██████████| 161/161 [00:06<00:00, 25.75it/s, loss=2.46]\n"
          ]
        },
        {
          "output_type": "stream",
          "name": "stdout",
          "text": [
            "Epoch [3/30] Train Loss: 2.4602738396721597\n"
          ]
        },
        {
          "output_type": "stream",
          "name": "stderr",
          "text": [
            "Validation: 100%|██████████| 69/69 [00:02<00:00, 27.97it/s, loss=1.59]\n"
          ]
        },
        {
          "output_type": "stream",
          "name": "stdout",
          "text": [
            "Epoch [3/30] Validation Loss: 1.5912655401920928\n"
          ]
        },
        {
          "output_type": "stream",
          "name": "stderr",
          "text": [
            "Training: 100%|██████████| 161/161 [00:07<00:00, 20.85it/s, loss=1.56]\n"
          ]
        },
        {
          "output_type": "stream",
          "name": "stdout",
          "text": [
            "Epoch [4/30] Train Loss: 1.5627476543373202\n"
          ]
        },
        {
          "output_type": "stream",
          "name": "stderr",
          "text": [
            "Validation: 100%|██████████| 69/69 [00:02<00:00, 33.04it/s, loss=0.927]\n"
          ]
        },
        {
          "output_type": "stream",
          "name": "stdout",
          "text": [
            "Epoch [4/30] Validation Loss: 0.9266611916431482\n"
          ]
        },
        {
          "output_type": "stream",
          "name": "stderr",
          "text": [
            "Training: 100%|██████████| 161/161 [00:05<00:00, 27.44it/s, loss=1.02]\n"
          ]
        },
        {
          "output_type": "stream",
          "name": "stdout",
          "text": [
            "Epoch [5/30] Train Loss: 1.0249663184148183\n"
          ]
        },
        {
          "output_type": "stream",
          "name": "stderr",
          "text": [
            "Validation: 100%|██████████| 69/69 [00:02<00:00, 30.05it/s, loss=0.604]\n"
          ]
        },
        {
          "output_type": "stream",
          "name": "stdout",
          "text": [
            "Epoch [5/30] Validation Loss: 0.6044821626898171\n"
          ]
        },
        {
          "output_type": "stream",
          "name": "stderr",
          "text": [
            "Training: 100%|██████████| 161/161 [00:05<00:00, 27.15it/s, loss=0.756]\n"
          ]
        },
        {
          "output_type": "stream",
          "name": "stdout",
          "text": [
            "Epoch [6/30] Train Loss: 0.7561442998255262\n"
          ]
        },
        {
          "output_type": "stream",
          "name": "stderr",
          "text": [
            "Validation: 100%|██████████| 69/69 [00:02<00:00, 23.76it/s, loss=0.454]\n"
          ]
        },
        {
          "output_type": "stream",
          "name": "stdout",
          "text": [
            "Epoch [6/30] Validation Loss: 0.4542901183384052\n"
          ]
        },
        {
          "output_type": "stream",
          "name": "stderr",
          "text": [
            "Training: 100%|██████████| 161/161 [00:07<00:00, 22.39it/s, loss=0.603]\n"
          ]
        },
        {
          "output_type": "stream",
          "name": "stdout",
          "text": [
            "Epoch [7/30] Train Loss: 0.6026537233257886\n"
          ]
        },
        {
          "output_type": "stream",
          "name": "stderr",
          "text": [
            "Validation: 100%|██████████| 69/69 [00:02<00:00, 33.16it/s, loss=0.371]\n"
          ]
        },
        {
          "output_type": "stream",
          "name": "stdout",
          "text": [
            "Epoch [7/30] Validation Loss: 0.37062859729580255\n"
          ]
        },
        {
          "output_type": "stream",
          "name": "stderr",
          "text": [
            "Training: 100%|██████████| 161/161 [00:05<00:00, 31.53it/s, loss=0.503]\n"
          ]
        },
        {
          "output_type": "stream",
          "name": "stdout",
          "text": [
            "Epoch [8/30] Train Loss: 0.5029750792136104\n"
          ]
        },
        {
          "output_type": "stream",
          "name": "stderr",
          "text": [
            "Validation: 100%|██████████| 69/69 [00:02<00:00, 26.23it/s, loss=0.315]\n"
          ]
        },
        {
          "output_type": "stream",
          "name": "stdout",
          "text": [
            "Epoch [8/30] Validation Loss: 0.315378260569296\n"
          ]
        },
        {
          "output_type": "stream",
          "name": "stderr",
          "text": [
            "Training: 100%|██████████| 161/161 [00:05<00:00, 31.21it/s, loss=0.432]\n"
          ]
        },
        {
          "output_type": "stream",
          "name": "stdout",
          "text": [
            "Epoch [9/30] Train Loss: 0.43151430591293005\n"
          ]
        },
        {
          "output_type": "stream",
          "name": "stderr",
          "text": [
            "Validation: 100%|██████████| 69/69 [00:02<00:00, 32.95it/s, loss=0.276]\n"
          ]
        },
        {
          "output_type": "stream",
          "name": "stdout",
          "text": [
            "Epoch [9/30] Validation Loss: 0.2757651296214781\n"
          ]
        },
        {
          "output_type": "stream",
          "name": "stderr",
          "text": [
            "Training: 100%|██████████| 161/161 [00:05<00:00, 27.50it/s, loss=0.39]\n"
          ]
        },
        {
          "output_type": "stream",
          "name": "stdout",
          "text": [
            "Epoch [10/30] Train Loss: 0.3902722374067543\n"
          ]
        },
        {
          "output_type": "stream",
          "name": "stderr",
          "text": [
            "Validation: 100%|██████████| 69/69 [00:02<00:00, 32.72it/s, loss=0.245]\n"
          ]
        },
        {
          "output_type": "stream",
          "name": "stdout",
          "text": [
            "Epoch [10/30] Validation Loss: 0.24500575650861298\n"
          ]
        },
        {
          "output_type": "stream",
          "name": "stderr",
          "text": [
            "Training: 100%|██████████| 161/161 [00:05<00:00, 31.90it/s, loss=0.347]\n"
          ]
        },
        {
          "output_type": "stream",
          "name": "stdout",
          "text": [
            "Epoch [11/30] Train Loss: 0.3473641015357853\n"
          ]
        },
        {
          "output_type": "stream",
          "name": "stderr",
          "text": [
            "Validation: 100%|██████████| 69/69 [00:02<00:00, 33.23it/s, loss=0.222]\n"
          ]
        },
        {
          "output_type": "stream",
          "name": "stdout",
          "text": [
            "Epoch [11/30] Validation Loss: 0.22216199338436127\n"
          ]
        },
        {
          "output_type": "stream",
          "name": "stderr",
          "text": [
            "Training: 100%|██████████| 161/161 [00:05<00:00, 28.44it/s, loss=0.319]\n"
          ]
        },
        {
          "output_type": "stream",
          "name": "stdout",
          "text": [
            "Epoch [12/30] Train Loss: 0.31942751392814683\n"
          ]
        },
        {
          "output_type": "stream",
          "name": "stderr",
          "text": [
            "Validation: 100%|██████████| 69/69 [00:02<00:00, 32.61it/s, loss=0.203]\n"
          ]
        },
        {
          "output_type": "stream",
          "name": "stdout",
          "text": [
            "Epoch [12/30] Validation Loss: 0.20281446627948596\n"
          ]
        },
        {
          "output_type": "stream",
          "name": "stderr",
          "text": [
            "Training: 100%|██████████| 161/161 [00:05<00:00, 28.72it/s, loss=0.292]\n"
          ]
        },
        {
          "output_type": "stream",
          "name": "stdout",
          "text": [
            "Epoch [13/30] Train Loss: 0.2917295309327404\n"
          ]
        },
        {
          "output_type": "stream",
          "name": "stderr",
          "text": [
            "Validation: 100%|██████████| 69/69 [00:02<00:00, 27.62it/s, loss=0.187]\n"
          ]
        },
        {
          "output_type": "stream",
          "name": "stdout",
          "text": [
            "Epoch [13/30] Validation Loss: 0.18746492784956229\n"
          ]
        },
        {
          "output_type": "stream",
          "name": "stderr",
          "text": [
            "Training: 100%|██████████| 161/161 [00:05<00:00, 30.23it/s, loss=0.273]\n"
          ]
        },
        {
          "output_type": "stream",
          "name": "stdout",
          "text": [
            "Epoch [14/30] Train Loss: 0.2726252949478463\n"
          ]
        },
        {
          "output_type": "stream",
          "name": "stderr",
          "text": [
            "Validation: 100%|██████████| 69/69 [00:02<00:00, 31.93it/s, loss=0.175]\n"
          ]
        },
        {
          "output_type": "stream",
          "name": "stdout",
          "text": [
            "Epoch [14/30] Validation Loss: 0.1747133787991344\n"
          ]
        },
        {
          "output_type": "stream",
          "name": "stderr",
          "text": [
            "Training: 100%|██████████| 161/161 [00:05<00:00, 27.23it/s, loss=0.254]\n"
          ]
        },
        {
          "output_type": "stream",
          "name": "stdout",
          "text": [
            "Epoch [15/30] Train Loss: 0.2542461030046392\n"
          ]
        },
        {
          "output_type": "stream",
          "name": "stderr",
          "text": [
            "Validation: 100%|██████████| 69/69 [00:02<00:00, 31.24it/s, loss=0.163]\n"
          ]
        },
        {
          "output_type": "stream",
          "name": "stdout",
          "text": [
            "Epoch [15/30] Validation Loss: 0.16322625039712244\n"
          ]
        },
        {
          "output_type": "stream",
          "name": "stderr",
          "text": [
            "Training: 100%|██████████| 161/161 [00:05<00:00, 29.76it/s, loss=0.24]\n"
          ]
        },
        {
          "output_type": "stream",
          "name": "stdout",
          "text": [
            "Epoch [16/30] Train Loss: 0.23984844640175007\n"
          ]
        },
        {
          "output_type": "stream",
          "name": "stderr",
          "text": [
            "Validation: 100%|██████████| 69/69 [00:02<00:00, 25.78it/s, loss=0.154]\n"
          ]
        },
        {
          "output_type": "stream",
          "name": "stdout",
          "text": [
            "Epoch [16/30] Validation Loss: 0.15380218662861464\n"
          ]
        },
        {
          "output_type": "stream",
          "name": "stderr",
          "text": [
            "Training: 100%|██████████| 161/161 [00:05<00:00, 30.85it/s, loss=0.221]\n"
          ]
        },
        {
          "output_type": "stream",
          "name": "stdout",
          "text": [
            "Epoch [17/30] Train Loss: 0.2211199768396638\n"
          ]
        },
        {
          "output_type": "stream",
          "name": "stderr",
          "text": [
            "Validation: 100%|██████████| 69/69 [00:02<00:00, 32.51it/s, loss=0.146]\n"
          ]
        },
        {
          "output_type": "stream",
          "name": "stdout",
          "text": [
            "Epoch [17/30] Validation Loss: 0.14595541304004364\n"
          ]
        },
        {
          "output_type": "stream",
          "name": "stderr",
          "text": [
            "Training: 100%|██████████| 161/161 [00:06<00:00, 26.29it/s, loss=0.214]\n"
          ]
        },
        {
          "output_type": "stream",
          "name": "stdout",
          "text": [
            "Epoch [18/30] Train Loss: 0.21438234137452167\n"
          ]
        },
        {
          "output_type": "stream",
          "name": "stderr",
          "text": [
            "Validation: 100%|██████████| 69/69 [00:02<00:00, 33.00it/s, loss=0.14]\n"
          ]
        },
        {
          "output_type": "stream",
          "name": "stdout",
          "text": [
            "Epoch [18/30] Validation Loss: 0.1395786680497121\n"
          ]
        },
        {
          "output_type": "stream",
          "name": "stderr",
          "text": [
            "Training: 100%|██████████| 161/161 [00:05<00:00, 31.95it/s, loss=0.205]\n"
          ]
        },
        {
          "output_type": "stream",
          "name": "stdout",
          "text": [
            "Epoch [19/30] Train Loss: 0.20544351651246504\n"
          ]
        },
        {
          "output_type": "stream",
          "name": "stderr",
          "text": [
            "Validation: 100%|██████████| 69/69 [00:02<00:00, 24.48it/s, loss=0.134]\n"
          ]
        },
        {
          "output_type": "stream",
          "name": "stdout",
          "text": [
            "Epoch [19/30] Validation Loss: 0.13376583850038223\n"
          ]
        },
        {
          "output_type": "stream",
          "name": "stderr",
          "text": [
            "Training: 100%|██████████| 161/161 [00:05<00:00, 31.24it/s, loss=0.189]\n"
          ]
        },
        {
          "output_type": "stream",
          "name": "stdout",
          "text": [
            "Epoch [20/30] Train Loss: 0.18900881175483977\n"
          ]
        },
        {
          "output_type": "stream",
          "name": "stderr",
          "text": [
            "Validation: 100%|██████████| 69/69 [00:02<00:00, 33.47it/s, loss=0.128]\n"
          ]
        },
        {
          "output_type": "stream",
          "name": "stdout",
          "text": [
            "Epoch [20/30] Validation Loss: 0.1284295592079128\n"
          ]
        },
        {
          "output_type": "stream",
          "name": "stderr",
          "text": [
            "Training: 100%|██████████| 161/161 [00:05<00:00, 27.98it/s, loss=0.183]\n"
          ]
        },
        {
          "output_type": "stream",
          "name": "stdout",
          "text": [
            "Epoch [21/30] Train Loss: 0.18276519633783317\n"
          ]
        },
        {
          "output_type": "stream",
          "name": "stderr",
          "text": [
            "Validation: 100%|██████████| 69/69 [00:02<00:00, 31.45it/s, loss=0.124]\n"
          ]
        },
        {
          "output_type": "stream",
          "name": "stdout",
          "text": [
            "Epoch [21/30] Validation Loss: 0.12353664690601653\n"
          ]
        },
        {
          "output_type": "stream",
          "name": "stderr",
          "text": [
            "Training: 100%|██████████| 161/161 [00:05<00:00, 31.11it/s, loss=0.177]\n"
          ]
        },
        {
          "output_type": "stream",
          "name": "stdout",
          "text": [
            "Epoch [22/30] Train Loss: 0.17695234280935726\n"
          ]
        },
        {
          "output_type": "stream",
          "name": "stderr",
          "text": [
            "Validation: 100%|██████████| 69/69 [00:02<00:00, 31.84it/s, loss=0.119]\n"
          ]
        },
        {
          "output_type": "stream",
          "name": "stdout",
          "text": [
            "Epoch [22/30] Validation Loss: 0.11894668757483579\n"
          ]
        },
        {
          "output_type": "stream",
          "name": "stderr",
          "text": [
            "Training: 100%|██████████| 161/161 [00:05<00:00, 28.18it/s, loss=0.169]\n"
          ]
        },
        {
          "output_type": "stream",
          "name": "stdout",
          "text": [
            "Epoch [23/30] Train Loss: 0.16872410788576794\n"
          ]
        },
        {
          "output_type": "stream",
          "name": "stderr",
          "text": [
            "Validation: 100%|██████████| 69/69 [00:02<00:00, 31.78it/s, loss=0.115]\n"
          ]
        },
        {
          "output_type": "stream",
          "name": "stdout",
          "text": [
            "Epoch [23/30] Validation Loss: 0.11515400078201639\n"
          ]
        },
        {
          "output_type": "stream",
          "name": "stderr",
          "text": [
            "Training: 100%|██████████| 161/161 [00:05<00:00, 27.94it/s, loss=0.161]\n"
          ]
        },
        {
          "output_type": "stream",
          "name": "stdout",
          "text": [
            "Epoch [24/30] Train Loss: 0.16114209518299338\n"
          ]
        },
        {
          "output_type": "stream",
          "name": "stderr",
          "text": [
            "Validation: 100%|██████████| 69/69 [00:02<00:00, 31.29it/s, loss=0.112]\n"
          ]
        },
        {
          "output_type": "stream",
          "name": "stdout",
          "text": [
            "Epoch [24/30] Validation Loss: 0.11194760913866153\n"
          ]
        },
        {
          "output_type": "stream",
          "name": "stderr",
          "text": [
            "Training: 100%|██████████| 161/161 [00:05<00:00, 31.37it/s, loss=0.157]\n"
          ]
        },
        {
          "output_type": "stream",
          "name": "stdout",
          "text": [
            "Epoch [25/30] Train Loss: 0.15748398461789817\n"
          ]
        },
        {
          "output_type": "stream",
          "name": "stderr",
          "text": [
            "Validation: 100%|██████████| 69/69 [00:02<00:00, 31.65it/s, loss=0.108]\n"
          ]
        },
        {
          "output_type": "stream",
          "name": "stdout",
          "text": [
            "Epoch [25/30] Validation Loss: 0.10789330368456633\n"
          ]
        },
        {
          "output_type": "stream",
          "name": "stderr",
          "text": [
            "Training: 100%|██████████| 161/161 [00:05<00:00, 27.38it/s, loss=0.149]\n"
          ]
        },
        {
          "output_type": "stream",
          "name": "stdout",
          "text": [
            "Epoch [26/30] Train Loss: 0.14924380884314917\n"
          ]
        },
        {
          "output_type": "stream",
          "name": "stderr",
          "text": [
            "Validation: 100%|██████████| 69/69 [00:02<00:00, 32.17it/s, loss=0.105]\n"
          ]
        },
        {
          "output_type": "stream",
          "name": "stdout",
          "text": [
            "Epoch [26/30] Validation Loss: 0.10494459182887837\n"
          ]
        },
        {
          "output_type": "stream",
          "name": "stderr",
          "text": [
            "Training: 100%|██████████| 161/161 [00:05<00:00, 28.91it/s, loss=0.15]\n"
          ]
        },
        {
          "output_type": "stream",
          "name": "stdout",
          "text": [
            "Epoch [27/30] Train Loss: 0.1501147756989328\n"
          ]
        },
        {
          "output_type": "stream",
          "name": "stderr",
          "text": [
            "Validation: 100%|██████████| 69/69 [00:02<00:00, 26.66it/s, loss=0.102]\n"
          ]
        },
        {
          "output_type": "stream",
          "name": "stdout",
          "text": [
            "Epoch [27/30] Validation Loss: 0.10230520130067632\n"
          ]
        },
        {
          "output_type": "stream",
          "name": "stderr",
          "text": [
            "Training: 100%|██████████| 161/161 [00:05<00:00, 30.71it/s, loss=0.139]\n"
          ]
        },
        {
          "output_type": "stream",
          "name": "stdout",
          "text": [
            "Epoch [28/30] Train Loss: 0.13872486133105266\n"
          ]
        },
        {
          "output_type": "stream",
          "name": "stderr",
          "text": [
            "Validation: 100%|██████████| 69/69 [00:02<00:00, 30.36it/s, loss=0.1]\n"
          ]
        },
        {
          "output_type": "stream",
          "name": "stdout",
          "text": [
            "Epoch [28/30] Validation Loss: 0.1002654111471729\n"
          ]
        },
        {
          "output_type": "stream",
          "name": "stderr",
          "text": [
            "Training: 100%|██████████| 161/161 [00:06<00:00, 26.49it/s, loss=0.137]\n"
          ]
        },
        {
          "output_type": "stream",
          "name": "stdout",
          "text": [
            "Epoch [29/30] Train Loss: 0.13708453479668367\n"
          ]
        },
        {
          "output_type": "stream",
          "name": "stderr",
          "text": [
            "Validation: 100%|██████████| 69/69 [00:02<00:00, 31.47it/s, loss=0.0973]\n"
          ]
        },
        {
          "output_type": "stream",
          "name": "stdout",
          "text": [
            "Epoch [29/30] Validation Loss: 0.09729946744830711\n"
          ]
        },
        {
          "output_type": "stream",
          "name": "stderr",
          "text": [
            "Training: 100%|██████████| 161/161 [00:05<00:00, 30.61it/s, loss=0.137]\n"
          ]
        },
        {
          "output_type": "stream",
          "name": "stdout",
          "text": [
            "Epoch [30/30] Train Loss: 0.1371257230870842\n"
          ]
        },
        {
          "output_type": "stream",
          "name": "stderr",
          "text": [
            "Validation: 100%|██████████| 69/69 [00:02<00:00, 24.54it/s, loss=0.095]"
          ]
        },
        {
          "output_type": "stream",
          "name": "stdout",
          "text": [
            "Epoch [30/30] Validation Loss: 0.09500692763190338\n"
          ]
        },
        {
          "output_type": "stream",
          "name": "stderr",
          "text": [
            "\n"
          ]
        }
      ],
      "source": [
        "train_loss_subset2, val_loss_subset2 = train(train_loader_subset2, val_loader_subset2, \"subset2\", net, epochs=30) # 30 epochs to allow fair comparison with LoRA below"
      ],
      "id": "-h6AysOcLo6B"
    },
    {
      "cell_type": "code",
      "execution_count": null,
      "metadata": {
        "cell_ktag": "1OwQKpKKP4yj",
        "id": "BS6ewiWELo6B",
        "colab": {
          "base_uri": "https://localhost:8080/",
          "height": 430
        },
        "outputId": "aadd172d-2150-42fd-beec-8e5dc1c82a09"
      },
      "outputs": [
        {
          "output_type": "display_data",
          "data": {
            "text/plain": [
              "<Figure size 640x480 with 1 Axes>"
            ],
            "image/png": "[encoded data removed]"
          },
          "metadata": {}
        }
      ],
      "source": [
        "#plot the train and validation losses\n",
        "plot_losses(train_loss_subset2, val_loss_subset2)"
      ],
      "id": "BS6ewiWELo6B"
    },
    {
      "cell_type": "code",
      "execution_count": null,
      "metadata": {
        "cell_ktag": "1OwQKpKKP4yj",
        "id": "COXwuijbLo6B"
      },
      "outputs": [],
      "source": [
        "#test accuracy of fine-tuned model on digits 5...9\n",
        "# & save this number into a variable, we will need it for final plot\n",
        "\n",
        "path3=\"/content/bieldavid_model_subset2.pth\"\n",
        "torch.save(net,path3)"
      ],
      "id": "COXwuijbLo6B"
    },
    {
      "cell_type": "code",
      "source": [
        "# Cell to load the saved model\n",
        "\n",
        "path2=\"/content/bieldavid_model_subset1_state_dict.pth\"\n",
        "path3=\"/content/bieldavid_model_subset2.pth\"\n",
        "net=torch.load(path3).to(device)"
      ],
      "metadata": {
        "id": "1r_SgVK6gzcI"
      },
      "id": "1r_SgVK6gzcI",
      "execution_count": null,
      "outputs": []
    },
    {
      "cell_type": "code",
      "source": [
        "accuracy_subset2 = test(test_loader_subset2, \"Testing subset2\", net, {i: 0 for i in range(10)})\n",
        "\n",
        "# We get an accuracy of 0.97, which is pretty high"
      ],
      "metadata": {
        "colab": {
          "base_uri": "https://localhost:8080/"
        },
        "id": "9zPzk_jkhnsi",
        "outputId": "60c4b807-a733-441d-ed06-36d478558991"
      },
      "id": "9zPzk_jkhnsi",
      "execution_count": null,
      "outputs": [
        {
          "output_type": "stream",
          "name": "stderr",
          "text": [
            "Testing subset2: 100%|██████████| 38/38 [00:01<00:00, 30.38it/s]\n"
          ]
        },
        {
          "output_type": "stream",
          "name": "stdout",
          "text": [
            "Accuracy: 0.97\n",
            "Wrong counts for the digit 0: 0\n",
            "Wrong counts for the digit 1: 0\n",
            "Wrong counts for the digit 2: 0\n",
            "Wrong counts for the digit 3: 0\n",
            "Wrong counts for the digit 4: 0\n",
            "Wrong counts for the digit 5: 30\n",
            "Wrong counts for the digit 6: 14\n",
            "Wrong counts for the digit 7: 28\n",
            "Wrong counts for the digit 8: 32\n",
            "Wrong counts for the digit 9: 42\n"
          ]
        }
      ]
    },
    {
      "cell_type": "markdown",
      "metadata": {
        "cell_ktag": "1OwQKpKKP4yj",
        "id": "aquh0S6uLo6B"
      },
      "source": [
        "# Fine-tune the model on digits 5...9 with LoRA"
      ],
      "id": "aquh0S6uLo6B"
    },
    {
      "cell_type": "markdown",
      "metadata": {
        "cell_ktag": "1OwQKpKKP4yj",
        "id": "tUyGGS_TLo6C"
      },
      "source": [
        "__Question 4 (2.5 points) :__"
      ],
      "id": "tUyGGS_TLo6C"
    },
    {
      "cell_type": "markdown",
      "metadata": {
        "cell_ktag": "1OwQKpKKP4yj",
        "id": "Ypyvy8d0Lo6C"
      },
      "source": [
        "You will now implement one LoRA per layer"
      ],
      "id": "Ypyvy8d0Lo6C"
    },
    {
      "cell_type": "code",
      "source": [
        "import torch\n",
        "import torch.nn as nn\n",
        "import torch.nn.functional as F\n",
        "import torch.nn.init as init\n",
        "\n",
        "class ModifiedClassifier(nn.Module):\n",
        "    def __init__(self, lora_rank):\n",
        "        super(ModifiedClassifier, self).__init__()\n",
        "\n",
        "        # We first load the pretrained model\n",
        "        self.pretrained_net = classifier().to(device)\n",
        "        self.pretrained_net.load_state_dict(torch.load(path2))\n",
        "\n",
        "        self.relu = nn.ReLU()\n",
        "        self.dropout = nn.Dropout(0.5)\n",
        "\n",
        "        # We initialize parameters for LoRA with Xavier normal\n",
        "        self.l1_lora_B = nn.Parameter(torch.randn(self.pretrained_net.linear1.in_features, lora_rank))\n",
        "        self.l1_lora_A = nn.Parameter(torch.randn(lora_rank, self.pretrained_net.linear1.out_features))\n",
        "        init.xavier_normal_(self.l1_lora_B)\n",
        "        init.xavier_normal_(self.l1_lora_A)\n",
        "\n",
        "        self.l2_lora_B = nn.Parameter(torch.randn(self.pretrained_net.linear2.in_features, lora_rank))\n",
        "        self.l2_lora_A = nn.Parameter(torch.randn(lora_rank, self.pretrained_net.linear2.out_features))\n",
        "        init.xavier_normal_(self.l2_lora_B)\n",
        "        init.xavier_normal_(self.l2_lora_A)\n",
        "\n",
        "        self.l3_lora_B = nn.Parameter(torch.randn(self.pretrained_net.linear3.in_features, lora_rank))\n",
        "        self.l3_lora_A = nn.Parameter(torch.randn(lora_rank, self.pretrained_net.linear3.out_features))\n",
        "        init.xavier_normal_(self.l3_lora_B)\n",
        "        init.xavier_normal_(self.l3_lora_A)\n",
        "\n",
        "        # Freeze non-LoRA weights\n",
        "        for param in self.pretrained_net.parameters():\n",
        "            param.requires_grad = False\n",
        "\n",
        "    def lora_linear(self, x, original_layer, lora_B, lora_A):\n",
        "        # Implement LoRA adaptation using formula (3) from the LoRA paper\n",
        "        original_output = F.linear(x, original_layer.weight, original_layer.bias)\n",
        "        return original_output + x @ lora_B @ lora_A\n",
        "\n",
        "    def forward(self, input):\n",
        "        x = input.view(-1, 28*28)\n",
        "\n",
        "        # We apply LoRA for each layer\n",
        "        x = self.lora_linear(x, self.pretrained_net.linear1, self.l1_lora_B, self.l1_lora_A)\n",
        "        x = self.relu(x)\n",
        "        x = self.dropout(x)\n",
        "\n",
        "        x = self.lora_linear(x, self.pretrained_net.linear2, self.l2_lora_B, self.l2_lora_A)\n",
        "        x = self.relu(x)\n",
        "        x = self.dropout(x)\n",
        "\n",
        "        x = self.lora_linear(x, self.pretrained_net.linear3, self.l3_lora_B, self.l3_lora_A)\n",
        "\n",
        "        return x\n",
        "\n",
        "lora_rank = 1\n",
        "modified_net = ModifiedClassifier(lora_rank).to(device)"
      ],
      "metadata": {
        "id": "PDYv0gLqjzgh"
      },
      "id": "PDYv0gLqjzgh",
      "execution_count": null,
      "outputs": []
    },
    {
      "cell_type": "markdown",
      "metadata": {
        "cell_ktag": "1OwQKpKKP4yj",
        "id": "ftY_YEHGLo6C"
      },
      "source": [
        "Make a function that counts the number of parameters introduced by lora ( use the function torch.numel() )"
      ],
      "id": "ftY_YEHGLo6C"
    },
    {
      "cell_type": "code",
      "execution_count": null,
      "metadata": {
        "cell_ktag": "1OwQKpKKP4yj",
        "id": "j0o2uTyQLo6C",
        "colab": {
          "base_uri": "https://localhost:8080/"
        },
        "outputId": "be2411e3-3905-462d-f3f1-75a17044bd0d"
      },
      "outputs": [
        {
          "output_type": "stream",
          "name": "stdout",
          "text": [
            "Number of parameters introduced by LoRA: 6789\n"
          ]
        }
      ],
      "source": [
        "# We count the parameters introduced by lora layers\n",
        "def count_lora_parameters(model):\n",
        "    model.eval()\n",
        "    lora_param_count = 0\n",
        "    for name, param in model.named_parameters():\n",
        "        if 'lora' in name:\n",
        "            lora_param_count += torch.numel(param)\n",
        "    return lora_param_count\n",
        "\n",
        "print(\"Number of parameters introduced by LoRA:\", count_lora_parameters(modified_net))\n"
      ],
      "id": "j0o2uTyQLo6C"
    },
    {
      "cell_type": "markdown",
      "metadata": {
        "cell_ktag": "1OwQKpKKP4yj",
        "id": "UsBofBHRLo6D"
      },
      "source": [
        "# Fine-Tune using LoRA of rank 1"
      ],
      "id": "UsBofBHRLo6D"
    },
    {
      "cell_type": "markdown",
      "metadata": {
        "cell_ktag": "1OwQKpKKP4yj",
        "id": "CeUccSUzLo6D"
      },
      "source": [
        "__Question 5 (0.5 points) :__"
      ],
      "id": "CeUccSUzLo6D"
    },
    {
      "cell_type": "code",
      "execution_count": null,
      "metadata": {
        "cell_ktag": "1OwQKpKKP4yj",
        "id": "dZ2T50j2Lo6D",
        "colab": {
          "base_uri": "https://localhost:8080/"
        },
        "outputId": "5a88589a-ebc9-4cc1-aec3-c274891f5c35"
      },
      "outputs": [
        {
          "output_type": "stream",
          "name": "stderr",
          "text": [
            "Training: 100%|██████████| 161/161 [00:06<00:00, 23.84it/s, loss=7.44]\n"
          ]
        },
        {
          "output_type": "stream",
          "name": "stdout",
          "text": [
            "Epoch [1/30] Train Loss: 7.436429844139526\n"
          ]
        },
        {
          "output_type": "stream",
          "name": "stderr",
          "text": [
            "Validation: 100%|██████████| 69/69 [00:02<00:00, 28.12it/s, loss=6.97]\n"
          ]
        },
        {
          "output_type": "stream",
          "name": "stdout",
          "text": [
            "Epoch [1/30] Validation Loss: 6.970317764558654\n"
          ]
        },
        {
          "output_type": "stream",
          "name": "stderr",
          "text": [
            "Training: 100%|██████████| 161/161 [00:06<00:00, 25.00it/s, loss=7.34]\n"
          ]
        },
        {
          "output_type": "stream",
          "name": "stdout",
          "text": [
            "Epoch [2/30] Train Loss: 7.341711885440423\n"
          ]
        },
        {
          "output_type": "stream",
          "name": "stderr",
          "text": [
            "Validation: 100%|██████████| 69/69 [00:03<00:00, 19.28it/s, loss=6.86]\n"
          ]
        },
        {
          "output_type": "stream",
          "name": "stdout",
          "text": [
            "Epoch [2/30] Validation Loss: 6.860524460889291\n"
          ]
        },
        {
          "output_type": "stream",
          "name": "stderr",
          "text": [
            "Training: 100%|██████████| 161/161 [00:05<00:00, 26.98it/s, loss=7.19]\n"
          ]
        },
        {
          "output_type": "stream",
          "name": "stdout",
          "text": [
            "Epoch [3/30] Train Loss: 7.192832381088541\n"
          ]
        },
        {
          "output_type": "stream",
          "name": "stderr",
          "text": [
            "Validation: 100%|██████████| 69/69 [00:02<00:00, 28.10it/s, loss=6.74]\n"
          ]
        },
        {
          "output_type": "stream",
          "name": "stdout",
          "text": [
            "Epoch [3/30] Validation Loss: 6.743783273558686\n"
          ]
        },
        {
          "output_type": "stream",
          "name": "stderr",
          "text": [
            "Training: 100%|██████████| 161/161 [00:06<00:00, 26.75it/s, loss=7.15]\n"
          ]
        },
        {
          "output_type": "stream",
          "name": "stdout",
          "text": [
            "Epoch [4/30] Train Loss: 7.151577061007482\n"
          ]
        },
        {
          "output_type": "stream",
          "name": "stderr",
          "text": [
            "Validation: 100%|██████████| 69/69 [00:02<00:00, 33.96it/s, loss=6.62]\n"
          ]
        },
        {
          "output_type": "stream",
          "name": "stdout",
          "text": [
            "Epoch [4/30] Validation Loss: 6.61500534803971\n"
          ]
        },
        {
          "output_type": "stream",
          "name": "stderr",
          "text": [
            "Training: 100%|██████████| 161/161 [00:05<00:00, 31.13it/s, loss=6.98]\n"
          ]
        },
        {
          "output_type": "stream",
          "name": "stdout",
          "text": [
            "Epoch [5/30] Train Loss: 6.983157335601238\n"
          ]
        },
        {
          "output_type": "stream",
          "name": "stderr",
          "text": [
            "Validation: 100%|██████████| 69/69 [00:02<00:00, 26.41it/s, loss=6.48]\n"
          ]
        },
        {
          "output_type": "stream",
          "name": "stdout",
          "text": [
            "Epoch [5/30] Validation Loss: 6.475535793580871\n"
          ]
        },
        {
          "output_type": "stream",
          "name": "stderr",
          "text": [
            "Training: 100%|██████████| 161/161 [00:05<00:00, 31.86it/s, loss=6.83]\n"
          ]
        },
        {
          "output_type": "stream",
          "name": "stdout",
          "text": [
            "Epoch [6/30] Train Loss: 6.825376940069732\n"
          ]
        },
        {
          "output_type": "stream",
          "name": "stderr",
          "text": [
            "Validation: 100%|██████████| 69/69 [00:02<00:00, 32.03it/s, loss=6.33]\n"
          ]
        },
        {
          "output_type": "stream",
          "name": "stdout",
          "text": [
            "Epoch [6/30] Validation Loss: 6.325413655543673\n"
          ]
        },
        {
          "output_type": "stream",
          "name": "stderr",
          "text": [
            "Training: 100%|██████████| 161/161 [00:05<00:00, 27.97it/s, loss=6.69]\n"
          ]
        },
        {
          "output_type": "stream",
          "name": "stdout",
          "text": [
            "Epoch [7/30] Train Loss: 6.686184829806689\n"
          ]
        },
        {
          "output_type": "stream",
          "name": "stderr",
          "text": [
            "Validation: 100%|██████████| 69/69 [00:02<00:00, 32.84it/s, loss=6.16]\n"
          ]
        },
        {
          "output_type": "stream",
          "name": "stdout",
          "text": [
            "Epoch [7/30] Validation Loss: 6.1640502266261885\n"
          ]
        },
        {
          "output_type": "stream",
          "name": "stderr",
          "text": [
            "Training: 100%|██████████| 161/161 [00:05<00:00, 28.64it/s, loss=6.48]\n"
          ]
        },
        {
          "output_type": "stream",
          "name": "stdout",
          "text": [
            "Epoch [8/30] Train Loss: 6.4801817532651915\n"
          ]
        },
        {
          "output_type": "stream",
          "name": "stderr",
          "text": [
            "Validation: 100%|██████████| 69/69 [00:03<00:00, 21.17it/s, loss=5.99]\n"
          ]
        },
        {
          "output_type": "stream",
          "name": "stdout",
          "text": [
            "Epoch [8/30] Validation Loss: 5.9945635899253515\n"
          ]
        },
        {
          "output_type": "stream",
          "name": "stderr",
          "text": [
            "Training: 100%|██████████| 161/161 [00:06<00:00, 26.10it/s, loss=6.35]\n"
          ]
        },
        {
          "output_type": "stream",
          "name": "stdout",
          "text": [
            "Epoch [9/30] Train Loss: 6.348502967668616\n"
          ]
        },
        {
          "output_type": "stream",
          "name": "stderr",
          "text": [
            "Validation: 100%|██████████| 69/69 [00:02<00:00, 27.64it/s, loss=5.82]\n"
          ]
        },
        {
          "output_type": "stream",
          "name": "stdout",
          "text": [
            "Epoch [9/30] Validation Loss: 5.815978713657545\n"
          ]
        },
        {
          "output_type": "stream",
          "name": "stderr",
          "text": [
            "Training: 100%|██████████| 161/161 [00:06<00:00, 23.38it/s, loss=6.12]\n"
          ]
        },
        {
          "output_type": "stream",
          "name": "stdout",
          "text": [
            "Epoch [10/30] Train Loss: 6.116140438162762\n"
          ]
        },
        {
          "output_type": "stream",
          "name": "stderr",
          "text": [
            "Validation: 100%|██████████| 69/69 [00:02<00:00, 31.12it/s, loss=5.63]\n"
          ]
        },
        {
          "output_type": "stream",
          "name": "stdout",
          "text": [
            "Epoch [10/30] Validation Loss: 5.630127820415773\n"
          ]
        },
        {
          "output_type": "stream",
          "name": "stderr",
          "text": [
            "Training: 100%|██████████| 161/161 [00:06<00:00, 24.89it/s, loss=5.98]\n"
          ]
        },
        {
          "output_type": "stream",
          "name": "stdout",
          "text": [
            "Epoch [11/30] Train Loss: 5.980126552700256\n"
          ]
        },
        {
          "output_type": "stream",
          "name": "stderr",
          "text": [
            "Validation: 100%|██████████| 69/69 [00:02<00:00, 25.50it/s, loss=5.44]\n"
          ]
        },
        {
          "output_type": "stream",
          "name": "stdout",
          "text": [
            "Epoch [11/30] Validation Loss: 5.4381639162699384\n"
          ]
        },
        {
          "output_type": "stream",
          "name": "stderr",
          "text": [
            "Training: 100%|██████████| 161/161 [00:06<00:00, 26.78it/s, loss=5.78]\n"
          ]
        },
        {
          "output_type": "stream",
          "name": "stdout",
          "text": [
            "Epoch [12/30] Train Loss: 5.779116119657244\n"
          ]
        },
        {
          "output_type": "stream",
          "name": "stderr",
          "text": [
            "Validation: 100%|██████████| 69/69 [00:02<00:00, 24.80it/s, loss=5.24]\n"
          ]
        },
        {
          "output_type": "stream",
          "name": "stdout",
          "text": [
            "Epoch [12/30] Validation Loss: 5.242026135541391\n"
          ]
        },
        {
          "output_type": "stream",
          "name": "stderr",
          "text": [
            "Training: 100%|██████████| 161/161 [00:06<00:00, 24.34it/s, loss=5.53]\n"
          ]
        },
        {
          "output_type": "stream",
          "name": "stdout",
          "text": [
            "Epoch [13/30] Train Loss: 5.525712484158344\n"
          ]
        },
        {
          "output_type": "stream",
          "name": "stderr",
          "text": [
            "Validation: 100%|██████████| 69/69 [00:02<00:00, 27.57it/s, loss=5.04]\n"
          ]
        },
        {
          "output_type": "stream",
          "name": "stdout",
          "text": [
            "Epoch [13/30] Validation Loss: 5.042309159817903\n"
          ]
        },
        {
          "output_type": "stream",
          "name": "stderr",
          "text": [
            "Training: 100%|██████████| 161/161 [00:06<00:00, 23.48it/s, loss=5.39]\n"
          ]
        },
        {
          "output_type": "stream",
          "name": "stdout",
          "text": [
            "Epoch [14/30] Train Loss: 5.385439344074415\n"
          ]
        },
        {
          "output_type": "stream",
          "name": "stderr",
          "text": [
            "Validation: 100%|██████████| 69/69 [00:02<00:00, 27.75it/s, loss=4.84]\n"
          ]
        },
        {
          "output_type": "stream",
          "name": "stdout",
          "text": [
            "Epoch [14/30] Validation Loss: 4.84108741387077\n"
          ]
        },
        {
          "output_type": "stream",
          "name": "stderr",
          "text": [
            "Training: 100%|██████████| 161/161 [00:06<00:00, 25.48it/s, loss=5.21]\n"
          ]
        },
        {
          "output_type": "stream",
          "name": "stdout",
          "text": [
            "Epoch [15/30] Train Loss: 5.206397604498064\n"
          ]
        },
        {
          "output_type": "stream",
          "name": "stderr",
          "text": [
            "Validation: 100%|██████████| 69/69 [00:03<00:00, 22.82it/s, loss=4.64]\n"
          ]
        },
        {
          "output_type": "stream",
          "name": "stdout",
          "text": [
            "Epoch [15/30] Validation Loss: 4.637287319570348\n"
          ]
        },
        {
          "output_type": "stream",
          "name": "stderr",
          "text": [
            "Training: 100%|██████████| 161/161 [00:06<00:00, 25.89it/s, loss=4.99]\n"
          ]
        },
        {
          "output_type": "stream",
          "name": "stdout",
          "text": [
            "Epoch [16/30] Train Loss: 4.992723350939543\n"
          ]
        },
        {
          "output_type": "stream",
          "name": "stderr",
          "text": [
            "Validation: 100%|██████████| 69/69 [00:02<00:00, 33.43it/s, loss=4.43]\n"
          ]
        },
        {
          "output_type": "stream",
          "name": "stdout",
          "text": [
            "Epoch [16/30] Validation Loss: 4.433350652888201\n"
          ]
        },
        {
          "output_type": "stream",
          "name": "stderr",
          "text": [
            "Training: 100%|██████████| 161/161 [00:05<00:00, 28.07it/s, loss=4.73]\n"
          ]
        },
        {
          "output_type": "stream",
          "name": "stdout",
          "text": [
            "Epoch [17/30] Train Loss: 4.731742848520693\n"
          ]
        },
        {
          "output_type": "stream",
          "name": "stderr",
          "text": [
            "Validation: 100%|██████████| 69/69 [00:02<00:00, 32.83it/s, loss=4.23]\n"
          ]
        },
        {
          "output_type": "stream",
          "name": "stdout",
          "text": [
            "Epoch [17/30] Validation Loss: 4.231216116227966\n"
          ]
        },
        {
          "output_type": "stream",
          "name": "stderr",
          "text": [
            "Training: 100%|██████████| 161/161 [00:05<00:00, 30.07it/s, loss=4.55]\n"
          ]
        },
        {
          "output_type": "stream",
          "name": "stdout",
          "text": [
            "Epoch [18/30] Train Loss: 4.552698966138852\n"
          ]
        },
        {
          "output_type": "stream",
          "name": "stderr",
          "text": [
            "Validation: 100%|██████████| 69/69 [00:02<00:00, 26.41it/s, loss=4.03]\n"
          ]
        },
        {
          "output_type": "stream",
          "name": "stdout",
          "text": [
            "Epoch [18/30] Validation Loss: 4.0316120507060615\n"
          ]
        },
        {
          "output_type": "stream",
          "name": "stderr",
          "text": [
            "Training: 100%|██████████| 161/161 [00:05<00:00, 31.88it/s, loss=4.37]\n"
          ]
        },
        {
          "output_type": "stream",
          "name": "stdout",
          "text": [
            "Epoch [19/30] Train Loss: 4.3700620550546585\n"
          ]
        },
        {
          "output_type": "stream",
          "name": "stderr",
          "text": [
            "Validation: 100%|██████████| 69/69 [00:02<00:00, 32.24it/s, loss=3.83]\n"
          ]
        },
        {
          "output_type": "stream",
          "name": "stdout",
          "text": [
            "Epoch [19/30] Validation Loss: 3.833086456077686\n"
          ]
        },
        {
          "output_type": "stream",
          "name": "stderr",
          "text": [
            "Training: 100%|██████████| 161/161 [00:06<00:00, 25.78it/s, loss=4.15]\n"
          ]
        },
        {
          "output_type": "stream",
          "name": "stdout",
          "text": [
            "Epoch [20/30] Train Loss: 4.149254225796054\n"
          ]
        },
        {
          "output_type": "stream",
          "name": "stderr",
          "text": [
            "Validation: 100%|██████████| 69/69 [00:02<00:00, 27.65it/s, loss=3.64]\n"
          ]
        },
        {
          "output_type": "stream",
          "name": "stdout",
          "text": [
            "Epoch [20/30] Validation Loss: 3.63928492863973\n"
          ]
        },
        {
          "output_type": "stream",
          "name": "stderr",
          "text": [
            "Training: 100%|██████████| 161/161 [00:06<00:00, 25.20it/s, loss=3.95]\n"
          ]
        },
        {
          "output_type": "stream",
          "name": "stdout",
          "text": [
            "Epoch [21/30] Train Loss: 3.9547274956792036\n"
          ]
        },
        {
          "output_type": "stream",
          "name": "stderr",
          "text": [
            "Validation: 100%|██████████| 69/69 [00:02<00:00, 23.56it/s, loss=3.45]\n"
          ]
        },
        {
          "output_type": "stream",
          "name": "stdout",
          "text": [
            "Epoch [21/30] Validation Loss: 3.451991661735203\n"
          ]
        },
        {
          "output_type": "stream",
          "name": "stderr",
          "text": [
            "Training: 100%|██████████| 161/161 [00:06<00:00, 26.62it/s, loss=3.79]\n"
          ]
        },
        {
          "output_type": "stream",
          "name": "stdout",
          "text": [
            "Epoch [22/30] Train Loss: 3.792655044460889\n"
          ]
        },
        {
          "output_type": "stream",
          "name": "stderr",
          "text": [
            "Validation: 100%|██████████| 69/69 [00:02<00:00, 26.18it/s, loss=3.27]\n"
          ]
        },
        {
          "output_type": "stream",
          "name": "stdout",
          "text": [
            "Epoch [22/30] Validation Loss: 3.2738137970799985\n"
          ]
        },
        {
          "output_type": "stream",
          "name": "stderr",
          "text": [
            "Training: 100%|██████████| 161/161 [00:06<00:00, 23.65it/s, loss=3.66]\n"
          ]
        },
        {
          "output_type": "stream",
          "name": "stdout",
          "text": [
            "Epoch [23/30] Train Loss: 3.6581588117232235\n"
          ]
        },
        {
          "output_type": "stream",
          "name": "stderr",
          "text": [
            "Validation: 100%|██████████| 69/69 [00:02<00:00, 26.66it/s, loss=3.1]\n"
          ]
        },
        {
          "output_type": "stream",
          "name": "stdout",
          "text": [
            "Epoch [23/30] Validation Loss: 3.1000064645988354\n"
          ]
        },
        {
          "output_type": "stream",
          "name": "stderr",
          "text": [
            "Training: 100%|██████████| 161/161 [00:10<00:00, 15.23it/s, loss=3.47]\n"
          ]
        },
        {
          "output_type": "stream",
          "name": "stdout",
          "text": [
            "Epoch [24/30] Train Loss: 3.466422360876332\n"
          ]
        },
        {
          "output_type": "stream",
          "name": "stderr",
          "text": [
            "Validation: 100%|██████████| 69/69 [00:02<00:00, 23.91it/s, loss=2.94]\n"
          ]
        },
        {
          "output_type": "stream",
          "name": "stdout",
          "text": [
            "Epoch [24/30] Validation Loss: 2.9363056714983955\n"
          ]
        },
        {
          "output_type": "stream",
          "name": "stderr",
          "text": [
            "Training: 100%|██████████| 161/161 [00:07<00:00, 21.16it/s, loss=3.28]\n"
          ]
        },
        {
          "output_type": "stream",
          "name": "stdout",
          "text": [
            "Epoch [25/30] Train Loss: 3.275627805579523\n"
          ]
        },
        {
          "output_type": "stream",
          "name": "stderr",
          "text": [
            "Validation: 100%|██████████| 69/69 [00:02<00:00, 27.28it/s, loss=2.78]\n"
          ]
        },
        {
          "output_type": "stream",
          "name": "stdout",
          "text": [
            "Epoch [25/30] Validation Loss: 2.7844852191814478\n"
          ]
        },
        {
          "output_type": "stream",
          "name": "stderr",
          "text": [
            "Training: 100%|██████████| 161/161 [00:06<00:00, 23.44it/s, loss=3.18]\n"
          ]
        },
        {
          "output_type": "stream",
          "name": "stdout",
          "text": [
            "Epoch [26/30] Train Loss: 3.1786626510738585\n"
          ]
        },
        {
          "output_type": "stream",
          "name": "stderr",
          "text": [
            "Validation: 100%|██████████| 69/69 [00:02<00:00, 27.66it/s, loss=2.64]\n"
          ]
        },
        {
          "output_type": "stream",
          "name": "stdout",
          "text": [
            "Epoch [26/30] Validation Loss: 2.642956775167714\n"
          ]
        },
        {
          "output_type": "stream",
          "name": "stderr",
          "text": [
            "Training: 100%|██████████| 161/161 [00:06<00:00, 26.21it/s, loss=3.05]\n"
          ]
        },
        {
          "output_type": "stream",
          "name": "stdout",
          "text": [
            "Epoch [27/30] Train Loss: 3.0473494203934757\n"
          ]
        },
        {
          "output_type": "stream",
          "name": "stderr",
          "text": [
            "Validation: 100%|██████████| 69/69 [00:02<00:00, 23.72it/s, loss=2.51]\n"
          ]
        },
        {
          "output_type": "stream",
          "name": "stdout",
          "text": [
            "Epoch [27/30] Validation Loss: 2.509645187336466\n"
          ]
        },
        {
          "output_type": "stream",
          "name": "stderr",
          "text": [
            "Training: 100%|██████████| 161/161 [00:05<00:00, 30.59it/s, loss=2.91]\n"
          ]
        },
        {
          "output_type": "stream",
          "name": "stdout",
          "text": [
            "Epoch [28/30] Train Loss: 2.9098098352088693\n"
          ]
        },
        {
          "output_type": "stream",
          "name": "stderr",
          "text": [
            "Validation: 100%|██████████| 69/69 [00:02<00:00, 33.28it/s, loss=2.39]\n"
          ]
        },
        {
          "output_type": "stream",
          "name": "stdout",
          "text": [
            "Epoch [28/30] Validation Loss: 2.388828370882117\n"
          ]
        },
        {
          "output_type": "stream",
          "name": "stderr",
          "text": [
            "Training: 100%|██████████| 161/161 [00:05<00:00, 28.05it/s, loss=2.78]\n"
          ]
        },
        {
          "output_type": "stream",
          "name": "stdout",
          "text": [
            "Epoch [29/30] Train Loss: 2.7766897863482836\n"
          ]
        },
        {
          "output_type": "stream",
          "name": "stderr",
          "text": [
            "Validation: 100%|██████████| 69/69 [00:02<00:00, 32.36it/s, loss=2.28]\n"
          ]
        },
        {
          "output_type": "stream",
          "name": "stdout",
          "text": [
            "Epoch [29/30] Validation Loss: 2.2765145440032515\n"
          ]
        },
        {
          "output_type": "stream",
          "name": "stderr",
          "text": [
            "Training: 100%|██████████| 161/161 [00:05<00:00, 31.96it/s, loss=2.67]\n"
          ]
        },
        {
          "output_type": "stream",
          "name": "stdout",
          "text": [
            "Epoch [30/30] Train Loss: 2.674459521814903\n"
          ]
        },
        {
          "output_type": "stream",
          "name": "stderr",
          "text": [
            "Validation: 100%|██████████| 69/69 [00:02<00:00, 33.09it/s, loss=2.17]"
          ]
        },
        {
          "output_type": "stream",
          "name": "stdout",
          "text": [
            "Epoch [30/30] Validation Loss: 2.174664238224859\n"
          ]
        },
        {
          "output_type": "stream",
          "name": "stderr",
          "text": [
            "\n"
          ]
        }
      ],
      "source": [
        "#Fine tune this new model with loras of rank 1, on MNIST 5...9\n",
        "train_loss_lora, val_loss_lora = train(train_loader_subset2, val_loader_subset2, \"subset2\", modified_net, epochs=30)"
      ],
      "id": "dZ2T50j2Lo6D"
    },
    {
      "cell_type": "code",
      "execution_count": null,
      "metadata": {
        "cell_ktag": "1OwQKpKKP4yj",
        "id": "5coaZ0NkLo6D",
        "colab": {
          "base_uri": "https://localhost:8080/"
        },
        "outputId": "c900ef93-47e0-47b0-973e-84f9bf9e7678"
      },
      "outputs": [
        {
          "output_type": "stream",
          "name": "stdout",
          "text": [
            "All frozen parameters are unchanged by the fine-tuning.\n"
          ]
        }
      ],
      "source": [
        "# Check that the frozen parameters are still unchanged by the finetuning\n",
        "# Remember the dictionary \"original_weights\"\n",
        "\n",
        "# We create a simple function to answer this question:\n",
        "def check_frozen_parameters_unchanged(model, original_weights):\n",
        "    unchanged = True\n",
        "    for name, param in model.named_parameters():\n",
        "        if name in original_weights and 'lora' not in name:\n",
        "            # We check here if any element is different\n",
        "            if not torch.equal(original_weights[name], param):\n",
        "                print(f\"Parameter {name} has changed.\")\n",
        "                unchanged = False\n",
        "    return unchanged\n",
        "\n",
        "if check_frozen_parameters_unchanged(modified_net, original_weights):\n",
        "    print(\"All frozen parameters are unchanged by the fine-tuning.\")\n",
        "else:\n",
        "    print(\"Some frozen parameters have been changed during fine-tuning.\")"
      ],
      "id": "5coaZ0NkLo6D"
    },
    {
      "cell_type": "code",
      "execution_count": null,
      "metadata": {
        "cell_ktag": "1OwQKpKKP4yj",
        "id": "ayCAs1knLo6D",
        "colab": {
          "base_uri": "https://localhost:8080/",
          "height": 430
        },
        "outputId": "554f045f-e4e4-4ade-9b70-4326718d7bef"
      },
      "outputs": [
        {
          "output_type": "display_data",
          "data": {
            "text/plain": [
              "<Figure size 640x480 with 1 Axes>"
            ],
            "image/png": "[encoded data removed]"
          },
          "metadata": {}
        }
      ],
      "source": [
        "#plot losses\n",
        "plot_losses(train_loss_lora, val_loss_lora)"
      ],
      "id": "ayCAs1knLo6D"
    },
    {
      "cell_type": "code",
      "execution_count": null,
      "metadata": {
        "cell_ktag": "1OwQKpKKP4yj",
        "id": "VPa5QNGILo6E",
        "colab": {
          "base_uri": "https://localhost:8080/"
        },
        "outputId": "a0d690b5-c22e-4a0e-ace1-12d6ffd774a2"
      },
      "outputs": [
        {
          "output_type": "stream",
          "name": "stderr",
          "text": [
            "Testing lora on subset2 : 100%|██████████| 38/38 [00:01<00:00, 20.83it/s]"
          ]
        },
        {
          "output_type": "stream",
          "name": "stdout",
          "text": [
            "Accuracy: 0.529\n",
            "Wrong counts for the digit 0: 0\n",
            "Wrong counts for the digit 1: 0\n",
            "Wrong counts for the digit 2: 0\n",
            "Wrong counts for the digit 3: 0\n",
            "Wrong counts for the digit 4: 0\n",
            "Wrong counts for the digit 5: 399\n",
            "Wrong counts for the digit 6: 715\n",
            "Wrong counts for the digit 7: 243\n",
            "Wrong counts for the digit 8: 778\n",
            "Wrong counts for the digit 9: 153\n"
          ]
        },
        {
          "output_type": "stream",
          "name": "stderr",
          "text": [
            "\n"
          ]
        }
      ],
      "source": [
        "#Compute test accuracy on MNIST 5...9 for that lora rank\n",
        "accuracy_lora_subset2 = test(test_loader_subset2, \"Testing lora on subset2 \", modified_net, {i: 0 for i in range(10)})\n",
        "\n",
        "# We obtain an accuracy of 0.529 when lora_rank=1"
      ],
      "id": "VPa5QNGILo6E"
    },
    {
      "cell_type": "markdown",
      "metadata": {
        "cell_ktag": "1OwQKpKKP4yj",
        "id": "-A0FGrNhLo6E"
      },
      "source": [
        "# Try different LoRA rank"
      ],
      "id": "-A0FGrNhLo6E"
    },
    {
      "cell_type": "markdown",
      "metadata": {
        "cell_ktag": "1OwQKpKKP4yj",
        "id": "eHhosPJPLo6E"
      },
      "source": [
        "__Question 6 (4 points) :__"
      ],
      "id": "eHhosPJPLo6E"
    },
    {
      "cell_type": "markdown",
      "metadata": {
        "cell_ktag": "1OwQKpKKP4yj",
        "id": "qNulEjylLo6E"
      },
      "source": [
        "Fine-tune the pre-trained model using different lora ranks [1,2,4,8,16,32,64], evaluate it on the test set\n",
        "and store the number of parameters added\n",
        "\n",
        "Make a plot showing the test accuracy as a function of lora rank. \\\n",
        "Compare it to the test accuracy of the pre-trained model fine-tuned in the usual way on MNIST 5...9\n",
        "\n",
        "Conclude by looking at the number of parameters added\n",
        "\n",
        "Discuss what are the pros of LoRA, what possible applications do you envision for it ?"
      ],
      "id": "qNulEjylLo6E"
    },
    {
      "cell_type": "markdown",
      "source": [
        "<font color='blue'> We first write a loop to fine-tune the pre-trained model using different lora ranks:"
      ],
      "metadata": {
        "id": "eVdhe-3t9N0l"
      },
      "id": "eVdhe-3t9N0l"
    },
    {
      "cell_type": "code",
      "source": [
        "ranks = [1,2,4,8,16,32,64]\n",
        "# We store parameters losses in dictionnaries\n",
        "test_accuracies = {}\n",
        "num_parameters = {}\n",
        "\n",
        "for lora_rank in ranks:\n",
        "  print(\"-------------------------\")\n",
        "  print(f\"Start training for rank {lora_rank}\")\n",
        "  modified_net = ModifiedClassifier(lora_rank).to(device)\n",
        "\n",
        "  # Count parameters\n",
        "  num = count_lora_parameters(modified_net)\n",
        "  num_parameters[f'num_param_rank_{lora_rank}'] = num\n",
        "\n",
        "  # Train and store test accuracies\n",
        "  train_loss_lora, val_loss_lora = train(train_loader_subset2, val_loader_subset2, \"subset2\", modified_net, epochs=30)\n",
        "  accuracy_lora_subset2 = test(test_loader_subset2, \"Testing lora on subset2 \", modified_net, {i: 0 for i in range(10)})\n",
        "  test_accuracies[f'test_accuracy_{lora_rank}'] = accuracy_lora_subset2"
      ],
      "metadata": {
        "colab": {
          "base_uri": "https://localhost:8080/"
        },
        "id": "I5NIQFCfJHRl",
        "outputId": "909fdfa8-3982-4592-9420-34308e504475"
      },
      "id": "I5NIQFCfJHRl",
      "execution_count": null,
      "outputs": [
        {
          "output_type": "stream",
          "name": "stdout",
          "text": [
            "-------------------------\n",
            "Start training for rank 1\n"
          ]
        },
        {
          "output_type": "stream",
          "name": "stderr",
          "text": [
            "Training: 100%|██████████| 161/161 [00:05<00:00, 29.14it/s, loss=7.83]\n"
          ]
        },
        {
          "output_type": "stream",
          "name": "stdout",
          "text": [
            "Epoch [1/30] Train Loss: 7.829472814287458\n"
          ]
        },
        {
          "output_type": "stream",
          "name": "stderr",
          "text": [
            "Validation: 100%|██████████| 69/69 [00:02<00:00, 31.35it/s, loss=7.22]\n"
          ]
        },
        {
          "output_type": "stream",
          "name": "stdout",
          "text": [
            "Epoch [1/30] Validation Loss: 7.218422329944113\n"
          ]
        },
        {
          "output_type": "stream",
          "name": "stderr",
          "text": [
            "Training: 100%|██████████| 161/161 [00:05<00:00, 32.08it/s, loss=7.81]\n"
          ]
        },
        {
          "output_type": "stream",
          "name": "stdout",
          "text": [
            "Epoch [2/30] Train Loss: 7.813075610569546\n"
          ]
        },
        {
          "output_type": "stream",
          "name": "stderr",
          "text": [
            "Validation: 100%|██████████| 69/69 [00:02<00:00, 33.52it/s, loss=7.16]\n"
          ]
        },
        {
          "output_type": "stream",
          "name": "stdout",
          "text": [
            "Epoch [2/30] Validation Loss: 7.158678345058275\n"
          ]
        },
        {
          "output_type": "stream",
          "name": "stderr",
          "text": [
            "Training: 100%|██████████| 161/161 [00:07<00:00, 22.86it/s, loss=7.73]\n"
          ]
        },
        {
          "output_type": "stream",
          "name": "stdout",
          "text": [
            "Epoch [3/30] Train Loss: 7.73143676497181\n"
          ]
        },
        {
          "output_type": "stream",
          "name": "stderr",
          "text": [
            "Validation: 100%|██████████| 69/69 [00:02<00:00, 31.40it/s, loss=7.1]\n"
          ]
        },
        {
          "output_type": "stream",
          "name": "stdout",
          "text": [
            "Epoch [3/30] Validation Loss: 7.096836670585301\n"
          ]
        },
        {
          "output_type": "stream",
          "name": "stderr",
          "text": [
            "Training: 100%|██████████| 161/161 [00:05<00:00, 30.68it/s, loss=7.66]\n"
          ]
        },
        {
          "output_type": "stream",
          "name": "stdout",
          "text": [
            "Epoch [4/30] Train Loss: 7.663592770973348\n"
          ]
        },
        {
          "output_type": "stream",
          "name": "stderr",
          "text": [
            "Validation: 100%|██████████| 69/69 [00:02<00:00, 28.87it/s, loss=7.03]\n"
          ]
        },
        {
          "output_type": "stream",
          "name": "stdout",
          "text": [
            "Epoch [4/30] Validation Loss: 7.02755746288576\n"
          ]
        },
        {
          "output_type": "stream",
          "name": "stderr",
          "text": [
            "Training: 100%|██████████| 161/161 [00:04<00:00, 32.35it/s, loss=7.56]\n"
          ]
        },
        {
          "output_type": "stream",
          "name": "stdout",
          "text": [
            "Epoch [5/30] Train Loss: 7.555543461201354\n"
          ]
        },
        {
          "output_type": "stream",
          "name": "stderr",
          "text": [
            "Validation: 100%|██████████| 69/69 [00:02<00:00, 33.52it/s, loss=6.95]\n"
          ]
        },
        {
          "output_type": "stream",
          "name": "stdout",
          "text": [
            "Epoch [5/30] Validation Loss: 6.946710455244866\n"
          ]
        },
        {
          "output_type": "stream",
          "name": "stderr",
          "text": [
            "Training: 100%|██████████| 161/161 [00:05<00:00, 28.93it/s, loss=7.48]\n"
          ]
        },
        {
          "output_type": "stream",
          "name": "stdout",
          "text": [
            "Epoch [6/30] Train Loss: 7.475146512807526\n"
          ]
        },
        {
          "output_type": "stream",
          "name": "stderr",
          "text": [
            "Validation: 100%|██████████| 69/69 [00:02<00:00, 33.95it/s, loss=6.85]\n"
          ]
        },
        {
          "output_type": "stream",
          "name": "stdout",
          "text": [
            "Epoch [6/30] Validation Loss: 6.850347180297409\n"
          ]
        },
        {
          "output_type": "stream",
          "name": "stderr",
          "text": [
            "Training: 100%|██████████| 161/161 [00:04<00:00, 32.95it/s, loss=7.39]\n"
          ]
        },
        {
          "output_type": "stream",
          "name": "stdout",
          "text": [
            "Epoch [7/30] Train Loss: 7.3883792569178235\n"
          ]
        },
        {
          "output_type": "stream",
          "name": "stderr",
          "text": [
            "Validation: 100%|██████████| 69/69 [00:02<00:00, 28.18it/s, loss=6.74]\n"
          ]
        },
        {
          "output_type": "stream",
          "name": "stdout",
          "text": [
            "Epoch [7/30] Validation Loss: 6.736912229786748\n"
          ]
        },
        {
          "output_type": "stream",
          "name": "stderr",
          "text": [
            "Training: 100%|██████████| 161/161 [00:06<00:00, 25.33it/s, loss=7.24]\n"
          ]
        },
        {
          "output_type": "stream",
          "name": "stdout",
          "text": [
            "Epoch [8/30] Train Loss: 7.237705660162505\n"
          ]
        },
        {
          "output_type": "stream",
          "name": "stderr",
          "text": [
            "Validation: 100%|██████████| 69/69 [00:02<00:00, 34.13it/s, loss=6.61]\n"
          ]
        },
        {
          "output_type": "stream",
          "name": "stdout",
          "text": [
            "Epoch [8/30] Validation Loss: 6.607373742089755\n"
          ]
        },
        {
          "output_type": "stream",
          "name": "stderr",
          "text": [
            "Training: 100%|██████████| 161/161 [00:05<00:00, 28.37it/s, loss=7.14]\n"
          ]
        },
        {
          "output_type": "stream",
          "name": "stdout",
          "text": [
            "Epoch [9/30] Train Loss: 7.141084043135554\n"
          ]
        },
        {
          "output_type": "stream",
          "name": "stderr",
          "text": [
            "Validation: 100%|██████████| 69/69 [00:02<00:00, 33.23it/s, loss=6.46]\n"
          ]
        },
        {
          "output_type": "stream",
          "name": "stdout",
          "text": [
            "Epoch [9/30] Validation Loss: 6.459959472435108\n"
          ]
        },
        {
          "output_type": "stream",
          "name": "stderr",
          "text": [
            "Training: 100%|██████████| 161/161 [00:04<00:00, 32.93it/s, loss=6.92]\n"
          ]
        },
        {
          "output_type": "stream",
          "name": "stdout",
          "text": [
            "Epoch [10/30] Train Loss: 6.917682804676317\n"
          ]
        },
        {
          "output_type": "stream",
          "name": "stderr",
          "text": [
            "Validation: 100%|██████████| 69/69 [00:02<00:00, 33.89it/s, loss=6.3]\n"
          ]
        },
        {
          "output_type": "stream",
          "name": "stdout",
          "text": [
            "Epoch [10/30] Validation Loss: 6.2983328708703965\n"
          ]
        },
        {
          "output_type": "stream",
          "name": "stderr",
          "text": [
            "Training: 100%|██████████| 161/161 [00:05<00:00, 27.59it/s, loss=6.72]\n"
          ]
        },
        {
          "output_type": "stream",
          "name": "stdout",
          "text": [
            "Epoch [11/30] Train Loss: 6.717347947707087\n"
          ]
        },
        {
          "output_type": "stream",
          "name": "stderr",
          "text": [
            "Validation: 100%|██████████| 69/69 [00:02<00:00, 32.25it/s, loss=6.12]\n"
          ]
        },
        {
          "output_type": "stream",
          "name": "stdout",
          "text": [
            "Epoch [11/30] Validation Loss: 6.122202783391096\n"
          ]
        },
        {
          "output_type": "stream",
          "name": "stderr",
          "text": [
            "Training: 100%|██████████| 161/161 [00:05<00:00, 30.13it/s, loss=6.61]\n"
          ]
        },
        {
          "output_type": "stream",
          "name": "stdout",
          "text": [
            "Epoch [12/30] Train Loss: 6.60748723426961\n"
          ]
        },
        {
          "output_type": "stream",
          "name": "stderr",
          "text": [
            "Validation: 100%|██████████| 69/69 [00:02<00:00, 29.24it/s, loss=5.93]\n"
          ]
        },
        {
          "output_type": "stream",
          "name": "stdout",
          "text": [
            "Epoch [12/30] Validation Loss: 5.934125603109166\n"
          ]
        },
        {
          "output_type": "stream",
          "name": "stderr",
          "text": [
            "Training: 100%|██████████| 161/161 [00:04<00:00, 32.20it/s, loss=6.39]\n"
          ]
        },
        {
          "output_type": "stream",
          "name": "stdout",
          "text": [
            "Epoch [13/30] Train Loss: 6.386579356578566\n"
          ]
        },
        {
          "output_type": "stream",
          "name": "stderr",
          "text": [
            "Validation: 100%|██████████| 69/69 [00:02<00:00, 30.72it/s, loss=5.74]\n"
          ]
        },
        {
          "output_type": "stream",
          "name": "stdout",
          "text": [
            "Epoch [13/30] Validation Loss: 5.735543154288029\n"
          ]
        },
        {
          "output_type": "stream",
          "name": "stderr",
          "text": [
            "Training: 100%|██████████| 161/161 [00:06<00:00, 26.05it/s, loss=6.17]\n"
          ]
        },
        {
          "output_type": "stream",
          "name": "stdout",
          "text": [
            "Epoch [14/30] Train Loss: 6.165810703490832\n"
          ]
        },
        {
          "output_type": "stream",
          "name": "stderr",
          "text": [
            "Validation: 100%|██████████| 69/69 [00:02<00:00, 34.11it/s, loss=5.53]\n"
          ]
        },
        {
          "output_type": "stream",
          "name": "stdout",
          "text": [
            "Epoch [14/30] Validation Loss: 5.528493722279866\n"
          ]
        },
        {
          "output_type": "stream",
          "name": "stderr",
          "text": [
            "Training: 100%|██████████| 161/161 [00:04<00:00, 32.58it/s, loss=5.94]\n"
          ]
        },
        {
          "output_type": "stream",
          "name": "stdout",
          "text": [
            "Epoch [15/30] Train Loss: 5.943324753956765\n"
          ]
        },
        {
          "output_type": "stream",
          "name": "stderr",
          "text": [
            "Validation: 100%|██████████| 69/69 [00:02<00:00, 25.17it/s, loss=5.31]\n"
          ]
        },
        {
          "output_type": "stream",
          "name": "stdout",
          "text": [
            "Epoch [15/30] Validation Loss: 5.313114539436672\n"
          ]
        },
        {
          "output_type": "stream",
          "name": "stderr",
          "text": [
            "Training: 100%|██████████| 161/161 [00:04<00:00, 32.40it/s, loss=5.69]\n"
          ]
        },
        {
          "output_type": "stream",
          "name": "stdout",
          "text": [
            "Epoch [16/30] Train Loss: 5.693294887957365\n"
          ]
        },
        {
          "output_type": "stream",
          "name": "stderr",
          "text": [
            "Validation: 100%|██████████| 69/69 [00:02<00:00, 34.16it/s, loss=5.09]\n"
          ]
        },
        {
          "output_type": "stream",
          "name": "stdout",
          "text": [
            "Epoch [16/30] Validation Loss: 5.092492058657218\n"
          ]
        },
        {
          "output_type": "stream",
          "name": "stderr",
          "text": [
            "Training: 100%|██████████| 161/161 [00:05<00:00, 28.44it/s, loss=5.48]\n"
          ]
        },
        {
          "output_type": "stream",
          "name": "stdout",
          "text": [
            "Epoch [17/30] Train Loss: 5.484884435345667\n"
          ]
        },
        {
          "output_type": "stream",
          "name": "stderr",
          "text": [
            "Validation: 100%|██████████| 69/69 [00:02<00:00, 25.68it/s, loss=4.87]\n"
          ]
        },
        {
          "output_type": "stream",
          "name": "stdout",
          "text": [
            "Epoch [17/30] Validation Loss: 4.866382947866468\n"
          ]
        },
        {
          "output_type": "stream",
          "name": "stderr",
          "text": [
            "Training: 100%|██████████| 161/161 [00:05<00:00, 31.23it/s, loss=5.25]\n"
          ]
        },
        {
          "output_type": "stream",
          "name": "stdout",
          "text": [
            "Epoch [18/30] Train Loss: 5.250887716779057\n"
          ]
        },
        {
          "output_type": "stream",
          "name": "stderr",
          "text": [
            "Validation: 100%|██████████| 69/69 [00:02<00:00, 30.35it/s, loss=4.64]\n"
          ]
        },
        {
          "output_type": "stream",
          "name": "stdout",
          "text": [
            "Epoch [18/30] Validation Loss: 4.6375463872716045\n"
          ]
        },
        {
          "output_type": "stream",
          "name": "stderr",
          "text": [
            "Training: 100%|██████████| 161/161 [00:05<00:00, 29.64it/s, loss=5.03]\n"
          ]
        },
        {
          "output_type": "stream",
          "name": "stdout",
          "text": [
            "Epoch [19/30] Train Loss: 5.0305642267191635\n"
          ]
        },
        {
          "output_type": "stream",
          "name": "stderr",
          "text": [
            "Validation: 100%|██████████| 69/69 [00:02<00:00, 33.88it/s, loss=4.41]\n"
          ]
        },
        {
          "output_type": "stream",
          "name": "stdout",
          "text": [
            "Epoch [19/30] Validation Loss: 4.407216441804084\n"
          ]
        },
        {
          "output_type": "stream",
          "name": "stderr",
          "text": [
            "Training: 100%|██████████| 161/161 [00:05<00:00, 29.02it/s, loss=4.82]\n"
          ]
        },
        {
          "output_type": "stream",
          "name": "stdout",
          "text": [
            "Epoch [20/30] Train Loss: 4.822873687151796\n"
          ]
        },
        {
          "output_type": "stream",
          "name": "stderr",
          "text": [
            "Validation: 100%|██████████| 69/69 [00:02<00:00, 31.06it/s, loss=4.18]\n"
          ]
        },
        {
          "output_type": "stream",
          "name": "stdout",
          "text": [
            "Epoch [20/30] Validation Loss: 4.1783788722494375\n"
          ]
        },
        {
          "output_type": "stream",
          "name": "stderr",
          "text": [
            "Training: 100%|██████████| 161/161 [00:05<00:00, 31.94it/s, loss=4.59]\n"
          ]
        },
        {
          "output_type": "stream",
          "name": "stdout",
          "text": [
            "Epoch [21/30] Train Loss: 4.5853681046029795\n"
          ]
        },
        {
          "output_type": "stream",
          "name": "stderr",
          "text": [
            "Validation: 100%|██████████| 69/69 [00:02<00:00, 33.57it/s, loss=3.96]\n"
          ]
        },
        {
          "output_type": "stream",
          "name": "stdout",
          "text": [
            "Epoch [21/30] Validation Loss: 3.961457072824672\n"
          ]
        },
        {
          "output_type": "stream",
          "name": "stderr",
          "text": [
            "Training: 100%|██████████| 161/161 [00:05<00:00, 26.94it/s, loss=4.34]\n"
          ]
        },
        {
          "output_type": "stream",
          "name": "stdout",
          "text": [
            "Epoch [22/30] Train Loss: 4.342182406727572\n"
          ]
        },
        {
          "output_type": "stream",
          "name": "stderr",
          "text": [
            "Validation: 100%|██████████| 69/69 [00:02<00:00, 33.16it/s, loss=3.75]\n"
          ]
        },
        {
          "output_type": "stream",
          "name": "stdout",
          "text": [
            "Epoch [22/30] Validation Loss: 3.752315476320792\n"
          ]
        },
        {
          "output_type": "stream",
          "name": "stderr",
          "text": [
            "Training: 100%|██████████| 161/161 [00:05<00:00, 31.58it/s, loss=4.15]\n"
          ]
        },
        {
          "output_type": "stream",
          "name": "stdout",
          "text": [
            "Epoch [23/30] Train Loss: 4.153443714106305\n"
          ]
        },
        {
          "output_type": "stream",
          "name": "stderr",
          "text": [
            "Validation: 100%|██████████| 69/69 [00:02<00:00, 25.25it/s, loss=3.56]\n"
          ]
        },
        {
          "output_type": "stream",
          "name": "stdout",
          "text": [
            "Epoch [23/30] Validation Loss: 3.5568402366361758\n"
          ]
        },
        {
          "output_type": "stream",
          "name": "stderr",
          "text": [
            "Training: 100%|██████████| 161/161 [00:05<00:00, 31.80it/s, loss=3.97]\n"
          ]
        },
        {
          "output_type": "stream",
          "name": "stdout",
          "text": [
            "Epoch [24/30] Train Loss: 3.969837930631934\n"
          ]
        },
        {
          "output_type": "stream",
          "name": "stderr",
          "text": [
            "Validation: 100%|██████████| 69/69 [00:02<00:00, 34.29it/s, loss=3.38]\n"
          ]
        },
        {
          "output_type": "stream",
          "name": "stdout",
          "text": [
            "Epoch [24/30] Validation Loss: 3.377538598102072\n"
          ]
        },
        {
          "output_type": "stream",
          "name": "stderr",
          "text": [
            "Training: 100%|██████████| 161/161 [00:05<00:00, 28.47it/s, loss=3.8]\n"
          ]
        },
        {
          "output_type": "stream",
          "name": "stdout",
          "text": [
            "Epoch [25/30] Train Loss: 3.803397608099517\n"
          ]
        },
        {
          "output_type": "stream",
          "name": "stderr",
          "text": [
            "Validation: 100%|██████████| 69/69 [00:02<00:00, 33.46it/s, loss=3.21]\n"
          ]
        },
        {
          "output_type": "stream",
          "name": "stdout",
          "text": [
            "Epoch [25/30] Validation Loss: 3.2112970697707026\n"
          ]
        },
        {
          "output_type": "stream",
          "name": "stderr",
          "text": [
            "Training: 100%|██████████| 161/161 [00:05<00:00, 32.12it/s, loss=3.66]\n"
          ]
        },
        {
          "output_type": "stream",
          "name": "stdout",
          "text": [
            "Epoch [26/30] Train Loss: 3.6589356579395553\n"
          ]
        },
        {
          "output_type": "stream",
          "name": "stderr",
          "text": [
            "Validation: 100%|██████████| 69/69 [00:02<00:00, 30.57it/s, loss=3.06]\n"
          ]
        },
        {
          "output_type": "stream",
          "name": "stdout",
          "text": [
            "Epoch [26/30] Validation Loss: 3.059205604636151\n"
          ]
        },
        {
          "output_type": "stream",
          "name": "stderr",
          "text": [
            "Training: 100%|██████████| 161/161 [00:05<00:00, 28.27it/s, loss=3.5]\n"
          ]
        },
        {
          "output_type": "stream",
          "name": "stdout",
          "text": [
            "Epoch [27/30] Train Loss: 3.498648206639734\n"
          ]
        },
        {
          "output_type": "stream",
          "name": "stderr",
          "text": [
            "Validation: 100%|██████████| 69/69 [00:02<00:00, 32.42it/s, loss=2.92]\n"
          ]
        },
        {
          "output_type": "stream",
          "name": "stdout",
          "text": [
            "Epoch [27/30] Validation Loss: 2.919687081074369\n"
          ]
        },
        {
          "output_type": "stream",
          "name": "stderr",
          "text": [
            "Training: 100%|██████████| 161/161 [00:06<00:00, 24.03it/s, loss=3.4]\n"
          ]
        },
        {
          "output_type": "stream",
          "name": "stdout",
          "text": [
            "Epoch [28/30] Train Loss: 3.3960044769026476\n"
          ]
        },
        {
          "output_type": "stream",
          "name": "stderr",
          "text": [
            "Validation: 100%|██████████| 69/69 [00:02<00:00, 33.69it/s, loss=2.79]\n"
          ]
        },
        {
          "output_type": "stream",
          "name": "stdout",
          "text": [
            "Epoch [28/30] Validation Loss: 2.791374659192735\n"
          ]
        },
        {
          "output_type": "stream",
          "name": "stderr",
          "text": [
            "Training: 100%|██████████| 161/161 [00:05<00:00, 32.19it/s, loss=3.26]\n"
          ]
        },
        {
          "output_type": "stream",
          "name": "stdout",
          "text": [
            "Epoch [29/30] Train Loss: 3.2550894740205374\n"
          ]
        },
        {
          "output_type": "stream",
          "name": "stderr",
          "text": [
            "Validation: 100%|██████████| 69/69 [00:02<00:00, 31.43it/s, loss=2.67]\n"
          ]
        },
        {
          "output_type": "stream",
          "name": "stdout",
          "text": [
            "Epoch [29/30] Validation Loss: 2.673964930617291\n"
          ]
        },
        {
          "output_type": "stream",
          "name": "stderr",
          "text": [
            "Training: 100%|██████████| 161/161 [00:05<00:00, 28.18it/s, loss=3.15]\n"
          ]
        },
        {
          "output_type": "stream",
          "name": "stdout",
          "text": [
            "Epoch [30/30] Train Loss: 3.1491166641993553\n"
          ]
        },
        {
          "output_type": "stream",
          "name": "stderr",
          "text": [
            "Validation: 100%|██████████| 69/69 [00:02<00:00, 33.29it/s, loss=2.56]\n"
          ]
        },
        {
          "output_type": "stream",
          "name": "stdout",
          "text": [
            "Epoch [30/30] Validation Loss: 2.5640934377476787\n"
          ]
        },
        {
          "output_type": "stream",
          "name": "stderr",
          "text": [
            "Testing lora on subset2 : 100%|██████████| 38/38 [00:01<00:00, 29.47it/s]\n"
          ]
        },
        {
          "output_type": "stream",
          "name": "stdout",
          "text": [
            "Accuracy: 0.565\n",
            "Wrong counts for the digit 0: 0\n",
            "Wrong counts for the digit 1: 0\n",
            "Wrong counts for the digit 2: 0\n",
            "Wrong counts for the digit 3: 0\n",
            "Wrong counts for the digit 4: 0\n",
            "Wrong counts for the digit 5: 605\n",
            "Wrong counts for the digit 6: 316\n",
            "Wrong counts for the digit 7: 235\n",
            "Wrong counts for the digit 8: 793\n",
            "Wrong counts for the digit 9: 165\n",
            "-------------------------\n",
            "Start training for rank 2\n"
          ]
        },
        {
          "output_type": "stream",
          "name": "stderr",
          "text": [
            "Training: 100%|██████████| 161/161 [00:05<00:00, 27.64it/s, loss=7.81]\n"
          ]
        },
        {
          "output_type": "stream",
          "name": "stdout",
          "text": [
            "Epoch [1/30] Train Loss: 7.812282115035916\n"
          ]
        },
        {
          "output_type": "stream",
          "name": "stderr",
          "text": [
            "Validation: 100%|██████████| 69/69 [00:02<00:00, 32.72it/s, loss=7.06]\n"
          ]
        },
        {
          "output_type": "stream",
          "name": "stdout",
          "text": [
            "Epoch [1/30] Validation Loss: 7.063415783039038\n"
          ]
        },
        {
          "output_type": "stream",
          "name": "stderr",
          "text": [
            "Training: 100%|██████████| 161/161 [00:04<00:00, 32.85it/s, loss=7.63]\n"
          ]
        },
        {
          "output_type": "stream",
          "name": "stdout",
          "text": [
            "Epoch [2/30] Train Loss: 7.6321164332561615\n"
          ]
        },
        {
          "output_type": "stream",
          "name": "stderr",
          "text": [
            "Validation: 100%|██████████| 69/69 [00:02<00:00, 32.53it/s, loss=6.92]\n"
          ]
        },
        {
          "output_type": "stream",
          "name": "stdout",
          "text": [
            "Epoch [2/30] Validation Loss: 6.922883013020391\n"
          ]
        },
        {
          "output_type": "stream",
          "name": "stderr",
          "text": [
            "Training: 100%|██████████| 161/161 [00:05<00:00, 28.26it/s, loss=7.46]\n"
          ]
        },
        {
          "output_type": "stream",
          "name": "stdout",
          "text": [
            "Epoch [3/30] Train Loss: 7.457272944243058\n"
          ]
        },
        {
          "output_type": "stream",
          "name": "stderr",
          "text": [
            "Validation: 100%|██████████| 69/69 [00:02<00:00, 32.73it/s, loss=6.78]\n"
          ]
        },
        {
          "output_type": "stream",
          "name": "stdout",
          "text": [
            "Epoch [3/30] Validation Loss: 6.779524049897125\n"
          ]
        },
        {
          "output_type": "stream",
          "name": "stderr",
          "text": [
            "Training: 100%|██████████| 161/161 [00:06<00:00, 25.98it/s, loss=7.32]\n"
          ]
        },
        {
          "output_type": "stream",
          "name": "stdout",
          "text": [
            "Epoch [4/30] Train Loss: 7.319363745102971\n"
          ]
        },
        {
          "output_type": "stream",
          "name": "stderr",
          "text": [
            "Validation: 100%|██████████| 69/69 [00:02<00:00, 27.57it/s, loss=6.63]\n"
          ]
        },
        {
          "output_type": "stream",
          "name": "stdout",
          "text": [
            "Epoch [4/30] Validation Loss: 6.630293652631234\n"
          ]
        },
        {
          "output_type": "stream",
          "name": "stderr",
          "text": [
            "Training: 100%|██████████| 161/161 [00:05<00:00, 29.12it/s, loss=7.17]\n"
          ]
        },
        {
          "output_type": "stream",
          "name": "stdout",
          "text": [
            "Epoch [5/30] Train Loss: 7.165336401566215\n"
          ]
        },
        {
          "output_type": "stream",
          "name": "stderr",
          "text": [
            "Validation: 100%|██████████| 69/69 [00:02<00:00, 31.34it/s, loss=6.47]\n"
          ]
        },
        {
          "output_type": "stream",
          "name": "stdout",
          "text": [
            "Epoch [5/30] Validation Loss: 6.470926913662233\n"
          ]
        },
        {
          "output_type": "stream",
          "name": "stderr",
          "text": [
            "Training: 100%|██████████| 161/161 [00:06<00:00, 26.29it/s, loss=6.99]\n"
          ]
        },
        {
          "output_type": "stream",
          "name": "stdout",
          "text": [
            "Epoch [6/30] Train Loss: 6.9900084074979985\n"
          ]
        },
        {
          "output_type": "stream",
          "name": "stderr",
          "text": [
            "Validation: 100%|██████████| 69/69 [00:02<00:00, 31.20it/s, loss=6.3]\n"
          ]
        },
        {
          "output_type": "stream",
          "name": "stdout",
          "text": [
            "Epoch [6/30] Validation Loss: 6.295196194579636\n"
          ]
        },
        {
          "output_type": "stream",
          "name": "stderr",
          "text": [
            "Training: 100%|██████████| 161/161 [00:05<00:00, 28.14it/s, loss=6.78]\n"
          ]
        },
        {
          "output_type": "stream",
          "name": "stdout",
          "text": [
            "Epoch [7/30] Train Loss: 6.777442508602735\n"
          ]
        },
        {
          "output_type": "stream",
          "name": "stderr",
          "text": [
            "Validation: 100%|██████████| 69/69 [00:02<00:00, 26.92it/s, loss=6.1]\n"
          ]
        },
        {
          "output_type": "stream",
          "name": "stdout",
          "text": [
            "Epoch [7/30] Validation Loss: 6.104933351710223\n"
          ]
        },
        {
          "output_type": "stream",
          "name": "stderr",
          "text": [
            "Training: 100%|██████████| 161/161 [00:05<00:00, 30.11it/s, loss=6.6]\n"
          ]
        },
        {
          "output_type": "stream",
          "name": "stdout",
          "text": [
            "Epoch [8/30] Train Loss: 6.598916767546849\n"
          ]
        },
        {
          "output_type": "stream",
          "name": "stderr",
          "text": [
            "Validation: 100%|██████████| 69/69 [00:02<00:00, 30.36it/s, loss=5.9]\n"
          ]
        },
        {
          "output_type": "stream",
          "name": "stdout",
          "text": [
            "Epoch [8/30] Validation Loss: 5.896661689316017\n"
          ]
        },
        {
          "output_type": "stream",
          "name": "stderr",
          "text": [
            "Training: 100%|██████████| 161/161 [00:06<00:00, 25.96it/s, loss=6.37]\n"
          ]
        },
        {
          "output_type": "stream",
          "name": "stdout",
          "text": [
            "Epoch [9/30] Train Loss: 6.371313053628673\n"
          ]
        },
        {
          "output_type": "stream",
          "name": "stderr",
          "text": [
            "Validation: 100%|██████████| 69/69 [00:02<00:00, 31.29it/s, loss=5.67]\n"
          ]
        },
        {
          "output_type": "stream",
          "name": "stdout",
          "text": [
            "Epoch [9/30] Validation Loss: 5.674367469290028\n"
          ]
        },
        {
          "output_type": "stream",
          "name": "stderr",
          "text": [
            "Training: 100%|██████████| 161/161 [00:05<00:00, 28.11it/s, loss=6.09]\n"
          ]
        },
        {
          "output_type": "stream",
          "name": "stdout",
          "text": [
            "Epoch [10/30] Train Loss: 6.085480121351917\n"
          ]
        },
        {
          "output_type": "stream",
          "name": "stderr",
          "text": [
            "Validation: 100%|██████████| 69/69 [00:02<00:00, 26.07it/s, loss=5.44]\n"
          ]
        },
        {
          "output_type": "stream",
          "name": "stdout",
          "text": [
            "Epoch [10/30] Validation Loss: 5.436787864436274\n"
          ]
        },
        {
          "output_type": "stream",
          "name": "stderr",
          "text": [
            "Training: 100%|██████████| 161/161 [00:05<00:00, 29.92it/s, loss=5.88]\n"
          ]
        },
        {
          "output_type": "stream",
          "name": "stdout",
          "text": [
            "Epoch [11/30] Train Loss: 5.878042804528468\n"
          ]
        },
        {
          "output_type": "stream",
          "name": "stderr",
          "text": [
            "Validation: 100%|██████████| 69/69 [00:02<00:00, 31.08it/s, loss=5.19]\n"
          ]
        },
        {
          "output_type": "stream",
          "name": "stdout",
          "text": [
            "Epoch [11/30] Validation Loss: 5.186522964118184\n"
          ]
        },
        {
          "output_type": "stream",
          "name": "stderr",
          "text": [
            "Training: 100%|██████████| 161/161 [00:05<00:00, 26.91it/s, loss=5.58]\n"
          ]
        },
        {
          "output_type": "stream",
          "name": "stdout",
          "text": [
            "Epoch [12/30] Train Loss: 5.58259520027208\n"
          ]
        },
        {
          "output_type": "stream",
          "name": "stderr",
          "text": [
            "Validation: 100%|██████████| 69/69 [00:02<00:00, 31.40it/s, loss=4.92]\n"
          ]
        },
        {
          "output_type": "stream",
          "name": "stdout",
          "text": [
            "Epoch [12/30] Validation Loss: 4.918717342874278\n"
          ]
        },
        {
          "output_type": "stream",
          "name": "stderr",
          "text": [
            "Training: 100%|██████████| 161/161 [00:05<00:00, 30.03it/s, loss=5.3]\n"
          ]
        },
        {
          "output_type": "stream",
          "name": "stdout",
          "text": [
            "Epoch [13/30] Train Loss: 5.303236905092038\n"
          ]
        },
        {
          "output_type": "stream",
          "name": "stderr",
          "text": [
            "Validation: 100%|██████████| 69/69 [00:02<00:00, 25.45it/s, loss=4.64]\n"
          ]
        },
        {
          "output_type": "stream",
          "name": "stdout",
          "text": [
            "Epoch [13/30] Validation Loss: 4.638800213302392\n"
          ]
        },
        {
          "output_type": "stream",
          "name": "stderr",
          "text": [
            "Training: 100%|██████████| 161/161 [00:05<00:00, 30.69it/s, loss=5.02]\n"
          ]
        },
        {
          "output_type": "stream",
          "name": "stdout",
          "text": [
            "Epoch [14/30] Train Loss: 5.022002100204089\n"
          ]
        },
        {
          "output_type": "stream",
          "name": "stderr",
          "text": [
            "Validation: 100%|██████████| 69/69 [00:02<00:00, 30.97it/s, loss=4.35]\n"
          ]
        },
        {
          "output_type": "stream",
          "name": "stdout",
          "text": [
            "Epoch [14/30] Validation Loss: 4.3450486107148985\n"
          ]
        },
        {
          "output_type": "stream",
          "name": "stderr",
          "text": [
            "Training: 100%|██████████| 161/161 [00:05<00:00, 27.24it/s, loss=4.71]\n"
          ]
        },
        {
          "output_type": "stream",
          "name": "stdout",
          "text": [
            "Epoch [15/30] Train Loss: 4.711613464059297\n"
          ]
        },
        {
          "output_type": "stream",
          "name": "stderr",
          "text": [
            "Validation: 100%|██████████| 69/69 [00:02<00:00, 32.39it/s, loss=4.04]\n"
          ]
        },
        {
          "output_type": "stream",
          "name": "stdout",
          "text": [
            "Epoch [15/30] Validation Loss: 4.041296285131703\n"
          ]
        },
        {
          "output_type": "stream",
          "name": "stderr",
          "text": [
            "Training: 100%|██████████| 161/161 [00:06<00:00, 26.21it/s, loss=4.41]\n"
          ]
        },
        {
          "output_type": "stream",
          "name": "stdout",
          "text": [
            "Epoch [16/30] Train Loss: 4.411233906420121\n"
          ]
        },
        {
          "output_type": "stream",
          "name": "stderr",
          "text": [
            "Validation: 100%|██████████| 69/69 [00:02<00:00, 25.38it/s, loss=3.73]\n"
          ]
        },
        {
          "output_type": "stream",
          "name": "stdout",
          "text": [
            "Epoch [16/30] Validation Loss: 3.7302005912946616\n"
          ]
        },
        {
          "output_type": "stream",
          "name": "stderr",
          "text": [
            "Training: 100%|██████████| 161/161 [00:05<00:00, 30.73it/s, loss=4.12]\n"
          ]
        },
        {
          "output_type": "stream",
          "name": "stdout",
          "text": [
            "Epoch [17/30] Train Loss: 4.116728908526971\n"
          ]
        },
        {
          "output_type": "stream",
          "name": "stderr",
          "text": [
            "Validation: 100%|██████████| 69/69 [00:02<00:00, 32.13it/s, loss=3.43]\n"
          ]
        },
        {
          "output_type": "stream",
          "name": "stdout",
          "text": [
            "Epoch [17/30] Validation Loss: 3.4253647638403852\n"
          ]
        },
        {
          "output_type": "stream",
          "name": "stderr",
          "text": [
            "Training: 100%|██████████| 161/161 [00:05<00:00, 27.11it/s, loss=3.83]\n"
          ]
        },
        {
          "output_type": "stream",
          "name": "stdout",
          "text": [
            "Epoch [18/30] Train Loss: 3.8260055358365457\n"
          ]
        },
        {
          "output_type": "stream",
          "name": "stderr",
          "text": [
            "Validation: 100%|██████████| 69/69 [00:02<00:00, 32.17it/s, loss=3.13]\n"
          ]
        },
        {
          "output_type": "stream",
          "name": "stdout",
          "text": [
            "Epoch [18/30] Validation Loss: 3.1272684249325073\n"
          ]
        },
        {
          "output_type": "stream",
          "name": "stderr",
          "text": [
            "Training: 100%|██████████| 161/161 [00:05<00:00, 30.24it/s, loss=3.53]\n"
          ]
        },
        {
          "output_type": "stream",
          "name": "stdout",
          "text": [
            "Epoch [19/30] Train Loss: 3.5255388724877967\n"
          ]
        },
        {
          "output_type": "stream",
          "name": "stderr",
          "text": [
            "Validation: 100%|██████████| 69/69 [00:02<00:00, 24.46it/s, loss=2.85]\n"
          ]
        },
        {
          "output_type": "stream",
          "name": "stdout",
          "text": [
            "Epoch [19/30] Validation Loss: 2.8511911734290747\n"
          ]
        },
        {
          "output_type": "stream",
          "name": "stderr",
          "text": [
            "Training: 100%|██████████| 161/161 [00:05<00:00, 30.05it/s, loss=3.24]\n"
          ]
        },
        {
          "output_type": "stream",
          "name": "stdout",
          "text": [
            "Epoch [20/30] Train Loss: 3.24196826226963\n"
          ]
        },
        {
          "output_type": "stream",
          "name": "stderr",
          "text": [
            "Validation: 100%|██████████| 69/69 [00:02<00:00, 32.95it/s, loss=2.6]\n"
          ]
        },
        {
          "output_type": "stream",
          "name": "stdout",
          "text": [
            "Epoch [20/30] Validation Loss: 2.6045091998749883\n"
          ]
        },
        {
          "output_type": "stream",
          "name": "stderr",
          "text": [
            "Training: 100%|██████████| 161/161 [00:05<00:00, 28.86it/s, loss=3.03]\n"
          ]
        },
        {
          "output_type": "stream",
          "name": "stdout",
          "text": [
            "Epoch [21/30] Train Loss: 3.034441577721827\n"
          ]
        },
        {
          "output_type": "stream",
          "name": "stderr",
          "text": [
            "Validation: 100%|██████████| 69/69 [00:02<00:00, 33.65it/s, loss=2.39]\n"
          ]
        },
        {
          "output_type": "stream",
          "name": "stdout",
          "text": [
            "Epoch [21/30] Validation Loss: 2.3850935265637827\n"
          ]
        },
        {
          "output_type": "stream",
          "name": "stderr",
          "text": [
            "Training: 100%|██████████| 161/161 [00:04<00:00, 32.38it/s, loss=2.84]\n"
          ]
        },
        {
          "output_type": "stream",
          "name": "stdout",
          "text": [
            "Epoch [22/30] Train Loss: 2.841505299443784\n"
          ]
        },
        {
          "output_type": "stream",
          "name": "stderr",
          "text": [
            "Validation: 100%|██████████| 69/69 [00:02<00:00, 31.81it/s, loss=2.19]\n"
          ]
        },
        {
          "output_type": "stream",
          "name": "stdout",
          "text": [
            "Epoch [22/30] Validation Loss: 2.1929700063622515\n"
          ]
        },
        {
          "output_type": "stream",
          "name": "stderr",
          "text": [
            "Training: 100%|██████████| 161/161 [00:05<00:00, 29.46it/s, loss=2.63]\n"
          ]
        },
        {
          "output_type": "stream",
          "name": "stdout",
          "text": [
            "Epoch [23/30] Train Loss: 2.627956884247916\n"
          ]
        },
        {
          "output_type": "stream",
          "name": "stderr",
          "text": [
            "Validation: 100%|██████████| 69/69 [00:02<00:00, 33.95it/s, loss=2.03]\n"
          ]
        },
        {
          "output_type": "stream",
          "name": "stdout",
          "text": [
            "Epoch [23/30] Validation Loss: 2.0275716729786084\n"
          ]
        },
        {
          "output_type": "stream",
          "name": "stderr",
          "text": [
            "Training: 100%|██████████| 161/161 [00:05<00:00, 28.58it/s, loss=2.49]\n"
          ]
        },
        {
          "output_type": "stream",
          "name": "stdout",
          "text": [
            "Epoch [24/30] Train Loss: 2.4949498132148884\n"
          ]
        },
        {
          "output_type": "stream",
          "name": "stderr",
          "text": [
            "Validation: 100%|██████████| 69/69 [00:02<00:00, 29.92it/s, loss=1.89]\n"
          ]
        },
        {
          "output_type": "stream",
          "name": "stdout",
          "text": [
            "Epoch [24/30] Validation Loss: 1.8883662724840469\n"
          ]
        },
        {
          "output_type": "stream",
          "name": "stderr",
          "text": [
            "Training: 100%|██████████| 161/161 [00:04<00:00, 32.29it/s, loss=2.35]\n"
          ]
        },
        {
          "output_type": "stream",
          "name": "stdout",
          "text": [
            "Epoch [25/30] Train Loss: 2.348382604788549\n"
          ]
        },
        {
          "output_type": "stream",
          "name": "stderr",
          "text": [
            "Validation: 100%|██████████| 69/69 [00:02<00:00, 33.95it/s, loss=1.77]\n"
          ]
        },
        {
          "output_type": "stream",
          "name": "stdout",
          "text": [
            "Epoch [25/30] Validation Loss: 1.7662352617236152\n"
          ]
        },
        {
          "output_type": "stream",
          "name": "stderr",
          "text": [
            "Training: 100%|██████████| 161/161 [00:05<00:00, 28.35it/s, loss=2.24]\n"
          ]
        },
        {
          "output_type": "stream",
          "name": "stdout",
          "text": [
            "Epoch [26/30] Train Loss: 2.238648958828138\n"
          ]
        },
        {
          "output_type": "stream",
          "name": "stderr",
          "text": [
            "Validation: 100%|██████████| 69/69 [00:02<00:00, 34.44it/s, loss=1.66]\n"
          ]
        },
        {
          "output_type": "stream",
          "name": "stdout",
          "text": [
            "Epoch [26/30] Validation Loss: 1.65883765877157\n"
          ]
        },
        {
          "output_type": "stream",
          "name": "stderr",
          "text": [
            "Training: 100%|██████████| 161/161 [00:04<00:00, 32.34it/s, loss=2.12]\n"
          ]
        },
        {
          "output_type": "stream",
          "name": "stdout",
          "text": [
            "Epoch [27/30] Train Loss: 2.1167219647709627\n"
          ]
        },
        {
          "output_type": "stream",
          "name": "stderr",
          "text": [
            "Validation: 100%|██████████| 69/69 [00:02<00:00, 26.79it/s, loss=1.57]\n"
          ]
        },
        {
          "output_type": "stream",
          "name": "stdout",
          "text": [
            "Epoch [27/30] Validation Loss: 1.5665901640187139\n"
          ]
        },
        {
          "output_type": "stream",
          "name": "stderr",
          "text": [
            "Training: 100%|██████████| 161/161 [00:05<00:00, 30.78it/s, loss=2.01]\n"
          ]
        },
        {
          "output_type": "stream",
          "name": "stdout",
          "text": [
            "Epoch [28/30] Train Loss: 2.0054058643601698\n"
          ]
        },
        {
          "output_type": "stream",
          "name": "stderr",
          "text": [
            "Validation: 100%|██████████| 69/69 [00:02<00:00, 33.81it/s, loss=1.48]\n"
          ]
        },
        {
          "output_type": "stream",
          "name": "stdout",
          "text": [
            "Epoch [28/30] Validation Loss: 1.4849154914634815\n"
          ]
        },
        {
          "output_type": "stream",
          "name": "stderr",
          "text": [
            "Training: 100%|██████████| 161/161 [00:05<00:00, 28.53it/s, loss=1.95]\n"
          ]
        },
        {
          "output_type": "stream",
          "name": "stdout",
          "text": [
            "Epoch [29/30] Train Loss: 1.9461269171341606\n"
          ]
        },
        {
          "output_type": "stream",
          "name": "stderr",
          "text": [
            "Validation: 100%|██████████| 69/69 [00:02<00:00, 33.54it/s, loss=1.41]\n"
          ]
        },
        {
          "output_type": "stream",
          "name": "stdout",
          "text": [
            "Epoch [29/30] Validation Loss: 1.4112873975781426\n"
          ]
        },
        {
          "output_type": "stream",
          "name": "stderr",
          "text": [
            "Training: 100%|██████████| 161/161 [00:05<00:00, 31.59it/s, loss=1.84]\n"
          ]
        },
        {
          "output_type": "stream",
          "name": "stdout",
          "text": [
            "Epoch [30/30] Train Loss: 1.8411676691185614\n"
          ]
        },
        {
          "output_type": "stream",
          "name": "stderr",
          "text": [
            "Validation: 100%|██████████| 69/69 [00:02<00:00, 32.88it/s, loss=1.35]\n"
          ]
        },
        {
          "output_type": "stream",
          "name": "stdout",
          "text": [
            "Epoch [30/30] Validation Loss: 1.346100321714429\n"
          ]
        },
        {
          "output_type": "stream",
          "name": "stderr",
          "text": [
            "Testing lora on subset2 : 100%|██████████| 38/38 [00:01<00:00, 23.29it/s]\n"
          ]
        },
        {
          "output_type": "stream",
          "name": "stdout",
          "text": [
            "Accuracy: 0.626\n",
            "Wrong counts for the digit 0: 0\n",
            "Wrong counts for the digit 1: 0\n",
            "Wrong counts for the digit 2: 0\n",
            "Wrong counts for the digit 3: 0\n",
            "Wrong counts for the digit 4: 0\n",
            "Wrong counts for the digit 5: 467\n",
            "Wrong counts for the digit 6: 212\n",
            "Wrong counts for the digit 7: 183\n",
            "Wrong counts for the digit 8: 790\n",
            "Wrong counts for the digit 9: 166\n",
            "-------------------------\n",
            "Start training for rank 4\n"
          ]
        },
        {
          "output_type": "stream",
          "name": "stderr",
          "text": [
            "Training: 100%|██████████| 161/161 [00:05<00:00, 31.06it/s, loss=7.69]\n"
          ]
        },
        {
          "output_type": "stream",
          "name": "stdout",
          "text": [
            "Epoch [1/30] Train Loss: 7.692246096474784\n"
          ]
        },
        {
          "output_type": "stream",
          "name": "stderr",
          "text": [
            "Validation: 100%|██████████| 69/69 [00:02<00:00, 32.94it/s, loss=6.85]\n"
          ]
        },
        {
          "output_type": "stream",
          "name": "stdout",
          "text": [
            "Epoch [1/30] Validation Loss: 6.8470437975897305\n"
          ]
        },
        {
          "output_type": "stream",
          "name": "stderr",
          "text": [
            "Training: 100%|██████████| 161/161 [00:05<00:00, 27.30it/s, loss=7.23]\n"
          ]
        },
        {
          "output_type": "stream",
          "name": "stdout",
          "text": [
            "Epoch [2/30] Train Loss: 7.22970704262301\n"
          ]
        },
        {
          "output_type": "stream",
          "name": "stderr",
          "text": [
            "Validation: 100%|██████████| 69/69 [00:02<00:00, 33.54it/s, loss=6.41]\n"
          ]
        },
        {
          "output_type": "stream",
          "name": "stdout",
          "text": [
            "Epoch [2/30] Validation Loss: 6.414834285127943\n"
          ]
        },
        {
          "output_type": "stream",
          "name": "stderr",
          "text": [
            "Training: 100%|██████████| 161/161 [00:05<00:00, 32.02it/s, loss=6.8]\n"
          ]
        },
        {
          "output_type": "stream",
          "name": "stdout",
          "text": [
            "Epoch [3/30] Train Loss: 6.798641782369673\n"
          ]
        },
        {
          "output_type": "stream",
          "name": "stderr",
          "text": [
            "Validation: 100%|██████████| 69/69 [00:02<00:00, 33.42it/s, loss=5.98]\n"
          ]
        },
        {
          "output_type": "stream",
          "name": "stdout",
          "text": [
            "Epoch [3/30] Validation Loss: 5.9783912810726445\n"
          ]
        },
        {
          "output_type": "stream",
          "name": "stderr",
          "text": [
            "Training: 100%|██████████| 161/161 [00:05<00:00, 28.32it/s, loss=6.29]\n"
          ]
        },
        {
          "output_type": "stream",
          "name": "stdout",
          "text": [
            "Epoch [4/30] Train Loss: 6.286094052450998\n"
          ]
        },
        {
          "output_type": "stream",
          "name": "stderr",
          "text": [
            "Validation: 100%|██████████| 69/69 [00:02<00:00, 33.33it/s, loss=5.52]\n"
          ]
        },
        {
          "output_type": "stream",
          "name": "stdout",
          "text": [
            "Epoch [4/30] Validation Loss: 5.523694936779962\n"
          ]
        },
        {
          "output_type": "stream",
          "name": "stderr",
          "text": [
            "Training: 100%|██████████| 161/161 [00:05<00:00, 31.34it/s, loss=5.82]\n"
          ]
        },
        {
          "output_type": "stream",
          "name": "stdout",
          "text": [
            "Epoch [5/30] Train Loss: 5.817304830373444\n"
          ]
        },
        {
          "output_type": "stream",
          "name": "stderr",
          "text": [
            "Validation: 100%|██████████| 69/69 [00:02<00:00, 26.71it/s, loss=5.05]\n"
          ]
        },
        {
          "output_type": "stream",
          "name": "stdout",
          "text": [
            "Epoch [5/30] Validation Loss: 5.054563819498256\n"
          ]
        },
        {
          "output_type": "stream",
          "name": "stderr",
          "text": [
            "Training: 100%|██████████| 161/161 [00:05<00:00, 31.24it/s, loss=5.29]\n"
          ]
        },
        {
          "output_type": "stream",
          "name": "stdout",
          "text": [
            "Epoch [6/30] Train Loss: 5.285459392559455\n"
          ]
        },
        {
          "output_type": "stream",
          "name": "stderr",
          "text": [
            "Validation: 100%|██████████| 69/69 [00:02<00:00, 33.61it/s, loss=4.57]\n"
          ]
        },
        {
          "output_type": "stream",
          "name": "stdout",
          "text": [
            "Epoch [6/30] Validation Loss: 4.574204628018365\n"
          ]
        },
        {
          "output_type": "stream",
          "name": "stderr",
          "text": [
            "Training: 100%|██████████| 161/161 [00:05<00:00, 28.48it/s, loss=4.76]\n"
          ]
        },
        {
          "output_type": "stream",
          "name": "stdout",
          "text": [
            "Epoch [7/30] Train Loss: 4.757047115645793\n"
          ]
        },
        {
          "output_type": "stream",
          "name": "stderr",
          "text": [
            "Validation: 100%|██████████| 69/69 [00:02<00:00, 33.82it/s, loss=4.09]\n"
          ]
        },
        {
          "output_type": "stream",
          "name": "stdout",
          "text": [
            "Epoch [7/30] Validation Loss: 4.089007422543954\n"
          ]
        },
        {
          "output_type": "stream",
          "name": "stderr",
          "text": [
            "Training: 100%|██████████| 161/161 [00:05<00:00, 31.63it/s, loss=4.31]\n"
          ]
        },
        {
          "output_type": "stream",
          "name": "stdout",
          "text": [
            "Epoch [8/30] Train Loss: 4.310648531647202\n"
          ]
        },
        {
          "output_type": "stream",
          "name": "stderr",
          "text": [
            "Validation: 100%|██████████| 69/69 [00:02<00:00, 28.16it/s, loss=3.6]\n"
          ]
        },
        {
          "output_type": "stream",
          "name": "stdout",
          "text": [
            "Epoch [8/30] Validation Loss: 3.5993234178294307\n"
          ]
        },
        {
          "output_type": "stream",
          "name": "stderr",
          "text": [
            "Training: 100%|██████████| 161/161 [00:05<00:00, 30.19it/s, loss=3.79]\n"
          ]
        },
        {
          "output_type": "stream",
          "name": "stdout",
          "text": [
            "Epoch [9/30] Train Loss: 3.786848971562356\n"
          ]
        },
        {
          "output_type": "stream",
          "name": "stderr",
          "text": [
            "Validation: 100%|██████████| 69/69 [00:02<00:00, 32.89it/s, loss=3.14]\n"
          ]
        },
        {
          "output_type": "stream",
          "name": "stdout",
          "text": [
            "Epoch [9/30] Validation Loss: 3.1364081147788228\n"
          ]
        },
        {
          "output_type": "stream",
          "name": "stderr",
          "text": [
            "Training: 100%|██████████| 161/161 [00:05<00:00, 27.45it/s, loss=3.4]\n"
          ]
        },
        {
          "output_type": "stream",
          "name": "stdout",
          "text": [
            "Epoch [10/30] Train Loss: 3.4016354513464506\n"
          ]
        },
        {
          "output_type": "stream",
          "name": "stderr",
          "text": [
            "Validation: 100%|██████████| 69/69 [00:02<00:00, 33.74it/s, loss=2.71]\n"
          ]
        },
        {
          "output_type": "stream",
          "name": "stdout",
          "text": [
            "Epoch [10/30] Validation Loss: 2.714755538581074\n"
          ]
        },
        {
          "output_type": "stream",
          "name": "stderr",
          "text": [
            "Training: 100%|██████████| 161/161 [00:04<00:00, 32.56it/s, loss=3]\n"
          ]
        },
        {
          "output_type": "stream",
          "name": "stdout",
          "text": [
            "Epoch [11/30] Train Loss: 2.9956969526243507\n"
          ]
        },
        {
          "output_type": "stream",
          "name": "stderr",
          "text": [
            "Validation: 100%|██████████| 69/69 [00:02<00:00, 33.60it/s, loss=2.35]\n"
          ]
        },
        {
          "output_type": "stream",
          "name": "stdout",
          "text": [
            "Epoch [11/30] Validation Loss: 2.3504491871681767\n"
          ]
        },
        {
          "output_type": "stream",
          "name": "stderr",
          "text": [
            "Training: 100%|██████████| 161/161 [00:05<00:00, 28.28it/s, loss=2.68]\n"
          ]
        },
        {
          "output_type": "stream",
          "name": "stdout",
          "text": [
            "Epoch [12/30] Train Loss: 2.6831526326837007\n"
          ]
        },
        {
          "output_type": "stream",
          "name": "stderr",
          "text": [
            "Validation: 100%|██████████| 69/69 [00:02<00:00, 33.48it/s, loss=2.04]\n"
          ]
        },
        {
          "output_type": "stream",
          "name": "stdout",
          "text": [
            "Epoch [12/30] Validation Loss: 2.0374025590177895\n"
          ]
        },
        {
          "output_type": "stream",
          "name": "stderr",
          "text": [
            "Training: 100%|██████████| 161/161 [00:05<00:00, 31.76it/s, loss=2.42]\n"
          ]
        },
        {
          "output_type": "stream",
          "name": "stdout",
          "text": [
            "Epoch [13/30] Train Loss: 2.4156809497323835\n"
          ]
        },
        {
          "output_type": "stream",
          "name": "stderr",
          "text": [
            "Validation: 100%|██████████| 69/69 [00:02<00:00, 24.40it/s, loss=1.78]\n"
          ]
        },
        {
          "output_type": "stream",
          "name": "stdout",
          "text": [
            "Epoch [13/30] Validation Loss: 1.7765015864717788\n"
          ]
        },
        {
          "output_type": "stream",
          "name": "stderr",
          "text": [
            "Training: 100%|██████████| 161/161 [00:05<00:00, 31.36it/s, loss=2.17]\n"
          ]
        },
        {
          "output_type": "stream",
          "name": "stdout",
          "text": [
            "Epoch [14/30] Train Loss: 2.169832842690604\n"
          ]
        },
        {
          "output_type": "stream",
          "name": "stderr",
          "text": [
            "Validation: 100%|██████████| 69/69 [00:02<00:00, 33.52it/s, loss=1.57]\n"
          ]
        },
        {
          "output_type": "stream",
          "name": "stdout",
          "text": [
            "Epoch [14/30] Validation Loss: 1.5653859169586846\n"
          ]
        },
        {
          "output_type": "stream",
          "name": "stderr",
          "text": [
            "Training: 100%|██████████| 161/161 [00:05<00:00, 27.85it/s, loss=1.98]\n"
          ]
        },
        {
          "output_type": "stream",
          "name": "stdout",
          "text": [
            "Epoch [15/30] Train Loss: 1.984132985150592\n"
          ]
        },
        {
          "output_type": "stream",
          "name": "stderr",
          "text": [
            "Validation: 100%|██████████| 69/69 [00:02<00:00, 33.15it/s, loss=1.4]\n"
          ]
        },
        {
          "output_type": "stream",
          "name": "stdout",
          "text": [
            "Epoch [15/30] Validation Loss: 1.4025664338167163\n"
          ]
        },
        {
          "output_type": "stream",
          "name": "stderr",
          "text": [
            "Training: 100%|██████████| 161/161 [00:05<00:00, 30.57it/s, loss=1.85]\n"
          ]
        },
        {
          "output_type": "stream",
          "name": "stdout",
          "text": [
            "Epoch [16/30] Train Loss: 1.8472773902904913\n"
          ]
        },
        {
          "output_type": "stream",
          "name": "stderr",
          "text": [
            "Validation: 100%|██████████| 69/69 [00:02<00:00, 28.04it/s, loss=1.27]\n"
          ]
        },
        {
          "output_type": "stream",
          "name": "stdout",
          "text": [
            "Epoch [16/30] Validation Loss: 1.2726653589718584\n"
          ]
        },
        {
          "output_type": "stream",
          "name": "stderr",
          "text": [
            "Training: 100%|██████████| 161/161 [00:05<00:00, 29.93it/s, loss=1.7]\n"
          ]
        },
        {
          "output_type": "stream",
          "name": "stdout",
          "text": [
            "Epoch [17/30] Train Loss: 1.701901804586375\n"
          ]
        },
        {
          "output_type": "stream",
          "name": "stderr",
          "text": [
            "Validation: 100%|██████████| 69/69 [00:02<00:00, 32.84it/s, loss=1.17]\n"
          ]
        },
        {
          "output_type": "stream",
          "name": "stdout",
          "text": [
            "Epoch [17/30] Validation Loss: 1.168794308019721\n"
          ]
        },
        {
          "output_type": "stream",
          "name": "stderr",
          "text": [
            "Training: 100%|██████████| 161/161 [00:05<00:00, 27.50it/s, loss=1.6]\n"
          ]
        },
        {
          "output_type": "stream",
          "name": "stdout",
          "text": [
            "Epoch [18/30] Train Loss: 1.6009069773721398\n"
          ]
        },
        {
          "output_type": "stream",
          "name": "stderr",
          "text": [
            "Validation: 100%|██████████| 69/69 [00:02<00:00, 33.18it/s, loss=1.08]\n"
          ]
        },
        {
          "output_type": "stream",
          "name": "stdout",
          "text": [
            "Epoch [18/30] Validation Loss: 1.0833139505939207\n"
          ]
        },
        {
          "output_type": "stream",
          "name": "stderr",
          "text": [
            "Training: 100%|██████████| 161/161 [00:05<00:00, 31.52it/s, loss=1.51]\n"
          ]
        },
        {
          "output_type": "stream",
          "name": "stdout",
          "text": [
            "Epoch [19/30] Train Loss: 1.5116016235410796\n"
          ]
        },
        {
          "output_type": "stream",
          "name": "stderr",
          "text": [
            "Validation: 100%|██████████| 69/69 [00:02<00:00, 28.94it/s, loss=1.01]\n"
          ]
        },
        {
          "output_type": "stream",
          "name": "stdout",
          "text": [
            "Epoch [19/30] Validation Loss: 1.0139113224071006\n"
          ]
        },
        {
          "output_type": "stream",
          "name": "stderr",
          "text": [
            "Training: 100%|██████████| 161/161 [00:06<00:00, 25.77it/s, loss=1.44]\n"
          ]
        },
        {
          "output_type": "stream",
          "name": "stdout",
          "text": [
            "Epoch [20/30] Train Loss: 1.4384128740115196\n"
          ]
        },
        {
          "output_type": "stream",
          "name": "stderr",
          "text": [
            "Validation: 100%|██████████| 69/69 [00:02<00:00, 32.03it/s, loss=0.953]\n"
          ]
        },
        {
          "output_type": "stream",
          "name": "stdout",
          "text": [
            "Epoch [20/30] Validation Loss: 0.9533397589904674\n"
          ]
        },
        {
          "output_type": "stream",
          "name": "stderr",
          "text": [
            "Training: 100%|██████████| 161/161 [00:05<00:00, 30.21it/s, loss=1.36]\n"
          ]
        },
        {
          "output_type": "stream",
          "name": "stdout",
          "text": [
            "Epoch [21/30] Train Loss: 1.3618861355396532\n"
          ]
        },
        {
          "output_type": "stream",
          "name": "stderr",
          "text": [
            "Validation: 100%|██████████| 69/69 [00:02<00:00, 26.52it/s, loss=0.9]\n"
          ]
        },
        {
          "output_type": "stream",
          "name": "stdout",
          "text": [
            "Epoch [21/30] Validation Loss: 0.9001228187395178\n"
          ]
        },
        {
          "output_type": "stream",
          "name": "stderr",
          "text": [
            "Training: 100%|██████████| 161/161 [00:05<00:00, 29.62it/s, loss=1.31]\n"
          ]
        },
        {
          "output_type": "stream",
          "name": "stdout",
          "text": [
            "Epoch [22/30] Train Loss: 1.3111460116339027\n"
          ]
        },
        {
          "output_type": "stream",
          "name": "stderr",
          "text": [
            "Validation: 100%|██████████| 69/69 [00:02<00:00, 32.64it/s, loss=0.853]\n"
          ]
        },
        {
          "output_type": "stream",
          "name": "stdout",
          "text": [
            "Epoch [22/30] Validation Loss: 0.8533854778262152\n"
          ]
        },
        {
          "output_type": "stream",
          "name": "stderr",
          "text": [
            "Training: 100%|██████████| 161/161 [00:05<00:00, 27.83it/s, loss=1.26]\n"
          ]
        },
        {
          "output_type": "stream",
          "name": "stdout",
          "text": [
            "Epoch [23/30] Train Loss: 1.256735402234593\n"
          ]
        },
        {
          "output_type": "stream",
          "name": "stderr",
          "text": [
            "Validation: 100%|██████████| 69/69 [00:02<00:00, 32.63it/s, loss=0.813]\n"
          ]
        },
        {
          "output_type": "stream",
          "name": "stdout",
          "text": [
            "Epoch [23/30] Validation Loss: 0.8132822815922723\n"
          ]
        },
        {
          "output_type": "stream",
          "name": "stderr",
          "text": [
            "Training: 100%|██████████| 161/161 [00:05<00:00, 31.63it/s, loss=1.2]\n"
          ]
        },
        {
          "output_type": "stream",
          "name": "stdout",
          "text": [
            "Epoch [24/30] Train Loss: 1.199957996051504\n"
          ]
        },
        {
          "output_type": "stream",
          "name": "stderr",
          "text": [
            "Validation: 100%|██████████| 69/69 [00:02<00:00, 24.89it/s, loss=0.777]\n"
          ]
        },
        {
          "output_type": "stream",
          "name": "stdout",
          "text": [
            "Epoch [24/30] Validation Loss: 0.7767077256803927\n"
          ]
        },
        {
          "output_type": "stream",
          "name": "stderr",
          "text": [
            "Training: 100%|██████████| 161/161 [00:05<00:00, 31.67it/s, loss=1.16]\n"
          ]
        },
        {
          "output_type": "stream",
          "name": "stdout",
          "text": [
            "Epoch [25/30] Train Loss: 1.1643746250904865\n"
          ]
        },
        {
          "output_type": "stream",
          "name": "stderr",
          "text": [
            "Validation: 100%|██████████| 69/69 [00:02<00:00, 32.10it/s, loss=0.745]\n"
          ]
        },
        {
          "output_type": "stream",
          "name": "stdout",
          "text": [
            "Epoch [25/30] Validation Loss: 0.7447666452414747\n"
          ]
        },
        {
          "output_type": "stream",
          "name": "stderr",
          "text": [
            "Training: 100%|██████████| 161/161 [00:05<00:00, 27.15it/s, loss=1.12]\n"
          ]
        },
        {
          "output_type": "stream",
          "name": "stdout",
          "text": [
            "Epoch [26/30] Train Loss: 1.1184800552285237\n"
          ]
        },
        {
          "output_type": "stream",
          "name": "stderr",
          "text": [
            "Validation: 100%|██████████| 69/69 [00:02<00:00, 33.09it/s, loss=0.715]\n"
          ]
        },
        {
          "output_type": "stream",
          "name": "stdout",
          "text": [
            "Epoch [26/30] Validation Loss: 0.7146368303160736\n"
          ]
        },
        {
          "output_type": "stream",
          "name": "stderr",
          "text": [
            "Training: 100%|██████████| 161/161 [00:05<00:00, 31.44it/s, loss=1.08]\n"
          ]
        },
        {
          "output_type": "stream",
          "name": "stdout",
          "text": [
            "Epoch [27/30] Train Loss: 1.0790261045005751\n"
          ]
        },
        {
          "output_type": "stream",
          "name": "stderr",
          "text": [
            "Validation: 100%|██████████| 69/69 [00:02<00:00, 30.68it/s, loss=0.688]\n"
          ]
        },
        {
          "output_type": "stream",
          "name": "stdout",
          "text": [
            "Epoch [27/30] Validation Loss: 0.6877172757749972\n"
          ]
        },
        {
          "output_type": "stream",
          "name": "stderr",
          "text": [
            "Training: 100%|██████████| 161/161 [00:05<00:00, 28.60it/s, loss=1.07]\n"
          ]
        },
        {
          "output_type": "stream",
          "name": "stdout",
          "text": [
            "Epoch [28/30] Train Loss: 1.0661141257848799\n"
          ]
        },
        {
          "output_type": "stream",
          "name": "stderr",
          "text": [
            "Validation: 100%|██████████| 69/69 [00:02<00:00, 31.71it/s, loss=0.664]\n"
          ]
        },
        {
          "output_type": "stream",
          "name": "stdout",
          "text": [
            "Epoch [28/30] Validation Loss: 0.6637582778930664\n"
          ]
        },
        {
          "output_type": "stream",
          "name": "stderr",
          "text": [
            "Training: 100%|██████████| 161/161 [00:05<00:00, 28.34it/s, loss=1.02]\n"
          ]
        },
        {
          "output_type": "stream",
          "name": "stdout",
          "text": [
            "Epoch [29/30] Train Loss: 1.021331733057958\n"
          ]
        },
        {
          "output_type": "stream",
          "name": "stderr",
          "text": [
            "Validation: 100%|██████████| 69/69 [00:02<00:00, 29.70it/s, loss=0.641]\n"
          ]
        },
        {
          "output_type": "stream",
          "name": "stdout",
          "text": [
            "Epoch [29/30] Validation Loss: 0.6407286585241124\n"
          ]
        },
        {
          "output_type": "stream",
          "name": "stderr",
          "text": [
            "Training: 100%|██████████| 161/161 [00:05<00:00, 29.28it/s, loss=0.983]\n"
          ]
        },
        {
          "output_type": "stream",
          "name": "stdout",
          "text": [
            "Epoch [30/30] Train Loss: 0.9827952447885312\n"
          ]
        },
        {
          "output_type": "stream",
          "name": "stderr",
          "text": [
            "Validation: 100%|██████████| 69/69 [00:02<00:00, 32.31it/s, loss=0.62]\n"
          ]
        },
        {
          "output_type": "stream",
          "name": "stdout",
          "text": [
            "Epoch [30/30] Validation Loss: 0.6200919298158176\n"
          ]
        },
        {
          "output_type": "stream",
          "name": "stderr",
          "text": [
            "Testing lora on subset2 : 100%|██████████| 38/38 [00:01<00:00, 24.81it/s]\n"
          ]
        },
        {
          "output_type": "stream",
          "name": "stdout",
          "text": [
            "Accuracy: 0.832\n",
            "Wrong counts for the digit 0: 0\n",
            "Wrong counts for the digit 1: 0\n",
            "Wrong counts for the digit 2: 0\n",
            "Wrong counts for the digit 3: 0\n",
            "Wrong counts for the digit 4: 0\n",
            "Wrong counts for the digit 5: 163\n",
            "Wrong counts for the digit 6: 52\n",
            "Wrong counts for the digit 7: 152\n",
            "Wrong counts for the digit 8: 299\n",
            "Wrong counts for the digit 9: 153\n",
            "-------------------------\n",
            "Start training for rank 8\n"
          ]
        },
        {
          "output_type": "stream",
          "name": "stderr",
          "text": [
            "Training: 100%|██████████| 161/161 [00:05<00:00, 29.29it/s, loss=7.11]\n"
          ]
        },
        {
          "output_type": "stream",
          "name": "stdout",
          "text": [
            "Epoch [1/30] Train Loss: 7.1103224695099065\n"
          ]
        },
        {
          "output_type": "stream",
          "name": "stderr",
          "text": [
            "Validation: 100%|██████████| 69/69 [00:02<00:00, 33.17it/s, loss=6.11]\n"
          ]
        },
        {
          "output_type": "stream",
          "name": "stdout",
          "text": [
            "Epoch [1/30] Validation Loss: 6.109523192695949\n"
          ]
        },
        {
          "output_type": "stream",
          "name": "stderr",
          "text": [
            "Training: 100%|██████████| 161/161 [00:05<00:00, 27.25it/s, loss=6.26]\n"
          ]
        },
        {
          "output_type": "stream",
          "name": "stdout",
          "text": [
            "Epoch [2/30] Train Loss: 6.257770668645823\n"
          ]
        },
        {
          "output_type": "stream",
          "name": "stderr",
          "text": [
            "Validation: 100%|██████████| 69/69 [00:02<00:00, 31.64it/s, loss=5.37]\n"
          ]
        },
        {
          "output_type": "stream",
          "name": "stdout",
          "text": [
            "Epoch [2/30] Validation Loss: 5.368116917817489\n"
          ]
        },
        {
          "output_type": "stream",
          "name": "stderr",
          "text": [
            "Training: 100%|██████████| 161/161 [00:05<00:00, 31.14it/s, loss=5.49]\n"
          ]
        },
        {
          "output_type": "stream",
          "name": "stdout",
          "text": [
            "Epoch [3/30] Train Loss: 5.49495538125127\n"
          ]
        },
        {
          "output_type": "stream",
          "name": "stderr",
          "text": [
            "Validation: 100%|██████████| 69/69 [00:02<00:00, 30.12it/s, loss=4.65]\n"
          ]
        },
        {
          "output_type": "stream",
          "name": "stdout",
          "text": [
            "Epoch [3/30] Validation Loss: 4.64726438038591\n"
          ]
        },
        {
          "output_type": "stream",
          "name": "stderr",
          "text": [
            "Training: 100%|██████████| 161/161 [00:05<00:00, 27.66it/s, loss=4.81]\n"
          ]
        },
        {
          "output_type": "stream",
          "name": "stdout",
          "text": [
            "Epoch [4/30] Train Loss: 4.808625712898207\n"
          ]
        },
        {
          "output_type": "stream",
          "name": "stderr",
          "text": [
            "Validation: 100%|██████████| 69/69 [00:02<00:00, 32.48it/s, loss=3.95]\n"
          ]
        },
        {
          "output_type": "stream",
          "name": "stdout",
          "text": [
            "Epoch [4/30] Validation Loss: 3.9462594087573066\n"
          ]
        },
        {
          "output_type": "stream",
          "name": "stderr",
          "text": [
            "Training: 100%|██████████| 161/161 [00:05<00:00, 28.85it/s, loss=4.14]\n"
          ]
        },
        {
          "output_type": "stream",
          "name": "stdout",
          "text": [
            "Epoch [5/30] Train Loss: 4.136618049988836\n"
          ]
        },
        {
          "output_type": "stream",
          "name": "stderr",
          "text": [
            "Validation: 100%|██████████| 69/69 [00:02<00:00, 28.67it/s, loss=3.28]\n"
          ]
        },
        {
          "output_type": "stream",
          "name": "stdout",
          "text": [
            "Epoch [5/30] Validation Loss: 3.278078048125557\n"
          ]
        },
        {
          "output_type": "stream",
          "name": "stderr",
          "text": [
            "Training: 100%|██████████| 161/161 [00:05<00:00, 31.22it/s, loss=3.5]\n"
          ]
        },
        {
          "output_type": "stream",
          "name": "stdout",
          "text": [
            "Epoch [6/30] Train Loss: 3.496676094043329\n"
          ]
        },
        {
          "output_type": "stream",
          "name": "stderr",
          "text": [
            "Validation: 100%|██████████| 69/69 [00:02<00:00, 32.14it/s, loss=2.7]\n"
          ]
        },
        {
          "output_type": "stream",
          "name": "stdout",
          "text": [
            "Epoch [6/30] Validation Loss: 2.698584086653115\n"
          ]
        },
        {
          "output_type": "stream",
          "name": "stderr",
          "text": [
            "Training: 100%|██████████| 161/161 [00:05<00:00, 27.75it/s, loss=2.97]\n"
          ]
        },
        {
          "output_type": "stream",
          "name": "stdout",
          "text": [
            "Epoch [7/30] Train Loss: 2.973321297153923\n"
          ]
        },
        {
          "output_type": "stream",
          "name": "stderr",
          "text": [
            "Validation: 100%|██████████| 69/69 [00:02<00:00, 29.38it/s, loss=2.23]\n"
          ]
        },
        {
          "output_type": "stream",
          "name": "stdout",
          "text": [
            "Epoch [7/30] Validation Loss: 2.2252901757972827\n"
          ]
        },
        {
          "output_type": "stream",
          "name": "stderr",
          "text": [
            "Training: 100%|██████████| 161/161 [00:05<00:00, 31.65it/s, loss=2.59]\n"
          ]
        },
        {
          "output_type": "stream",
          "name": "stdout",
          "text": [
            "Epoch [8/30] Train Loss: 2.5945354448342175\n"
          ]
        },
        {
          "output_type": "stream",
          "name": "stderr",
          "text": [
            "Validation: 100%|██████████| 69/69 [00:02<00:00, 25.30it/s, loss=1.88]\n"
          ]
        },
        {
          "output_type": "stream",
          "name": "stdout",
          "text": [
            "Epoch [8/30] Validation Loss: 1.8765518613483594\n"
          ]
        },
        {
          "output_type": "stream",
          "name": "stderr",
          "text": [
            "Training: 100%|██████████| 161/161 [00:05<00:00, 31.07it/s, loss=2.31]\n"
          ]
        },
        {
          "output_type": "stream",
          "name": "stdout",
          "text": [
            "Epoch [9/30] Train Loss: 2.3051414030679265\n"
          ]
        },
        {
          "output_type": "stream",
          "name": "stderr",
          "text": [
            "Validation: 100%|██████████| 69/69 [00:02<00:00, 32.58it/s, loss=1.64]\n"
          ]
        },
        {
          "output_type": "stream",
          "name": "stdout",
          "text": [
            "Epoch [9/30] Validation Loss: 1.6360888221989507\n"
          ]
        },
        {
          "output_type": "stream",
          "name": "stderr",
          "text": [
            "Training: 100%|██████████| 161/161 [00:05<00:00, 27.59it/s, loss=2.09]\n"
          ]
        },
        {
          "output_type": "stream",
          "name": "stdout",
          "text": [
            "Epoch [10/30] Train Loss: 2.085356133324759\n"
          ]
        },
        {
          "output_type": "stream",
          "name": "stderr",
          "text": [
            "Validation: 100%|██████████| 69/69 [00:02<00:00, 32.75it/s, loss=1.46]\n"
          ]
        },
        {
          "output_type": "stream",
          "name": "stdout",
          "text": [
            "Epoch [10/30] Validation Loss: 1.4595068123029626\n"
          ]
        },
        {
          "output_type": "stream",
          "name": "stderr",
          "text": [
            "Training: 100%|██████████| 161/161 [00:05<00:00, 31.56it/s, loss=1.9]\n"
          ]
        },
        {
          "output_type": "stream",
          "name": "stdout",
          "text": [
            "Epoch [11/30] Train Loss: 1.903963579894593\n"
          ]
        },
        {
          "output_type": "stream",
          "name": "stderr",
          "text": [
            "Validation: 100%|██████████| 69/69 [00:02<00:00, 25.20it/s, loss=1.33]\n"
          ]
        },
        {
          "output_type": "stream",
          "name": "stdout",
          "text": [
            "Epoch [11/30] Validation Loss: 1.3255298206771629\n"
          ]
        },
        {
          "output_type": "stream",
          "name": "stderr",
          "text": [
            "Training: 100%|██████████| 161/161 [00:05<00:00, 30.28it/s, loss=1.74]\n"
          ]
        },
        {
          "output_type": "stream",
          "name": "stdout",
          "text": [
            "Epoch [12/30] Train Loss: 1.742394841235617\n"
          ]
        },
        {
          "output_type": "stream",
          "name": "stderr",
          "text": [
            "Validation: 100%|██████████| 69/69 [00:02<00:00, 32.91it/s, loss=1.21]\n"
          ]
        },
        {
          "output_type": "stream",
          "name": "stdout",
          "text": [
            "Epoch [12/30] Validation Loss: 1.2136286410732546\n"
          ]
        },
        {
          "output_type": "stream",
          "name": "stderr",
          "text": [
            "Training: 100%|██████████| 161/161 [00:05<00:00, 27.54it/s, loss=1.64]\n"
          ]
        },
        {
          "output_type": "stream",
          "name": "stdout",
          "text": [
            "Epoch [13/30] Train Loss: 1.64067422455142\n"
          ]
        },
        {
          "output_type": "stream",
          "name": "stderr",
          "text": [
            "Validation: 100%|██████████| 69/69 [00:02<00:00, 33.10it/s, loss=1.12]\n"
          ]
        },
        {
          "output_type": "stream",
          "name": "stdout",
          "text": [
            "Epoch [13/30] Validation Loss: 1.118014919585076\n"
          ]
        },
        {
          "output_type": "stream",
          "name": "stderr",
          "text": [
            "Training: 100%|██████████| 161/161 [00:05<00:00, 31.52it/s, loss=1.52]\n"
          ]
        },
        {
          "output_type": "stream",
          "name": "stdout",
          "text": [
            "Epoch [14/30] Train Loss: 1.5184580039533768\n"
          ]
        },
        {
          "output_type": "stream",
          "name": "stderr",
          "text": [
            "Validation: 100%|██████████| 69/69 [00:02<00:00, 32.31it/s, loss=1.03]\n"
          ]
        },
        {
          "output_type": "stream",
          "name": "stdout",
          "text": [
            "Epoch [14/30] Validation Loss: 1.0341836024021758\n"
          ]
        },
        {
          "output_type": "stream",
          "name": "stderr",
          "text": [
            "Training: 100%|██████████| 161/161 [00:05<00:00, 27.17it/s, loss=1.42]\n"
          ]
        },
        {
          "output_type": "stream",
          "name": "stdout",
          "text": [
            "Epoch [15/30] Train Loss: 1.4165522034123819\n"
          ]
        },
        {
          "output_type": "stream",
          "name": "stderr",
          "text": [
            "Validation: 100%|██████████| 69/69 [00:02<00:00, 31.96it/s, loss=0.961]\n"
          ]
        },
        {
          "output_type": "stream",
          "name": "stdout",
          "text": [
            "Epoch [15/30] Validation Loss: 0.9607456352399744\n"
          ]
        },
        {
          "output_type": "stream",
          "name": "stderr",
          "text": [
            "Training: 100%|██████████| 161/161 [00:05<00:00, 28.95it/s, loss=1.33]\n"
          ]
        },
        {
          "output_type": "stream",
          "name": "stdout",
          "text": [
            "Epoch [16/30] Train Loss: 1.3285142124069402\n"
          ]
        },
        {
          "output_type": "stream",
          "name": "stderr",
          "text": [
            "Validation: 100%|██████████| 69/69 [00:02<00:00, 27.28it/s, loss=0.895]\n"
          ]
        },
        {
          "output_type": "stream",
          "name": "stdout",
          "text": [
            "Epoch [16/30] Validation Loss: 0.8946886978287628\n"
          ]
        },
        {
          "output_type": "stream",
          "name": "stderr",
          "text": [
            "Training: 100%|██████████| 161/161 [00:05<00:00, 31.50it/s, loss=1.25]\n"
          ]
        },
        {
          "output_type": "stream",
          "name": "stdout",
          "text": [
            "Epoch [17/30] Train Loss: 1.2524116416895612\n"
          ]
        },
        {
          "output_type": "stream",
          "name": "stderr",
          "text": [
            "Validation: 100%|██████████| 69/69 [00:02<00:00, 32.82it/s, loss=0.835]\n"
          ]
        },
        {
          "output_type": "stream",
          "name": "stdout",
          "text": [
            "Epoch [17/30] Validation Loss: 0.8350617816482765\n"
          ]
        },
        {
          "output_type": "stream",
          "name": "stderr",
          "text": [
            "Training: 100%|██████████| 161/161 [00:05<00:00, 27.85it/s, loss=1.19]\n"
          ]
        },
        {
          "output_type": "stream",
          "name": "stdout",
          "text": [
            "Epoch [18/30] Train Loss: 1.1859227833540544\n"
          ]
        },
        {
          "output_type": "stream",
          "name": "stderr",
          "text": [
            "Validation: 100%|██████████| 69/69 [00:02<00:00, 32.97it/s, loss=0.783]\n"
          ]
        },
        {
          "output_type": "stream",
          "name": "stdout",
          "text": [
            "Epoch [18/30] Validation Loss: 0.7832405752893807\n"
          ]
        },
        {
          "output_type": "stream",
          "name": "stderr",
          "text": [
            "Training: 100%|██████████| 161/161 [00:05<00:00, 31.33it/s, loss=1.13]\n"
          ]
        },
        {
          "output_type": "stream",
          "name": "stdout",
          "text": [
            "Epoch [19/30] Train Loss: 1.1282378568412355\n"
          ]
        },
        {
          "output_type": "stream",
          "name": "stderr",
          "text": [
            "Validation: 100%|██████████| 69/69 [00:02<00:00, 24.87it/s, loss=0.733]\n"
          ]
        },
        {
          "output_type": "stream",
          "name": "stdout",
          "text": [
            "Epoch [19/30] Validation Loss: 0.7334244531997736\n"
          ]
        },
        {
          "output_type": "stream",
          "name": "stderr",
          "text": [
            "Training: 100%|██████████| 161/161 [00:05<00:00, 31.35it/s, loss=1.07]\n"
          ]
        },
        {
          "output_type": "stream",
          "name": "stdout",
          "text": [
            "Epoch [20/30] Train Loss: 1.0697765083786863\n"
          ]
        },
        {
          "output_type": "stream",
          "name": "stderr",
          "text": [
            "Validation: 100%|██████████| 69/69 [00:02<00:00, 31.96it/s, loss=0.688]\n"
          ]
        },
        {
          "output_type": "stream",
          "name": "stdout",
          "text": [
            "Epoch [20/30] Validation Loss: 0.6881394204886063\n"
          ]
        },
        {
          "output_type": "stream",
          "name": "stderr",
          "text": [
            "Training: 100%|██████████| 161/161 [00:05<00:00, 27.82it/s, loss=1.01]\n"
          ]
        },
        {
          "output_type": "stream",
          "name": "stdout",
          "text": [
            "Epoch [21/30] Train Loss: 1.0140756983194292\n"
          ]
        },
        {
          "output_type": "stream",
          "name": "stderr",
          "text": [
            "Validation: 100%|██████████| 69/69 [00:02<00:00, 32.78it/s, loss=0.651]\n"
          ]
        },
        {
          "output_type": "stream",
          "name": "stdout",
          "text": [
            "Epoch [21/30] Validation Loss: 0.6506358791088712\n"
          ]
        },
        {
          "output_type": "stream",
          "name": "stderr",
          "text": [
            "Training: 100%|██████████| 161/161 [00:05<00:00, 30.32it/s, loss=0.971]\n"
          ]
        },
        {
          "output_type": "stream",
          "name": "stdout",
          "text": [
            "Epoch [22/30] Train Loss: 0.9711216073598921\n"
          ]
        },
        {
          "output_type": "stream",
          "name": "stderr",
          "text": [
            "Validation: 100%|██████████| 69/69 [00:03<00:00, 22.90it/s, loss=0.615]\n"
          ]
        },
        {
          "output_type": "stream",
          "name": "stdout",
          "text": [
            "Epoch [22/30] Validation Loss: 0.6148185945939326\n"
          ]
        },
        {
          "output_type": "stream",
          "name": "stderr",
          "text": [
            "Training: 100%|██████████| 161/161 [00:05<00:00, 28.18it/s, loss=0.914]\n"
          ]
        },
        {
          "output_type": "stream",
          "name": "stdout",
          "text": [
            "Epoch [23/30] Train Loss: 0.9142718383614321\n"
          ]
        },
        {
          "output_type": "stream",
          "name": "stderr",
          "text": [
            "Validation: 100%|██████████| 69/69 [00:02<00:00, 32.20it/s, loss=0.582]\n"
          ]
        },
        {
          "output_type": "stream",
          "name": "stdout",
          "text": [
            "Epoch [23/30] Validation Loss: 0.5818429153034652\n"
          ]
        },
        {
          "output_type": "stream",
          "name": "stderr",
          "text": [
            "Training: 100%|██████████| 161/161 [00:05<00:00, 27.32it/s, loss=0.864]\n"
          ]
        },
        {
          "output_type": "stream",
          "name": "stdout",
          "text": [
            "Epoch [24/30] Train Loss: 0.8637745572913508\n"
          ]
        },
        {
          "output_type": "stream",
          "name": "stderr",
          "text": [
            "Validation: 100%|██████████| 69/69 [00:02<00:00, 31.76it/s, loss=0.553]\n"
          ]
        },
        {
          "output_type": "stream",
          "name": "stdout",
          "text": [
            "Epoch [24/30] Validation Loss: 0.5528058478797692\n"
          ]
        },
        {
          "output_type": "stream",
          "name": "stderr",
          "text": [
            "Training: 100%|██████████| 161/161 [00:05<00:00, 31.14it/s, loss=0.837]\n"
          ]
        },
        {
          "output_type": "stream",
          "name": "stdout",
          "text": [
            "Epoch [25/30] Train Loss: 0.8372767771252935\n"
          ]
        },
        {
          "output_type": "stream",
          "name": "stderr",
          "text": [
            "Validation: 100%|██████████| 69/69 [00:02<00:00, 31.08it/s, loss=0.523]\n"
          ]
        },
        {
          "output_type": "stream",
          "name": "stdout",
          "text": [
            "Epoch [25/30] Validation Loss: 0.5232308895691581\n"
          ]
        },
        {
          "output_type": "stream",
          "name": "stderr",
          "text": [
            "Training: 100%|██████████| 161/161 [00:05<00:00, 27.74it/s, loss=0.807]\n"
          ]
        },
        {
          "output_type": "stream",
          "name": "stdout",
          "text": [
            "Epoch [26/30] Train Loss: 0.8073063959246096\n"
          ]
        },
        {
          "output_type": "stream",
          "name": "stderr",
          "text": [
            "Validation: 100%|██████████| 69/69 [00:02<00:00, 31.75it/s, loss=0.5]\n"
          ]
        },
        {
          "output_type": "stream",
          "name": "stdout",
          "text": [
            "Epoch [26/30] Validation Loss: 0.5003868682660918\n"
          ]
        },
        {
          "output_type": "stream",
          "name": "stderr",
          "text": [
            "Training: 100%|██████████| 161/161 [00:05<00:00, 27.96it/s, loss=0.752]\n"
          ]
        },
        {
          "output_type": "stream",
          "name": "stdout",
          "text": [
            "Epoch [27/30] Train Loss: 0.7524463234480864\n"
          ]
        },
        {
          "output_type": "stream",
          "name": "stderr",
          "text": [
            "Validation: 100%|██████████| 69/69 [00:02<00:00, 29.84it/s, loss=0.479]\n"
          ]
        },
        {
          "output_type": "stream",
          "name": "stdout",
          "text": [
            "Epoch [27/30] Validation Loss: 0.4786656287269316\n"
          ]
        },
        {
          "output_type": "stream",
          "name": "stderr",
          "text": [
            "Training: 100%|██████████| 161/161 [00:05<00:00, 30.88it/s, loss=0.753]\n"
          ]
        },
        {
          "output_type": "stream",
          "name": "stdout",
          "text": [
            "Epoch [28/30] Train Loss: 0.7528525851898312\n"
          ]
        },
        {
          "output_type": "stream",
          "name": "stderr",
          "text": [
            "Validation: 100%|██████████| 69/69 [00:02<00:00, 32.53it/s, loss=0.457]\n"
          ]
        },
        {
          "output_type": "stream",
          "name": "stdout",
          "text": [
            "Epoch [28/30] Validation Loss: 0.45653870852961054\n"
          ]
        },
        {
          "output_type": "stream",
          "name": "stderr",
          "text": [
            "Training: 100%|██████████| 161/161 [00:05<00:00, 26.99it/s, loss=0.717]\n"
          ]
        },
        {
          "output_type": "stream",
          "name": "stdout",
          "text": [
            "Epoch [29/30] Train Loss: 0.7166820377666757\n"
          ]
        },
        {
          "output_type": "stream",
          "name": "stderr",
          "text": [
            "Validation: 100%|██████████| 69/69 [00:02<00:00, 32.09it/s, loss=0.438]\n"
          ]
        },
        {
          "output_type": "stream",
          "name": "stdout",
          "text": [
            "Epoch [29/30] Validation Loss: 0.4375218045020449\n"
          ]
        },
        {
          "output_type": "stream",
          "name": "stderr",
          "text": [
            "Training: 100%|██████████| 161/161 [00:05<00:00, 30.04it/s, loss=0.689]\n"
          ]
        },
        {
          "output_type": "stream",
          "name": "stdout",
          "text": [
            "Epoch [30/30] Train Loss: 0.6887855265081299\n"
          ]
        },
        {
          "output_type": "stream",
          "name": "stderr",
          "text": [
            "Validation: 100%|██████████| 69/69 [00:02<00:00, 25.98it/s, loss=0.419]\n"
          ]
        },
        {
          "output_type": "stream",
          "name": "stdout",
          "text": [
            "Epoch [30/30] Validation Loss: 0.4190232419017432\n"
          ]
        },
        {
          "output_type": "stream",
          "name": "stderr",
          "text": [
            "Testing lora on subset2 : 100%|██████████| 38/38 [00:01<00:00, 28.88it/s]\n"
          ]
        },
        {
          "output_type": "stream",
          "name": "stdout",
          "text": [
            "Accuracy: 0.893\n",
            "Wrong counts for the digit 0: 0\n",
            "Wrong counts for the digit 1: 0\n",
            "Wrong counts for the digit 2: 0\n",
            "Wrong counts for the digit 3: 0\n",
            "Wrong counts for the digit 4: 0\n",
            "Wrong counts for the digit 5: 127\n",
            "Wrong counts for the digit 6: 46\n",
            "Wrong counts for the digit 7: 132\n",
            "Wrong counts for the digit 8: 137\n",
            "Wrong counts for the digit 9: 77\n",
            "-------------------------\n",
            "Start training for rank 16\n"
          ]
        },
        {
          "output_type": "stream",
          "name": "stderr",
          "text": [
            "Training: 100%|██████████| 161/161 [00:05<00:00, 30.69it/s, loss=7.09]\n"
          ]
        },
        {
          "output_type": "stream",
          "name": "stdout",
          "text": [
            "Epoch [1/30] Train Loss: 7.085368636231985\n"
          ]
        },
        {
          "output_type": "stream",
          "name": "stderr",
          "text": [
            "Validation: 100%|██████████| 69/69 [00:02<00:00, 31.34it/s, loss=5.96]\n"
          ]
        },
        {
          "output_type": "stream",
          "name": "stdout",
          "text": [
            "Epoch [1/30] Validation Loss: 5.956562940625177\n"
          ]
        },
        {
          "output_type": "stream",
          "name": "stderr",
          "text": [
            "Training: 100%|██████████| 161/161 [00:05<00:00, 27.02it/s, loss=5.95]\n"
          ]
        },
        {
          "output_type": "stream",
          "name": "stdout",
          "text": [
            "Epoch [2/30] Train Loss: 5.95377194363138\n"
          ]
        },
        {
          "output_type": "stream",
          "name": "stderr",
          "text": [
            "Validation: 100%|██████████| 69/69 [00:02<00:00, 31.72it/s, loss=4.98]\n"
          ]
        },
        {
          "output_type": "stream",
          "name": "stdout",
          "text": [
            "Epoch [2/30] Validation Loss: 4.981342370959296\n"
          ]
        },
        {
          "output_type": "stream",
          "name": "stderr",
          "text": [
            "Training: 100%|██████████| 161/161 [00:05<00:00, 28.40it/s, loss=5]\n"
          ]
        },
        {
          "output_type": "stream",
          "name": "stdout",
          "text": [
            "Epoch [3/30] Train Loss: 5.0032727436989735\n"
          ]
        },
        {
          "output_type": "stream",
          "name": "stderr",
          "text": [
            "Validation: 100%|██████████| 69/69 [00:02<00:00, 27.17it/s, loss=4.06]\n"
          ]
        },
        {
          "output_type": "stream",
          "name": "stdout",
          "text": [
            "Epoch [3/30] Validation Loss: 4.058025425758915\n"
          ]
        },
        {
          "output_type": "stream",
          "name": "stderr",
          "text": [
            "Training: 100%|██████████| 161/161 [00:05<00:00, 30.42it/s, loss=4.03]\n"
          ]
        },
        {
          "output_type": "stream",
          "name": "stdout",
          "text": [
            "Epoch [4/30] Train Loss: 4.033079375391421\n"
          ]
        },
        {
          "output_type": "stream",
          "name": "stderr",
          "text": [
            "Validation: 100%|██████████| 69/69 [00:02<00:00, 29.62it/s, loss=3.18]\n"
          ]
        },
        {
          "output_type": "stream",
          "name": "stdout",
          "text": [
            "Epoch [4/30] Validation Loss: 3.1847240371980527\n"
          ]
        },
        {
          "output_type": "stream",
          "name": "stderr",
          "text": [
            "Training: 100%|██████████| 161/161 [00:05<00:00, 26.94it/s, loss=3.17]\n"
          ]
        },
        {
          "output_type": "stream",
          "name": "stdout",
          "text": [
            "Epoch [5/30] Train Loss: 3.173014015884873\n"
          ]
        },
        {
          "output_type": "stream",
          "name": "stderr",
          "text": [
            "Validation: 100%|██████████| 69/69 [00:02<00:00, 31.87it/s, loss=2.39]\n"
          ]
        },
        {
          "output_type": "stream",
          "name": "stdout",
          "text": [
            "Epoch [5/30] Validation Loss: 2.392589289209117\n"
          ]
        },
        {
          "output_type": "stream",
          "name": "stderr",
          "text": [
            "Training: 100%|██████████| 161/161 [00:05<00:00, 29.27it/s, loss=2.53]\n"
          ]
        },
        {
          "output_type": "stream",
          "name": "stdout",
          "text": [
            "Epoch [6/30] Train Loss: 2.528606565102287\n"
          ]
        },
        {
          "output_type": "stream",
          "name": "stderr",
          "text": [
            "Validation: 100%|██████████| 69/69 [00:02<00:00, 24.88it/s, loss=1.78]\n"
          ]
        },
        {
          "output_type": "stream",
          "name": "stdout",
          "text": [
            "Epoch [6/30] Validation Loss: 1.7823651752610137\n"
          ]
        },
        {
          "output_type": "stream",
          "name": "stderr",
          "text": [
            "Training: 100%|██████████| 161/161 [00:05<00:00, 30.31it/s, loss=2.06]\n"
          ]
        },
        {
          "output_type": "stream",
          "name": "stdout",
          "text": [
            "Epoch [7/30] Train Loss: 2.056211102823293\n"
          ]
        },
        {
          "output_type": "stream",
          "name": "stderr",
          "text": [
            "Validation: 100%|██████████| 69/69 [00:02<00:00, 31.76it/s, loss=1.41]\n"
          ]
        },
        {
          "output_type": "stream",
          "name": "stdout",
          "text": [
            "Epoch [7/30] Validation Loss: 1.4062699407771013\n"
          ]
        },
        {
          "output_type": "stream",
          "name": "stderr",
          "text": [
            "Training: 100%|██████████| 161/161 [00:06<00:00, 26.43it/s, loss=1.73]\n"
          ]
        },
        {
          "output_type": "stream",
          "name": "stdout",
          "text": [
            "Epoch [8/30] Train Loss: 1.7324152363013037\n"
          ]
        },
        {
          "output_type": "stream",
          "name": "stderr",
          "text": [
            "Validation: 100%|██████████| 69/69 [00:02<00:00, 31.06it/s, loss=1.18]\n"
          ]
        },
        {
          "output_type": "stream",
          "name": "stdout",
          "text": [
            "Epoch [8/30] Validation Loss: 1.1825483968292458\n"
          ]
        },
        {
          "output_type": "stream",
          "name": "stderr",
          "text": [
            "Training: 100%|██████████| 161/161 [00:05<00:00, 30.27it/s, loss=1.56]\n"
          ]
        },
        {
          "output_type": "stream",
          "name": "stdout",
          "text": [
            "Epoch [9/30] Train Loss: 1.5591837389868979\n"
          ]
        },
        {
          "output_type": "stream",
          "name": "stderr",
          "text": [
            "Validation: 100%|██████████| 69/69 [00:02<00:00, 23.80it/s, loss=1.02]\n"
          ]
        },
        {
          "output_type": "stream",
          "name": "stdout",
          "text": [
            "Epoch [9/30] Validation Loss: 1.023539850677269\n"
          ]
        },
        {
          "output_type": "stream",
          "name": "stderr",
          "text": [
            "Training: 100%|██████████| 161/161 [00:05<00:00, 30.21it/s, loss=1.39]\n"
          ]
        },
        {
          "output_type": "stream",
          "name": "stdout",
          "text": [
            "Epoch [10/30] Train Loss: 1.394747479361777\n"
          ]
        },
        {
          "output_type": "stream",
          "name": "stderr",
          "text": [
            "Validation: 100%|██████████| 69/69 [00:02<00:00, 31.20it/s, loss=0.904]\n"
          ]
        },
        {
          "output_type": "stream",
          "name": "stdout",
          "text": [
            "Epoch [10/30] Validation Loss: 0.9043892120969468\n"
          ]
        },
        {
          "output_type": "stream",
          "name": "stderr",
          "text": [
            "Training: 100%|██████████| 161/161 [00:05<00:00, 26.98it/s, loss=1.25]\n"
          ]
        },
        {
          "output_type": "stream",
          "name": "stdout",
          "text": [
            "Epoch [11/30] Train Loss: 1.2535030305015376\n"
          ]
        },
        {
          "output_type": "stream",
          "name": "stderr",
          "text": [
            "Validation: 100%|██████████| 69/69 [00:02<00:00, 32.04it/s, loss=0.807]\n"
          ]
        },
        {
          "output_type": "stream",
          "name": "stdout",
          "text": [
            "Epoch [11/30] Validation Loss: 0.8072232923645905\n"
          ]
        },
        {
          "output_type": "stream",
          "name": "stderr",
          "text": [
            "Training: 100%|██████████| 161/161 [00:05<00:00, 29.51it/s, loss=1.12]\n"
          ]
        },
        {
          "output_type": "stream",
          "name": "stdout",
          "text": [
            "Epoch [12/30] Train Loss: 1.1222520500236417\n"
          ]
        },
        {
          "output_type": "stream",
          "name": "stderr",
          "text": [
            "Validation: 100%|██████████| 69/69 [00:02<00:00, 24.81it/s, loss=0.728]\n"
          ]
        },
        {
          "output_type": "stream",
          "name": "stdout",
          "text": [
            "Epoch [12/30] Validation Loss: 0.7280485923739447\n"
          ]
        },
        {
          "output_type": "stream",
          "name": "stderr",
          "text": [
            "Training: 100%|██████████| 161/161 [00:05<00:00, 29.69it/s, loss=1.05]\n"
          ]
        },
        {
          "output_type": "stream",
          "name": "stdout",
          "text": [
            "Epoch [13/30] Train Loss: 1.048509300865742\n"
          ]
        },
        {
          "output_type": "stream",
          "name": "stderr",
          "text": [
            "Validation: 100%|██████████| 69/69 [00:02<00:00, 31.23it/s, loss=0.662]\n"
          ]
        },
        {
          "output_type": "stream",
          "name": "stdout",
          "text": [
            "Epoch [13/30] Validation Loss: 0.6615878321986267\n"
          ]
        },
        {
          "output_type": "stream",
          "name": "stderr",
          "text": [
            "Training: 100%|██████████| 161/161 [00:06<00:00, 26.77it/s, loss=0.959]\n"
          ]
        },
        {
          "output_type": "stream",
          "name": "stdout",
          "text": [
            "Epoch [14/30] Train Loss: 0.959401660083984\n"
          ]
        },
        {
          "output_type": "stream",
          "name": "stderr",
          "text": [
            "Validation: 100%|██████████| 69/69 [00:02<00:00, 30.42it/s, loss=0.607]\n"
          ]
        },
        {
          "output_type": "stream",
          "name": "stdout",
          "text": [
            "Epoch [14/30] Validation Loss: 0.6065077755762183\n"
          ]
        },
        {
          "output_type": "stream",
          "name": "stderr",
          "text": [
            "Training: 100%|██████████| 161/161 [00:05<00:00, 30.15it/s, loss=0.907]\n"
          ]
        },
        {
          "output_type": "stream",
          "name": "stdout",
          "text": [
            "Epoch [15/30] Train Loss: 0.9072134683591239\n"
          ]
        },
        {
          "output_type": "stream",
          "name": "stderr",
          "text": [
            "Validation: 100%|██████████| 69/69 [00:02<00:00, 27.13it/s, loss=0.561]\n"
          ]
        },
        {
          "output_type": "stream",
          "name": "stdout",
          "text": [
            "Epoch [15/30] Validation Loss: 0.5610052005968232\n"
          ]
        },
        {
          "output_type": "stream",
          "name": "stderr",
          "text": [
            "Training: 100%|██████████| 161/161 [00:05<00:00, 27.88it/s, loss=0.848]\n"
          ]
        },
        {
          "output_type": "stream",
          "name": "stdout",
          "text": [
            "Epoch [16/30] Train Loss: 0.848204081102928\n"
          ]
        },
        {
          "output_type": "stream",
          "name": "stderr",
          "text": [
            "Validation: 100%|██████████| 69/69 [00:02<00:00, 30.90it/s, loss=0.52]\n"
          ]
        },
        {
          "output_type": "stream",
          "name": "stdout",
          "text": [
            "Epoch [16/30] Validation Loss: 0.5201582856800245\n"
          ]
        },
        {
          "output_type": "stream",
          "name": "stderr",
          "text": [
            "Training: 100%|██████████| 161/161 [00:06<00:00, 26.66it/s, loss=0.796]\n"
          ]
        },
        {
          "output_type": "stream",
          "name": "stdout",
          "text": [
            "Epoch [17/30] Train Loss: 0.7958659566707492\n"
          ]
        },
        {
          "output_type": "stream",
          "name": "stderr",
          "text": [
            "Validation: 100%|██████████| 69/69 [00:02<00:00, 31.82it/s, loss=0.485]\n"
          ]
        },
        {
          "output_type": "stream",
          "name": "stdout",
          "text": [
            "Epoch [17/30] Validation Loss: 0.4849344779183899\n"
          ]
        },
        {
          "output_type": "stream",
          "name": "stderr",
          "text": [
            "Training: 100%|██████████| 161/161 [00:05<00:00, 30.17it/s, loss=0.757]\n"
          ]
        },
        {
          "output_type": "stream",
          "name": "stdout",
          "text": [
            "Epoch [18/30] Train Loss: 0.757196537456157\n"
          ]
        },
        {
          "output_type": "stream",
          "name": "stderr",
          "text": [
            "Validation: 100%|██████████| 69/69 [00:02<00:00, 28.45it/s, loss=0.455]\n"
          ]
        },
        {
          "output_type": "stream",
          "name": "stdout",
          "text": [
            "Epoch [18/30] Validation Loss: 0.4550005625123563\n"
          ]
        },
        {
          "output_type": "stream",
          "name": "stderr",
          "text": [
            "Training: 100%|██████████| 161/161 [00:05<00:00, 27.65it/s, loss=0.707]\n"
          ]
        },
        {
          "output_type": "stream",
          "name": "stdout",
          "text": [
            "Epoch [19/30] Train Loss: 0.706583814776462\n"
          ]
        },
        {
          "output_type": "stream",
          "name": "stderr",
          "text": [
            "Validation: 100%|██████████| 69/69 [00:02<00:00, 31.27it/s, loss=0.429]\n"
          ]
        },
        {
          "output_type": "stream",
          "name": "stdout",
          "text": [
            "Epoch [19/30] Validation Loss: 0.4291258223246837\n"
          ]
        },
        {
          "output_type": "stream",
          "name": "stderr",
          "text": [
            "Training: 100%|██████████| 161/161 [00:06<00:00, 25.86it/s, loss=0.679]\n"
          ]
        },
        {
          "output_type": "stream",
          "name": "stdout",
          "text": [
            "Epoch [20/30] Train Loss: 0.6791920513840195\n"
          ]
        },
        {
          "output_type": "stream",
          "name": "stderr",
          "text": [
            "Validation: 100%|██████████| 69/69 [00:02<00:00, 31.66it/s, loss=0.404]\n"
          ]
        },
        {
          "output_type": "stream",
          "name": "stdout",
          "text": [
            "Epoch [20/30] Validation Loss: 0.40369856033636176\n"
          ]
        },
        {
          "output_type": "stream",
          "name": "stderr",
          "text": [
            "Training: 100%|██████████| 161/161 [00:05<00:00, 29.92it/s, loss=0.634]\n"
          ]
        },
        {
          "output_type": "stream",
          "name": "stdout",
          "text": [
            "Epoch [21/30] Train Loss: 0.6340037445474115\n"
          ]
        },
        {
          "output_type": "stream",
          "name": "stderr",
          "text": [
            "Validation: 100%|██████████| 69/69 [00:02<00:00, 29.83it/s, loss=0.382]\n"
          ]
        },
        {
          "output_type": "stream",
          "name": "stdout",
          "text": [
            "Epoch [21/30] Validation Loss: 0.3818705671507379\n"
          ]
        },
        {
          "output_type": "stream",
          "name": "stderr",
          "text": [
            "Training: 100%|██████████| 161/161 [00:05<00:00, 27.01it/s, loss=0.607]\n"
          ]
        },
        {
          "output_type": "stream",
          "name": "stdout",
          "text": [
            "Epoch [22/30] Train Loss: 0.6070214474793547\n"
          ]
        },
        {
          "output_type": "stream",
          "name": "stderr",
          "text": [
            "Validation: 100%|██████████| 69/69 [00:02<00:00, 31.13it/s, loss=0.362]\n"
          ]
        },
        {
          "output_type": "stream",
          "name": "stdout",
          "text": [
            "Epoch [22/30] Validation Loss: 0.3616407168084297\n"
          ]
        },
        {
          "output_type": "stream",
          "name": "stderr",
          "text": [
            "Training: 100%|██████████| 161/161 [00:05<00:00, 27.27it/s, loss=0.58]\n"
          ]
        },
        {
          "output_type": "stream",
          "name": "stdout",
          "text": [
            "Epoch [23/30] Train Loss: 0.5795368665123578\n"
          ]
        },
        {
          "output_type": "stream",
          "name": "stderr",
          "text": [
            "Validation: 100%|██████████| 69/69 [00:02<00:00, 28.13it/s, loss=0.344]\n"
          ]
        },
        {
          "output_type": "stream",
          "name": "stdout",
          "text": [
            "Epoch [23/30] Validation Loss: 0.34436684566131537\n"
          ]
        },
        {
          "output_type": "stream",
          "name": "stderr",
          "text": [
            "Training: 100%|██████████| 161/161 [00:05<00:00, 28.49it/s, loss=0.547]\n"
          ]
        },
        {
          "output_type": "stream",
          "name": "stdout",
          "text": [
            "Epoch [24/30] Train Loss: 0.5474876911373612\n"
          ]
        },
        {
          "output_type": "stream",
          "name": "stderr",
          "text": [
            "Validation: 100%|██████████| 69/69 [00:02<00:00, 23.67it/s, loss=0.326]\n"
          ]
        },
        {
          "output_type": "stream",
          "name": "stdout",
          "text": [
            "Epoch [24/30] Validation Loss: 0.3260535142128018\n"
          ]
        },
        {
          "output_type": "stream",
          "name": "stderr",
          "text": [
            "Training: 100%|██████████| 161/161 [00:05<00:00, 28.04it/s, loss=0.529]\n"
          ]
        },
        {
          "output_type": "stream",
          "name": "stdout",
          "text": [
            "Epoch [25/30] Train Loss: 0.528510006873504\n"
          ]
        },
        {
          "output_type": "stream",
          "name": "stderr",
          "text": [
            "Validation: 100%|██████████| 69/69 [00:02<00:00, 31.13it/s, loss=0.309]\n"
          ]
        },
        {
          "output_type": "stream",
          "name": "stdout",
          "text": [
            "Epoch [25/30] Validation Loss: 0.30949189913445624\n"
          ]
        },
        {
          "output_type": "stream",
          "name": "stderr",
          "text": [
            "Training: 100%|██████████| 161/161 [00:06<00:00, 26.56it/s, loss=0.499]\n"
          ]
        },
        {
          "output_type": "stream",
          "name": "stdout",
          "text": [
            "Epoch [26/30] Train Loss: 0.4991832549527565\n"
          ]
        },
        {
          "output_type": "stream",
          "name": "stderr",
          "text": [
            "Validation: 100%|██████████| 69/69 [00:02<00:00, 30.72it/s, loss=0.294]\n"
          ]
        },
        {
          "output_type": "stream",
          "name": "stdout",
          "text": [
            "Epoch [26/30] Validation Loss: 0.2942637725584749\n"
          ]
        },
        {
          "output_type": "stream",
          "name": "stderr",
          "text": [
            "Training: 100%|██████████| 161/161 [00:05<00:00, 29.30it/s, loss=0.477]\n"
          ]
        },
        {
          "output_type": "stream",
          "name": "stdout",
          "text": [
            "Epoch [27/30] Train Loss: 0.4770339075823008\n"
          ]
        },
        {
          "output_type": "stream",
          "name": "stderr",
          "text": [
            "Validation: 100%|██████████| 69/69 [00:02<00:00, 29.16it/s, loss=0.28]\n"
          ]
        },
        {
          "output_type": "stream",
          "name": "stdout",
          "text": [
            "Epoch [27/30] Validation Loss: 0.2804269233475561\n"
          ]
        },
        {
          "output_type": "stream",
          "name": "stderr",
          "text": [
            "Training: 100%|██████████| 161/161 [00:05<00:00, 26.92it/s, loss=0.461]\n"
          ]
        },
        {
          "output_type": "stream",
          "name": "stdout",
          "text": [
            "Epoch [28/30] Train Loss: 0.46138296845536797\n"
          ]
        },
        {
          "output_type": "stream",
          "name": "stderr",
          "text": [
            "Validation: 100%|██████████| 69/69 [00:02<00:00, 30.94it/s, loss=0.268]\n"
          ]
        },
        {
          "output_type": "stream",
          "name": "stdout",
          "text": [
            "Epoch [28/30] Validation Loss: 0.26836067902437155\n"
          ]
        },
        {
          "output_type": "stream",
          "name": "stderr",
          "text": [
            "Training: 100%|██████████| 161/161 [00:06<00:00, 26.43it/s, loss=0.436]\n"
          ]
        },
        {
          "output_type": "stream",
          "name": "stdout",
          "text": [
            "Epoch [29/30] Train Loss: 0.4357184806595678\n"
          ]
        },
        {
          "output_type": "stream",
          "name": "stderr",
          "text": [
            "Validation: 100%|██████████| 69/69 [00:02<00:00, 30.71it/s, loss=0.256]\n"
          ]
        },
        {
          "output_type": "stream",
          "name": "stdout",
          "text": [
            "Epoch [29/30] Validation Loss: 0.25586366221524665\n"
          ]
        },
        {
          "output_type": "stream",
          "name": "stderr",
          "text": [
            "Training: 100%|██████████| 161/161 [00:05<00:00, 29.85it/s, loss=0.429]\n"
          ]
        },
        {
          "output_type": "stream",
          "name": "stdout",
          "text": [
            "Epoch [30/30] Train Loss: 0.42866925747128004\n"
          ]
        },
        {
          "output_type": "stream",
          "name": "stderr",
          "text": [
            "Validation: 100%|██████████| 69/69 [00:02<00:00, 31.59it/s, loss=0.246]\n"
          ]
        },
        {
          "output_type": "stream",
          "name": "stdout",
          "text": [
            "Epoch [30/30] Validation Loss: 0.24588473119597504\n"
          ]
        },
        {
          "output_type": "stream",
          "name": "stderr",
          "text": [
            "Testing lora on subset2 : 100%|██████████| 38/38 [00:01<00:00, 21.34it/s]\n"
          ]
        },
        {
          "output_type": "stream",
          "name": "stdout",
          "text": [
            "Accuracy: 0.928\n",
            "Wrong counts for the digit 0: 0\n",
            "Wrong counts for the digit 1: 0\n",
            "Wrong counts for the digit 2: 0\n",
            "Wrong counts for the digit 3: 0\n",
            "Wrong counts for the digit 4: 0\n",
            "Wrong counts for the digit 5: 77\n",
            "Wrong counts for the digit 6: 22\n",
            "Wrong counts for the digit 7: 50\n",
            "Wrong counts for the digit 8: 124\n",
            "Wrong counts for the digit 9: 78\n",
            "-------------------------\n",
            "Start training for rank 32\n"
          ]
        },
        {
          "output_type": "stream",
          "name": "stderr",
          "text": [
            "Training: 100%|██████████| 161/161 [00:05<00:00, 27.96it/s, loss=7.45]\n"
          ]
        },
        {
          "output_type": "stream",
          "name": "stdout",
          "text": [
            "Epoch [1/30] Train Loss: 7.451688911603845\n"
          ]
        },
        {
          "output_type": "stream",
          "name": "stderr",
          "text": [
            "Validation: 100%|██████████| 69/69 [00:02<00:00, 31.17it/s, loss=5.84]\n"
          ]
        },
        {
          "output_type": "stream",
          "name": "stdout",
          "text": [
            "Epoch [1/30] Validation Loss: 5.835105481355087\n"
          ]
        },
        {
          "output_type": "stream",
          "name": "stderr",
          "text": [
            "Training: 100%|██████████| 161/161 [00:06<00:00, 26.15it/s, loss=5.45]\n"
          ]
        },
        {
          "output_type": "stream",
          "name": "stdout",
          "text": [
            "Epoch [2/30] Train Loss: 5.447657016493519\n"
          ]
        },
        {
          "output_type": "stream",
          "name": "stderr",
          "text": [
            "Validation: 100%|██████████| 69/69 [00:02<00:00, 31.06it/s, loss=4.08]\n"
          ]
        },
        {
          "output_type": "stream",
          "name": "stdout",
          "text": [
            "Epoch [2/30] Validation Loss: 4.08303715871728\n"
          ]
        },
        {
          "output_type": "stream",
          "name": "stderr",
          "text": [
            "Training: 100%|██████████| 161/161 [00:05<00:00, 29.88it/s, loss=3.8]\n"
          ]
        },
        {
          "output_type": "stream",
          "name": "stdout",
          "text": [
            "Epoch [3/30] Train Loss: 3.7955466486652445\n"
          ]
        },
        {
          "output_type": "stream",
          "name": "stderr",
          "text": [
            "Validation: 100%|██████████| 69/69 [00:02<00:00, 25.30it/s, loss=2.6]\n"
          ]
        },
        {
          "output_type": "stream",
          "name": "stdout",
          "text": [
            "Epoch [3/30] Validation Loss: 2.595810838367628\n"
          ]
        },
        {
          "output_type": "stream",
          "name": "stderr",
          "text": [
            "Training: 100%|██████████| 161/161 [00:05<00:00, 29.18it/s, loss=2.62]\n"
          ]
        },
        {
          "output_type": "stream",
          "name": "stdout",
          "text": [
            "Epoch [4/30] Train Loss: 2.6247189829808586\n"
          ]
        },
        {
          "output_type": "stream",
          "name": "stderr",
          "text": [
            "Validation: 100%|██████████| 69/69 [00:02<00:00, 28.81it/s, loss=1.68]\n"
          ]
        },
        {
          "output_type": "stream",
          "name": "stdout",
          "text": [
            "Epoch [4/30] Validation Loss: 1.6839437277420708\n"
          ]
        },
        {
          "output_type": "stream",
          "name": "stderr",
          "text": [
            "Training: 100%|██████████| 161/161 [00:06<00:00, 26.21it/s, loss=2]\n"
          ]
        },
        {
          "output_type": "stream",
          "name": "stdout",
          "text": [
            "Epoch [5/30] Train Loss: 2.0017955836302006\n"
          ]
        },
        {
          "output_type": "stream",
          "name": "stderr",
          "text": [
            "Validation: 100%|██████████| 69/69 [00:02<00:00, 30.83it/s, loss=1.24]\n"
          ]
        },
        {
          "output_type": "stream",
          "name": "stdout",
          "text": [
            "Epoch [5/30] Validation Loss: 1.2436680284099302\n"
          ]
        },
        {
          "output_type": "stream",
          "name": "stderr",
          "text": [
            "Training: 100%|██████████| 161/161 [00:05<00:00, 29.74it/s, loss=1.65]\n"
          ]
        },
        {
          "output_type": "stream",
          "name": "stdout",
          "text": [
            "Epoch [6/30] Train Loss: 1.6517319116533173\n"
          ]
        },
        {
          "output_type": "stream",
          "name": "stderr",
          "text": [
            "Validation: 100%|██████████| 69/69 [00:02<00:00, 25.77it/s, loss=0.979]\n"
          ]
        },
        {
          "output_type": "stream",
          "name": "stdout",
          "text": [
            "Epoch [6/30] Validation Loss: 0.9788995696150739\n"
          ]
        },
        {
          "output_type": "stream",
          "name": "stderr",
          "text": [
            "Training: 100%|██████████| 161/161 [00:05<00:00, 28.57it/s, loss=1.37]\n"
          ]
        },
        {
          "output_type": "stream",
          "name": "stdout",
          "text": [
            "Epoch [7/30] Train Loss: 1.3701892458133815\n"
          ]
        },
        {
          "output_type": "stream",
          "name": "stderr",
          "text": [
            "Validation: 100%|██████████| 69/69 [00:02<00:00, 31.19it/s, loss=0.804]\n"
          ]
        },
        {
          "output_type": "stream",
          "name": "stdout",
          "text": [
            "Epoch [7/30] Validation Loss: 0.8039169924846594\n"
          ]
        },
        {
          "output_type": "stream",
          "name": "stderr",
          "text": [
            "Training: 100%|██████████| 161/161 [00:06<00:00, 26.43it/s, loss=1.17]\n"
          ]
        },
        {
          "output_type": "stream",
          "name": "stdout",
          "text": [
            "Epoch [8/30] Train Loss: 1.1719337342688756\n"
          ]
        },
        {
          "output_type": "stream",
          "name": "stderr",
          "text": [
            "Validation: 100%|██████████| 69/69 [00:02<00:00, 30.90it/s, loss=0.68]\n"
          ]
        },
        {
          "output_type": "stream",
          "name": "stdout",
          "text": [
            "Epoch [8/30] Validation Loss: 0.6797150066797284\n"
          ]
        },
        {
          "output_type": "stream",
          "name": "stderr",
          "text": [
            "Training: 100%|██████████| 161/161 [00:05<00:00, 30.13it/s, loss=1.06]\n"
          ]
        },
        {
          "output_type": "stream",
          "name": "stdout",
          "text": [
            "Epoch [9/30] Train Loss: 1.0641855534559452\n"
          ]
        },
        {
          "output_type": "stream",
          "name": "stderr",
          "text": [
            "Validation: 100%|██████████| 69/69 [00:02<00:00, 27.85it/s, loss=0.59]\n"
          ]
        },
        {
          "output_type": "stream",
          "name": "stdout",
          "text": [
            "Epoch [9/30] Validation Loss: 0.5897649880768596\n"
          ]
        },
        {
          "output_type": "stream",
          "name": "stderr",
          "text": [
            "Training: 100%|██████████| 161/161 [00:05<00:00, 28.14it/s, loss=0.919]\n"
          ]
        },
        {
          "output_type": "stream",
          "name": "stdout",
          "text": [
            "Epoch [10/30] Train Loss: 0.9189509941924433\n"
          ]
        },
        {
          "output_type": "stream",
          "name": "stderr",
          "text": [
            "Validation: 100%|██████████| 69/69 [00:02<00:00, 31.25it/s, loss=0.525]\n"
          ]
        },
        {
          "output_type": "stream",
          "name": "stdout",
          "text": [
            "Epoch [10/30] Validation Loss: 0.5252069070719291\n"
          ]
        },
        {
          "output_type": "stream",
          "name": "stderr",
          "text": [
            "Training: 100%|██████████| 161/161 [00:06<00:00, 26.68it/s, loss=0.829]\n"
          ]
        },
        {
          "output_type": "stream",
          "name": "stdout",
          "text": [
            "Epoch [11/30] Train Loss: 0.8290013263684622\n"
          ]
        },
        {
          "output_type": "stream",
          "name": "stderr",
          "text": [
            "Validation: 100%|██████████| 69/69 [00:02<00:00, 30.82it/s, loss=0.466]\n"
          ]
        },
        {
          "output_type": "stream",
          "name": "stdout",
          "text": [
            "Epoch [11/30] Validation Loss: 0.4662899426791979\n"
          ]
        },
        {
          "output_type": "stream",
          "name": "stderr",
          "text": [
            "Training: 100%|██████████| 161/161 [00:05<00:00, 30.00it/s, loss=0.77]\n"
          ]
        },
        {
          "output_type": "stream",
          "name": "stdout",
          "text": [
            "Epoch [12/30] Train Loss: 0.7704967053040214\n"
          ]
        },
        {
          "output_type": "stream",
          "name": "stderr",
          "text": [
            "Validation: 100%|██████████| 69/69 [00:02<00:00, 30.85it/s, loss=0.422]\n"
          ]
        },
        {
          "output_type": "stream",
          "name": "stdout",
          "text": [
            "Epoch [12/30] Validation Loss: 0.4216107168923254\n"
          ]
        },
        {
          "output_type": "stream",
          "name": "stderr",
          "text": [
            "Training: 100%|██████████| 161/161 [00:06<00:00, 26.09it/s, loss=0.702]\n"
          ]
        },
        {
          "output_type": "stream",
          "name": "stdout",
          "text": [
            "Epoch [13/30] Train Loss: 0.7021364978751781\n"
          ]
        },
        {
          "output_type": "stream",
          "name": "stderr",
          "text": [
            "Validation: 100%|██████████| 69/69 [00:02<00:00, 31.70it/s, loss=0.386]\n"
          ]
        },
        {
          "output_type": "stream",
          "name": "stdout",
          "text": [
            "Epoch [13/30] Validation Loss: 0.38627903832905536\n"
          ]
        },
        {
          "output_type": "stream",
          "name": "stderr",
          "text": [
            "Training: 100%|██████████| 161/161 [00:05<00:00, 27.07it/s, loss=0.654]\n"
          ]
        },
        {
          "output_type": "stream",
          "name": "stdout",
          "text": [
            "Epoch [14/30] Train Loss: 0.6540166195134939\n"
          ]
        },
        {
          "output_type": "stream",
          "name": "stderr",
          "text": [
            "Validation: 100%|██████████| 69/69 [00:02<00:00, 30.22it/s, loss=0.354]\n"
          ]
        },
        {
          "output_type": "stream",
          "name": "stdout",
          "text": [
            "Epoch [14/30] Validation Loss: 0.3543318063020706\n"
          ]
        },
        {
          "output_type": "stream",
          "name": "stderr",
          "text": [
            "Training: 100%|██████████| 161/161 [00:05<00:00, 30.13it/s, loss=0.612]\n"
          ]
        },
        {
          "output_type": "stream",
          "name": "stdout",
          "text": [
            "Epoch [15/30] Train Loss: 0.6115617487371338\n"
          ]
        },
        {
          "output_type": "stream",
          "name": "stderr",
          "text": [
            "Validation: 100%|██████████| 69/69 [00:02<00:00, 31.09it/s, loss=0.327]\n"
          ]
        },
        {
          "output_type": "stream",
          "name": "stdout",
          "text": [
            "Epoch [15/30] Validation Loss: 0.32655200664547906\n"
          ]
        },
        {
          "output_type": "stream",
          "name": "stderr",
          "text": [
            "Training: 100%|██████████| 161/161 [00:06<00:00, 26.08it/s, loss=0.571]\n"
          ]
        },
        {
          "output_type": "stream",
          "name": "stdout",
          "text": [
            "Epoch [16/30] Train Loss: 0.5713303103950453\n"
          ]
        },
        {
          "output_type": "stream",
          "name": "stderr",
          "text": [
            "Validation: 100%|██████████| 69/69 [00:02<00:00, 30.97it/s, loss=0.306]\n"
          ]
        },
        {
          "output_type": "stream",
          "name": "stdout",
          "text": [
            "Epoch [16/30] Validation Loss: 0.3055019685323688\n"
          ]
        },
        {
          "output_type": "stream",
          "name": "stderr",
          "text": [
            "Training: 100%|██████████| 161/161 [00:05<00:00, 27.04it/s, loss=0.537]\n"
          ]
        },
        {
          "output_type": "stream",
          "name": "stdout",
          "text": [
            "Epoch [17/30] Train Loss: 0.5365767695518754\n"
          ]
        },
        {
          "output_type": "stream",
          "name": "stderr",
          "text": [
            "Validation: 100%|██████████| 69/69 [00:02<00:00, 28.80it/s, loss=0.288]\n"
          ]
        },
        {
          "output_type": "stream",
          "name": "stdout",
          "text": [
            "Epoch [17/30] Validation Loss: 0.28756641240223596\n"
          ]
        },
        {
          "output_type": "stream",
          "name": "stderr",
          "text": [
            "Training: 100%|██████████| 161/161 [00:05<00:00, 30.02it/s, loss=0.503]\n"
          ]
        },
        {
          "output_type": "stream",
          "name": "stdout",
          "text": [
            "Epoch [18/30] Train Loss: 0.5031272322865006\n"
          ]
        },
        {
          "output_type": "stream",
          "name": "stderr",
          "text": [
            "Validation: 100%|██████████| 69/69 [00:02<00:00, 31.16it/s, loss=0.269]\n"
          ]
        },
        {
          "output_type": "stream",
          "name": "stdout",
          "text": [
            "Epoch [18/30] Validation Loss: 0.269296161506487\n"
          ]
        },
        {
          "output_type": "stream",
          "name": "stderr",
          "text": [
            "Training: 100%|██████████| 161/161 [00:06<00:00, 26.23it/s, loss=0.47]\n"
          ]
        },
        {
          "output_type": "stream",
          "name": "stdout",
          "text": [
            "Epoch [19/30] Train Loss: 0.4702282246225369\n"
          ]
        },
        {
          "output_type": "stream",
          "name": "stderr",
          "text": [
            "Validation: 100%|██████████| 69/69 [00:02<00:00, 28.68it/s, loss=0.255]\n"
          ]
        },
        {
          "output_type": "stream",
          "name": "stdout",
          "text": [
            "Epoch [19/30] Validation Loss: 0.2552837969168373\n"
          ]
        },
        {
          "output_type": "stream",
          "name": "stderr",
          "text": [
            "Training: 100%|██████████| 161/161 [00:06<00:00, 25.86it/s, loss=0.45]\n"
          ]
        },
        {
          "output_type": "stream",
          "name": "stdout",
          "text": [
            "Epoch [20/30] Train Loss: 0.4497729977650672\n"
          ]
        },
        {
          "output_type": "stream",
          "name": "stderr",
          "text": [
            "Validation: 100%|██████████| 69/69 [00:02<00:00, 29.71it/s, loss=0.241]\n"
          ]
        },
        {
          "output_type": "stream",
          "name": "stdout",
          "text": [
            "Epoch [20/30] Validation Loss: 0.2409872440756231\n"
          ]
        },
        {
          "output_type": "stream",
          "name": "stderr",
          "text": [
            "Training: 100%|██████████| 161/161 [00:05<00:00, 29.22it/s, loss=0.427]\n"
          ]
        },
        {
          "output_type": "stream",
          "name": "stdout",
          "text": [
            "Epoch [21/30] Train Loss: 0.4267549087171969\n"
          ]
        },
        {
          "output_type": "stream",
          "name": "stderr",
          "text": [
            "Validation: 100%|██████████| 69/69 [00:02<00:00, 30.38it/s, loss=0.228]\n"
          ]
        },
        {
          "output_type": "stream",
          "name": "stdout",
          "text": [
            "Epoch [21/30] Validation Loss: 0.2280386323514192\n"
          ]
        },
        {
          "output_type": "stream",
          "name": "stderr",
          "text": [
            "Training: 100%|██████████| 161/161 [00:06<00:00, 26.53it/s, loss=0.416]\n"
          ]
        },
        {
          "output_type": "stream",
          "name": "stdout",
          "text": [
            "Epoch [22/30] Train Loss: 0.4162722739928998\n"
          ]
        },
        {
          "output_type": "stream",
          "name": "stderr",
          "text": [
            "Validation: 100%|██████████| 69/69 [00:02<00:00, 30.76it/s, loss=0.216]\n"
          ]
        },
        {
          "output_type": "stream",
          "name": "stdout",
          "text": [
            "Epoch [22/30] Validation Loss: 0.21587437229311984\n"
          ]
        },
        {
          "output_type": "stream",
          "name": "stderr",
          "text": [
            "Training: 100%|██████████| 161/161 [00:06<00:00, 26.71it/s, loss=0.399]\n"
          ]
        },
        {
          "output_type": "stream",
          "name": "stdout",
          "text": [
            "Epoch [23/30] Train Loss: 0.39885660024903574\n"
          ]
        },
        {
          "output_type": "stream",
          "name": "stderr",
          "text": [
            "Validation: 100%|██████████| 69/69 [00:02<00:00, 28.81it/s, loss=0.206]\n"
          ]
        },
        {
          "output_type": "stream",
          "name": "stdout",
          "text": [
            "Epoch [23/30] Validation Loss: 0.20637921384279279\n"
          ]
        },
        {
          "output_type": "stream",
          "name": "stderr",
          "text": [
            "Training: 100%|██████████| 161/161 [00:05<00:00, 29.61it/s, loss=0.391]\n"
          ]
        },
        {
          "output_type": "stream",
          "name": "stdout",
          "text": [
            "Epoch [24/30] Train Loss: 0.39141335639153946\n"
          ]
        },
        {
          "output_type": "stream",
          "name": "stderr",
          "text": [
            "Validation: 100%|██████████| 69/69 [00:02<00:00, 30.96it/s, loss=0.198]\n"
          ]
        },
        {
          "output_type": "stream",
          "name": "stdout",
          "text": [
            "Epoch [24/30] Validation Loss: 0.19774443224288415\n"
          ]
        },
        {
          "output_type": "stream",
          "name": "stderr",
          "text": [
            "Training: 100%|██████████| 161/161 [00:06<00:00, 26.33it/s, loss=0.357]\n"
          ]
        },
        {
          "output_type": "stream",
          "name": "stdout",
          "text": [
            "Epoch [25/30] Train Loss: 0.3569942507314386\n"
          ]
        },
        {
          "output_type": "stream",
          "name": "stderr",
          "text": [
            "Validation: 100%|██████████| 69/69 [00:02<00:00, 31.00it/s, loss=0.19]\n"
          ]
        },
        {
          "output_type": "stream",
          "name": "stdout",
          "text": [
            "Epoch [25/30] Validation Loss: 0.18985436338445413\n"
          ]
        },
        {
          "output_type": "stream",
          "name": "stderr",
          "text": [
            "Training: 100%|██████████| 161/161 [00:06<00:00, 23.82it/s, loss=0.34]\n"
          ]
        },
        {
          "output_type": "stream",
          "name": "stdout",
          "text": [
            "Epoch [26/30] Train Loss: 0.339779149671519\n"
          ]
        },
        {
          "output_type": "stream",
          "name": "stderr",
          "text": [
            "Validation: 100%|██████████| 69/69 [00:02<00:00, 27.11it/s, loss=0.184]\n"
          ]
        },
        {
          "output_type": "stream",
          "name": "stdout",
          "text": [
            "Epoch [26/30] Validation Loss: 0.18356083052745764\n"
          ]
        },
        {
          "output_type": "stream",
          "name": "stderr",
          "text": [
            "Training: 100%|██████████| 161/161 [00:05<00:00, 28.66it/s, loss=0.33]\n"
          ]
        },
        {
          "output_type": "stream",
          "name": "stdout",
          "text": [
            "Epoch [27/30] Train Loss: 0.3297398490194949\n"
          ]
        },
        {
          "output_type": "stream",
          "name": "stderr",
          "text": [
            "Validation: 100%|██████████| 69/69 [00:02<00:00, 31.00it/s, loss=0.176]\n"
          ]
        },
        {
          "output_type": "stream",
          "name": "stdout",
          "text": [
            "Epoch [27/30] Validation Loss: 0.17576982080936432\n"
          ]
        },
        {
          "output_type": "stream",
          "name": "stderr",
          "text": [
            "Training: 100%|██████████| 161/161 [00:06<00:00, 26.02it/s, loss=0.317]\n"
          ]
        },
        {
          "output_type": "stream",
          "name": "stdout",
          "text": [
            "Epoch [28/30] Train Loss: 0.31679473225004184\n"
          ]
        },
        {
          "output_type": "stream",
          "name": "stderr",
          "text": [
            "Validation: 100%|██████████| 69/69 [00:02<00:00, 30.72it/s, loss=0.17]\n"
          ]
        },
        {
          "output_type": "stream",
          "name": "stdout",
          "text": [
            "Epoch [28/30] Validation Loss: 0.1695379297370496\n"
          ]
        },
        {
          "output_type": "stream",
          "name": "stderr",
          "text": [
            "Training: 100%|██████████| 161/161 [00:05<00:00, 27.05it/s, loss=0.316]\n"
          ]
        },
        {
          "output_type": "stream",
          "name": "stdout",
          "text": [
            "Epoch [29/30] Train Loss: 0.31559485322014885\n"
          ]
        },
        {
          "output_type": "stream",
          "name": "stderr",
          "text": [
            "Validation: 100%|██████████| 69/69 [00:02<00:00, 26.96it/s, loss=0.166]\n"
          ]
        },
        {
          "output_type": "stream",
          "name": "stdout",
          "text": [
            "Epoch [29/30] Validation Loss: 0.16568185820959616\n"
          ]
        },
        {
          "output_type": "stream",
          "name": "stderr",
          "text": [
            "Training: 100%|██████████| 161/161 [00:05<00:00, 29.28it/s, loss=0.296]\n"
          ]
        },
        {
          "output_type": "stream",
          "name": "stdout",
          "text": [
            "Epoch [30/30] Train Loss: 0.2962795951351616\n"
          ]
        },
        {
          "output_type": "stream",
          "name": "stderr",
          "text": [
            "Validation: 100%|██████████| 69/69 [00:02<00:00, 27.89it/s, loss=0.16]\n"
          ]
        },
        {
          "output_type": "stream",
          "name": "stdout",
          "text": [
            "Epoch [30/30] Validation Loss: 0.15981076592984406\n"
          ]
        },
        {
          "output_type": "stream",
          "name": "stderr",
          "text": [
            "Testing lora on subset2 : 100%|██████████| 38/38 [00:01<00:00, 22.95it/s]\n"
          ]
        },
        {
          "output_type": "stream",
          "name": "stdout",
          "text": [
            "Accuracy: 0.947\n",
            "Wrong counts for the digit 0: 0\n",
            "Wrong counts for the digit 1: 0\n",
            "Wrong counts for the digit 2: 0\n",
            "Wrong counts for the digit 3: 0\n",
            "Wrong counts for the digit 4: 0\n",
            "Wrong counts for the digit 5: 57\n",
            "Wrong counts for the digit 6: 15\n",
            "Wrong counts for the digit 7: 36\n",
            "Wrong counts for the digit 8: 91\n",
            "Wrong counts for the digit 9: 60\n",
            "-------------------------\n",
            "Start training for rank 64\n"
          ]
        },
        {
          "output_type": "stream",
          "name": "stderr",
          "text": [
            "Training: 100%|██████████| 161/161 [00:05<00:00, 27.94it/s, loss=7.66]\n"
          ]
        },
        {
          "output_type": "stream",
          "name": "stdout",
          "text": [
            "Epoch [1/30] Train Loss: 7.664538398292494\n"
          ]
        },
        {
          "output_type": "stream",
          "name": "stderr",
          "text": [
            "Validation: 100%|██████████| 69/69 [00:02<00:00, 30.59it/s, loss=5.54]\n"
          ]
        },
        {
          "output_type": "stream",
          "name": "stdout",
          "text": [
            "Epoch [1/30] Validation Loss: 5.537562280461408\n"
          ]
        },
        {
          "output_type": "stream",
          "name": "stderr",
          "text": [
            "Training: 100%|██████████| 161/161 [00:06<00:00, 25.92it/s, loss=4.81]\n"
          ]
        },
        {
          "output_type": "stream",
          "name": "stdout",
          "text": [
            "Epoch [2/30] Train Loss: 4.809395148887397\n"
          ]
        },
        {
          "output_type": "stream",
          "name": "stderr",
          "text": [
            "Validation: 100%|██████████| 69/69 [00:02<00:00, 30.10it/s, loss=3.29]\n"
          ]
        },
        {
          "output_type": "stream",
          "name": "stdout",
          "text": [
            "Epoch [2/30] Validation Loss: 3.2900367992511694\n"
          ]
        },
        {
          "output_type": "stream",
          "name": "stderr",
          "text": [
            "Training: 100%|██████████| 161/161 [00:05<00:00, 29.10it/s, loss=2.92]\n"
          ]
        },
        {
          "output_type": "stream",
          "name": "stdout",
          "text": [
            "Epoch [3/30] Train Loss: 2.920719807932836\n"
          ]
        },
        {
          "output_type": "stream",
          "name": "stderr",
          "text": [
            "Validation: 100%|██████████| 69/69 [00:02<00:00, 27.08it/s, loss=1.82]\n"
          ]
        },
        {
          "output_type": "stream",
          "name": "stdout",
          "text": [
            "Epoch [3/30] Validation Loss: 1.8190341565919959\n"
          ]
        },
        {
          "output_type": "stream",
          "name": "stderr",
          "text": [
            "Training: 100%|██████████| 161/161 [00:05<00:00, 26.99it/s, loss=1.89]\n"
          ]
        },
        {
          "output_type": "stream",
          "name": "stdout",
          "text": [
            "Epoch [4/30] Train Loss: 1.889544757997027\n"
          ]
        },
        {
          "output_type": "stream",
          "name": "stderr",
          "text": [
            "Validation: 100%|██████████| 69/69 [00:02<00:00, 30.74it/s, loss=1.14]\n"
          ]
        },
        {
          "output_type": "stream",
          "name": "stdout",
          "text": [
            "Epoch [4/30] Validation Loss: 1.1440755828567173\n"
          ]
        },
        {
          "output_type": "stream",
          "name": "stderr",
          "text": [
            "Training: 100%|██████████| 161/161 [00:06<00:00, 26.20it/s, loss=1.43]\n"
          ]
        },
        {
          "output_type": "stream",
          "name": "stdout",
          "text": [
            "Epoch [5/30] Train Loss: 1.4349132953963666\n"
          ]
        },
        {
          "output_type": "stream",
          "name": "stderr",
          "text": [
            "Validation: 100%|██████████| 69/69 [00:02<00:00, 30.69it/s, loss=0.831]\n"
          ]
        },
        {
          "output_type": "stream",
          "name": "stdout",
          "text": [
            "Epoch [5/30] Validation Loss: 0.8306440702383069\n"
          ]
        },
        {
          "output_type": "stream",
          "name": "stderr",
          "text": [
            "Training: 100%|██████████| 161/161 [00:05<00:00, 29.46it/s, loss=1.16]\n"
          ]
        },
        {
          "output_type": "stream",
          "name": "stdout",
          "text": [
            "Epoch [6/30] Train Loss: 1.1576017093214188\n"
          ]
        },
        {
          "output_type": "stream",
          "name": "stderr",
          "text": [
            "Validation: 100%|██████████| 69/69 [00:02<00:00, 26.91it/s, loss=0.663]\n"
          ]
        },
        {
          "output_type": "stream",
          "name": "stdout",
          "text": [
            "Epoch [6/30] Validation Loss: 0.6625262749367866\n"
          ]
        },
        {
          "output_type": "stream",
          "name": "stderr",
          "text": [
            "Training: 100%|██████████| 161/161 [00:05<00:00, 27.24it/s, loss=0.988]\n"
          ]
        },
        {
          "output_type": "stream",
          "name": "stdout",
          "text": [
            "Epoch [7/30] Train Loss: 0.9880141079055597\n"
          ]
        },
        {
          "output_type": "stream",
          "name": "stderr",
          "text": [
            "Validation: 100%|██████████| 69/69 [00:02<00:00, 29.26it/s, loss=0.559]\n"
          ]
        },
        {
          "output_type": "stream",
          "name": "stdout",
          "text": [
            "Epoch [7/30] Validation Loss: 0.5587458800578463\n"
          ]
        },
        {
          "output_type": "stream",
          "name": "stderr",
          "text": [
            "Training: 100%|██████████| 161/161 [00:06<00:00, 26.36it/s, loss=0.878]\n"
          ]
        },
        {
          "output_type": "stream",
          "name": "stdout",
          "text": [
            "Epoch [8/30] Train Loss: 0.8779710571958411\n"
          ]
        },
        {
          "output_type": "stream",
          "name": "stderr",
          "text": [
            "Validation: 100%|██████████| 69/69 [00:02<00:00, 29.96it/s, loss=0.496]\n"
          ]
        },
        {
          "output_type": "stream",
          "name": "stdout",
          "text": [
            "Epoch [8/30] Validation Loss: 0.49596586348353955\n"
          ]
        },
        {
          "output_type": "stream",
          "name": "stderr",
          "text": [
            "Training: 100%|██████████| 161/161 [00:05<00:00, 28.55it/s, loss=0.803]\n"
          ]
        },
        {
          "output_type": "stream",
          "name": "stdout",
          "text": [
            "Epoch [9/30] Train Loss: 0.8027610184613222\n"
          ]
        },
        {
          "output_type": "stream",
          "name": "stderr",
          "text": [
            "Validation: 100%|██████████| 69/69 [00:02<00:00, 26.62it/s, loss=0.443]\n"
          ]
        },
        {
          "output_type": "stream",
          "name": "stdout",
          "text": [
            "Epoch [9/30] Validation Loss: 0.44296431584634643\n"
          ]
        },
        {
          "output_type": "stream",
          "name": "stderr",
          "text": [
            "Training: 100%|██████████| 161/161 [00:05<00:00, 26.87it/s, loss=0.726]\n"
          ]
        },
        {
          "output_type": "stream",
          "name": "stdout",
          "text": [
            "Epoch [10/30] Train Loss: 0.7259392281126532\n"
          ]
        },
        {
          "output_type": "stream",
          "name": "stderr",
          "text": [
            "Validation: 100%|██████████| 69/69 [00:02<00:00, 29.88it/s, loss=0.402]\n"
          ]
        },
        {
          "output_type": "stream",
          "name": "stdout",
          "text": [
            "Epoch [10/30] Validation Loss: 0.40214196257833124\n"
          ]
        },
        {
          "output_type": "stream",
          "name": "stderr",
          "text": [
            "Training: 100%|██████████| 161/161 [00:06<00:00, 25.18it/s, loss=0.665]\n"
          ]
        },
        {
          "output_type": "stream",
          "name": "stdout",
          "text": [
            "Epoch [11/30] Train Loss: 0.6650997585391406\n"
          ]
        },
        {
          "output_type": "stream",
          "name": "stderr",
          "text": [
            "Validation: 100%|██████████| 69/69 [00:02<00:00, 30.75it/s, loss=0.37]\n"
          ]
        },
        {
          "output_type": "stream",
          "name": "stdout",
          "text": [
            "Epoch [11/30] Validation Loss: 0.3703955811434898\n"
          ]
        },
        {
          "output_type": "stream",
          "name": "stderr",
          "text": [
            "Training: 100%|██████████| 161/161 [00:05<00:00, 28.95it/s, loss=0.639]\n"
          ]
        },
        {
          "output_type": "stream",
          "name": "stdout",
          "text": [
            "Epoch [12/30] Train Loss: 0.6390503267323748\n"
          ]
        },
        {
          "output_type": "stream",
          "name": "stderr",
          "text": [
            "Validation: 100%|██████████| 69/69 [00:02<00:00, 25.98it/s, loss=0.34]\n"
          ]
        },
        {
          "output_type": "stream",
          "name": "stdout",
          "text": [
            "Epoch [12/30] Validation Loss: 0.33982117582058563\n"
          ]
        },
        {
          "output_type": "stream",
          "name": "stderr",
          "text": [
            "Training: 100%|██████████| 161/161 [00:05<00:00, 27.41it/s, loss=0.581]\n"
          ]
        },
        {
          "output_type": "stream",
          "name": "stdout",
          "text": [
            "Epoch [13/30] Train Loss: 0.5806464873115469\n"
          ]
        },
        {
          "output_type": "stream",
          "name": "stderr",
          "text": [
            "Validation: 100%|██████████| 69/69 [00:02<00:00, 29.98it/s, loss=0.316]\n"
          ]
        },
        {
          "output_type": "stream",
          "name": "stdout",
          "text": [
            "Epoch [13/30] Validation Loss: 0.31574879025203595\n"
          ]
        },
        {
          "output_type": "stream",
          "name": "stderr",
          "text": [
            "Training: 100%|██████████| 161/161 [00:06<00:00, 25.88it/s, loss=0.544]\n"
          ]
        },
        {
          "output_type": "stream",
          "name": "stdout",
          "text": [
            "Epoch [14/30] Train Loss: 0.5443941399177409\n"
          ]
        },
        {
          "output_type": "stream",
          "name": "stderr",
          "text": [
            "Validation: 100%|██████████| 69/69 [00:02<00:00, 30.45it/s, loss=0.297]\n"
          ]
        },
        {
          "output_type": "stream",
          "name": "stdout",
          "text": [
            "Epoch [14/30] Validation Loss: 0.29662616961244226\n"
          ]
        },
        {
          "output_type": "stream",
          "name": "stderr",
          "text": [
            "Training: 100%|██████████| 161/161 [00:05<00:00, 27.71it/s, loss=0.503]\n"
          ]
        },
        {
          "output_type": "stream",
          "name": "stdout",
          "text": [
            "Epoch [15/30] Train Loss: 0.5032419530871493\n"
          ]
        },
        {
          "output_type": "stream",
          "name": "stderr",
          "text": [
            "Validation: 100%|██████████| 69/69 [00:02<00:00, 25.52it/s, loss=0.274]\n"
          ]
        },
        {
          "output_type": "stream",
          "name": "stdout",
          "text": [
            "Epoch [15/30] Validation Loss: 0.27432576556136645\n"
          ]
        },
        {
          "output_type": "stream",
          "name": "stderr",
          "text": [
            "Training: 100%|██████████| 161/161 [00:05<00:00, 27.66it/s, loss=0.467]\n"
          ]
        },
        {
          "output_type": "stream",
          "name": "stdout",
          "text": [
            "Epoch [16/30] Train Loss: 0.4666879128039994\n"
          ]
        },
        {
          "output_type": "stream",
          "name": "stderr",
          "text": [
            "Validation: 100%|██████████| 69/69 [00:02<00:00, 29.72it/s, loss=0.257]\n"
          ]
        },
        {
          "output_type": "stream",
          "name": "stdout",
          "text": [
            "Epoch [16/30] Validation Loss: 0.2570380447567373\n"
          ]
        },
        {
          "output_type": "stream",
          "name": "stderr",
          "text": [
            "Training: 100%|██████████| 161/161 [00:06<00:00, 25.77it/s, loss=0.446]\n"
          ]
        },
        {
          "output_type": "stream",
          "name": "stdout",
          "text": [
            "Epoch [17/30] Train Loss: 0.4457306893345732\n"
          ]
        },
        {
          "output_type": "stream",
          "name": "stderr",
          "text": [
            "Validation: 100%|██████████| 69/69 [00:02<00:00, 30.22it/s, loss=0.241]\n"
          ]
        },
        {
          "output_type": "stream",
          "name": "stdout",
          "text": [
            "Epoch [17/30] Validation Loss: 0.2406110510877941\n"
          ]
        },
        {
          "output_type": "stream",
          "name": "stderr",
          "text": [
            "Training: 100%|██████████| 161/161 [00:05<00:00, 28.78it/s, loss=0.435]\n"
          ]
        },
        {
          "output_type": "stream",
          "name": "stdout",
          "text": [
            "Epoch [18/30] Train Loss: 0.434526888757759\n"
          ]
        },
        {
          "output_type": "stream",
          "name": "stderr",
          "text": [
            "Validation: 100%|██████████| 69/69 [00:02<00:00, 24.08it/s, loss=0.227]\n"
          ]
        },
        {
          "output_type": "stream",
          "name": "stdout",
          "text": [
            "Epoch [18/30] Validation Loss: 0.22704601406619168\n"
          ]
        },
        {
          "output_type": "stream",
          "name": "stderr",
          "text": [
            "Training: 100%|██████████| 161/161 [00:05<00:00, 27.21it/s, loss=0.402]\n"
          ]
        },
        {
          "output_type": "stream",
          "name": "stdout",
          "text": [
            "Epoch [19/30] Train Loss: 0.4024913974615358\n"
          ]
        },
        {
          "output_type": "stream",
          "name": "stderr",
          "text": [
            "Validation: 100%|██████████| 69/69 [00:02<00:00, 30.27it/s, loss=0.214]\n"
          ]
        },
        {
          "output_type": "stream",
          "name": "stdout",
          "text": [
            "Epoch [19/30] Validation Loss: 0.21356672134952268\n"
          ]
        },
        {
          "output_type": "stream",
          "name": "stderr",
          "text": [
            "Training: 100%|██████████| 161/161 [00:06<00:00, 25.52it/s, loss=0.382]\n"
          ]
        },
        {
          "output_type": "stream",
          "name": "stdout",
          "text": [
            "Epoch [20/30] Train Loss: 0.3815945361897072\n"
          ]
        },
        {
          "output_type": "stream",
          "name": "stderr",
          "text": [
            "Validation: 100%|██████████| 69/69 [00:02<00:00, 30.51it/s, loss=0.201]\n"
          ]
        },
        {
          "output_type": "stream",
          "name": "stdout",
          "text": [
            "Epoch [20/30] Validation Loss: 0.20121544426765994\n"
          ]
        },
        {
          "output_type": "stream",
          "name": "stderr",
          "text": [
            "Training: 100%|██████████| 161/161 [00:05<00:00, 29.53it/s, loss=0.362]\n"
          ]
        },
        {
          "output_type": "stream",
          "name": "stdout",
          "text": [
            "Epoch [21/30] Train Loss: 0.36220271265284615\n"
          ]
        },
        {
          "output_type": "stream",
          "name": "stderr",
          "text": [
            "Validation: 100%|██████████| 69/69 [00:02<00:00, 24.99it/s, loss=0.191]\n"
          ]
        },
        {
          "output_type": "stream",
          "name": "stdout",
          "text": [
            "Epoch [21/30] Validation Loss: 0.1909460044209508\n"
          ]
        },
        {
          "output_type": "stream",
          "name": "stderr",
          "text": [
            "Training: 100%|██████████| 161/161 [00:05<00:00, 27.04it/s, loss=0.35]\n"
          ]
        },
        {
          "output_type": "stream",
          "name": "stdout",
          "text": [
            "Epoch [22/30] Train Loss: 0.35041061811935825\n"
          ]
        },
        {
          "output_type": "stream",
          "name": "stderr",
          "text": [
            "Validation: 100%|██████████| 69/69 [00:02<00:00, 30.13it/s, loss=0.181]\n"
          ]
        },
        {
          "output_type": "stream",
          "name": "stdout",
          "text": [
            "Epoch [22/30] Validation Loss: 0.1807096130822016\n"
          ]
        },
        {
          "output_type": "stream",
          "name": "stderr",
          "text": [
            "Training: 100%|██████████| 161/161 [00:06<00:00, 25.78it/s, loss=0.329]\n"
          ]
        },
        {
          "output_type": "stream",
          "name": "stdout",
          "text": [
            "Epoch [23/30] Train Loss: 0.3293314859363603\n"
          ]
        },
        {
          "output_type": "stream",
          "name": "stderr",
          "text": [
            "Validation: 100%|██████████| 69/69 [00:02<00:00, 30.55it/s, loss=0.175]\n"
          ]
        },
        {
          "output_type": "stream",
          "name": "stdout",
          "text": [
            "Epoch [23/30] Validation Loss: 0.1746883256279904\n"
          ]
        },
        {
          "output_type": "stream",
          "name": "stderr",
          "text": [
            "Training: 100%|██████████| 161/161 [00:05<00:00, 29.25it/s, loss=0.311]\n"
          ]
        },
        {
          "output_type": "stream",
          "name": "stdout",
          "text": [
            "Epoch [24/30] Train Loss: 0.3114651210652375\n"
          ]
        },
        {
          "output_type": "stream",
          "name": "stderr",
          "text": [
            "Validation: 100%|██████████| 69/69 [00:02<00:00, 24.22it/s, loss=0.166]\n"
          ]
        },
        {
          "output_type": "stream",
          "name": "stdout",
          "text": [
            "Epoch [24/30] Validation Loss: 0.16639038099758868\n"
          ]
        },
        {
          "output_type": "stream",
          "name": "stderr",
          "text": [
            "Training: 100%|██████████| 161/161 [00:05<00:00, 28.75it/s, loss=0.301]\n"
          ]
        },
        {
          "output_type": "stream",
          "name": "stdout",
          "text": [
            "Epoch [25/30] Train Loss: 0.30110387175534825\n"
          ]
        },
        {
          "output_type": "stream",
          "name": "stderr",
          "text": [
            "Validation: 100%|██████████| 69/69 [00:02<00:00, 31.18it/s, loss=0.16]\n"
          ]
        },
        {
          "output_type": "stream",
          "name": "stdout",
          "text": [
            "Epoch [25/30] Validation Loss: 0.15967958037188087\n"
          ]
        },
        {
          "output_type": "stream",
          "name": "stderr",
          "text": [
            "Training: 100%|██████████| 161/161 [00:06<00:00, 25.38it/s, loss=0.293]\n"
          ]
        },
        {
          "output_type": "stream",
          "name": "stdout",
          "text": [
            "Epoch [26/30] Train Loss: 0.292962042996602\n"
          ]
        },
        {
          "output_type": "stream",
          "name": "stderr",
          "text": [
            "Validation: 100%|██████████| 69/69 [00:02<00:00, 30.46it/s, loss=0.153]\n"
          ]
        },
        {
          "output_type": "stream",
          "name": "stdout",
          "text": [
            "Epoch [26/30] Validation Loss: 0.1532459680152976\n"
          ]
        },
        {
          "output_type": "stream",
          "name": "stderr",
          "text": [
            "Training: 100%|██████████| 161/161 [00:06<00:00, 26.06it/s, loss=0.273]\n"
          ]
        },
        {
          "output_type": "stream",
          "name": "stdout",
          "text": [
            "Epoch [27/30] Train Loss: 0.2734672326293791\n"
          ]
        },
        {
          "output_type": "stream",
          "name": "stderr",
          "text": [
            "Validation: 100%|██████████| 69/69 [00:05<00:00, 11.79it/s, loss=0.148]\n"
          ]
        },
        {
          "output_type": "stream",
          "name": "stdout",
          "text": [
            "Epoch [27/30] Validation Loss: 0.14763360870057257\n"
          ]
        },
        {
          "output_type": "stream",
          "name": "stderr",
          "text": [
            "Training: 100%|██████████| 161/161 [00:11<00:00, 14.02it/s, loss=0.272]\n"
          ]
        },
        {
          "output_type": "stream",
          "name": "stdout",
          "text": [
            "Epoch [28/30] Train Loss: 0.2716107471666721\n"
          ]
        },
        {
          "output_type": "stream",
          "name": "stderr",
          "text": [
            "Validation: 100%|██████████| 69/69 [00:02<00:00, 26.98it/s, loss=0.142]\n"
          ]
        },
        {
          "output_type": "stream",
          "name": "stdout",
          "text": [
            "Epoch [28/30] Validation Loss: 0.14234942532535913\n"
          ]
        },
        {
          "output_type": "stream",
          "name": "stderr",
          "text": [
            "Training: 100%|██████████| 161/161 [00:08<00:00, 18.50it/s, loss=0.257]\n"
          ]
        },
        {
          "output_type": "stream",
          "name": "stdout",
          "text": [
            "Epoch [29/30] Train Loss: 0.25650749656354416\n"
          ]
        },
        {
          "output_type": "stream",
          "name": "stderr",
          "text": [
            "Validation: 100%|██████████| 69/69 [00:02<00:00, 30.52it/s, loss=0.138]\n"
          ]
        },
        {
          "output_type": "stream",
          "name": "stdout",
          "text": [
            "Epoch [29/30] Validation Loss: 0.1379754205868728\n"
          ]
        },
        {
          "output_type": "stream",
          "name": "stderr",
          "text": [
            "Training: 100%|██████████| 161/161 [00:05<00:00, 29.65it/s, loss=0.249]\n"
          ]
        },
        {
          "output_type": "stream",
          "name": "stdout",
          "text": [
            "Epoch [30/30] Train Loss: 0.24949686664231815\n"
          ]
        },
        {
          "output_type": "stream",
          "name": "stderr",
          "text": [
            "Validation: 100%|██████████| 69/69 [00:02<00:00, 28.42it/s, loss=0.135]\n"
          ]
        },
        {
          "output_type": "stream",
          "name": "stdout",
          "text": [
            "Epoch [30/30] Validation Loss: 0.13465643803710522\n"
          ]
        },
        {
          "output_type": "stream",
          "name": "stderr",
          "text": [
            "Testing lora on subset2 : 100%|██████████| 38/38 [00:01<00:00, 21.78it/s]"
          ]
        },
        {
          "output_type": "stream",
          "name": "stdout",
          "text": [
            "Accuracy: 0.958\n",
            "Wrong counts for the digit 0: 0\n",
            "Wrong counts for the digit 1: 0\n",
            "Wrong counts for the digit 2: 0\n",
            "Wrong counts for the digit 3: 0\n",
            "Wrong counts for the digit 4: 0\n",
            "Wrong counts for the digit 5: 37\n",
            "Wrong counts for the digit 6: 22\n",
            "Wrong counts for the digit 7: 24\n",
            "Wrong counts for the digit 8: 69\n",
            "Wrong counts for the digit 9: 54\n"
          ]
        },
        {
          "output_type": "stream",
          "name": "stderr",
          "text": [
            "\n"
          ]
        }
      ]
    },
    {
      "cell_type": "markdown",
      "source": [
        "<font color='blue'> The following plot shows the test accuracy as a function of LoRA rank:"
      ],
      "metadata": {
        "id": "fLimhYg19elK"
      },
      "id": "fLimhYg19elK"
    },
    {
      "cell_type": "code",
      "source": [
        "plt.figure(figsize=(7, 5))\n",
        "ranks = [1, 2, 4, 8, 16, 32, 64]\n",
        "accuracies = list(test_accuracies.values())\n",
        "plt.plot(ranks, accuracies, marker='o', linestyle='-', color='b')\n",
        "plt.title('Test Accuracy as a Function of LoRA Rank')\n",
        "plt.xlabel('LoRA Rank')\n",
        "plt.ylabel('Test Accuracy')\n",
        "plt.grid(True)\n",
        "plt.show()"
      ],
      "metadata": {
        "colab": {
          "base_uri": "https://localhost:8080/",
          "height": 487
        },
        "id": "up_wbjuJM6EL",
        "outputId": "d8b55371-0486-4cf9-b194-2ce843ff189b"
      },
      "id": "up_wbjuJM6EL",
      "execution_count": null,
      "outputs": [
        {
          "output_type": "display_data",
          "data": {
            "text/plain": [
              "<Figure size 700x500 with 1 Axes>"
            ],
            "image/png": "[encoded data removed]"
          },
          "metadata": {}
        }
      ]
    },
    {
      "cell_type": "markdown",
      "source": [
        "<font color='blue'> Let's now show the number of parameters of the model as a function of LoRA rank:"
      ],
      "metadata": {
        "id": "ub8omUhH9vF0"
      },
      "id": "ub8omUhH9vF0"
    },
    {
      "cell_type": "code",
      "source": [
        "plt.figure(figsize=(7, 5))\n",
        "num_params_values = list(num_parameters.values())\n",
        "plt.plot(ranks, num_params_values, marker='o', linestyle='-', color='r')\n",
        "plt.title('Number of Parameters as a Function of LoRA Rank')\n",
        "plt.xlabel('LoRA Rank')\n",
        "plt.ylabel('Number of Parameters')\n",
        "plt.grid(True)\n",
        "plt.show()"
      ],
      "metadata": {
        "colab": {
          "base_uri": "https://localhost:8080/",
          "height": 487
        },
        "id": "DtprW6LANTXM",
        "outputId": "7172d38b-a2ce-4091-e453-e4f07ad0a9f8"
      },
      "id": "DtprW6LANTXM",
      "execution_count": null,
      "outputs": [
        {
          "output_type": "display_data",
          "data": {
            "text/plain": [
              "<Figure size 700x500 with 1 Axes>"
            ],
            "image/png": "[encoded data removed]"
          },
          "metadata": {}
        }
      ]
    },
    {
      "cell_type": "markdown",
      "source": [
        "<font color='blue'> **Comments:**\n",
        "\n",
        "<font color='blue'> The main observation is that the test set accuracy increases when we increase the lora_rank. For lora_rank=1, we obtain a test accuracy of 0.565, while for lora_rank=64 the accuracy is equal to 0.958. However, as we have seen in the red plot, the number of parameters of the model also increases linearly with the rank. This presents a tradeoff between accuracy and number of parameters. By looking at the plots, we could say than an optimal value for lora_rank would be around 35. Indeed, for lora_rank=32, we obtain a test accuracy of 0.947, which is near to the one obtained with traditional fine-tuning (with the same number of epochs and with almost 13 times less parameters trained!).\n",
        "\n",
        " <font color='blue'> The main advantage of LoRA is that it updates only a small subset of the model's parameters, which allows for quick adaptation to new tasks or datasets without the need for extensive retraining. In this TP we have tested it on MNIST, but it can be extended to more complex applications. Indeed, its efficiency makes it particularly useful for enhancing natural language processing for domain-specific tasks, improving image recognition in computer vision, personalizing recommendation systems, and adapting autonomous systems for specific environments. Overall, LoRA leverages the strength of large pre-trained models, by making their fine-tuning much more efficient."
      ],
      "metadata": {
        "id": "7T3F8WZQ95mt"
      },
      "id": "7T3F8WZQ95mt"
    },
    {
      "cell_type": "code",
      "source": [
        "# Dictionnaries obtained after training\n",
        "\n",
        "print(test_accuracies)\n",
        "print(num_parameters)"
      ],
      "metadata": {
        "colab": {
          "base_uri": "https://localhost:8080/"
        },
        "id": "5rbDuA7cUS1T",
        "outputId": "5a5d06e4-2527-4b71-9185-5238f9d0d09a"
      },
      "id": "5rbDuA7cUS1T",
      "execution_count": null,
      "outputs": [
        {
          "output_type": "stream",
          "name": "stdout",
          "text": [
            "{'test_accuracy_1': 0.565, 'test_accuracy_2': 0.626, 'test_accuracy_4': 0.832, 'test_accuracy_8': 0.893, 'test_accuracy_16': 0.928, 'test_accuracy_32': 0.947, 'test_accuracy_64': 0.958}\n",
            "{'num_param_rank_1': 6789, 'num_param_rank_2': 13578, 'num_param_rank_4': 27156, 'num_param_rank_8': 54312, 'num_param_rank_16': 108624, 'num_param_rank_32': 217248, 'num_param_rank_64': 434496}\n"
          ]
        }
      ]
    }
  ],
  "metadata": {
    "kernelspec": {
      "display_name": "Python 3",
      "name": "python3"
    },
    "kfiletag": "1OwQKpKKP4yj",
    "language_info": {
      "codemirror_mode": {
        "name": "ipython",
        "version": 3
      },
      "file_extension": ".py",
      "mimetype": "text/x-python",
      "name": "python",
      "nbconvert_exporter": "python",
      "pygments_lexer": "ipython3",
      "version": "3.7.6"
    },
    "colab": {
      "provenance": [],
      "gpuType": "T4"
    },
    "accelerator": "GPU"
  },
  "nbformat": 4,
  "nbformat_minor": 5
}