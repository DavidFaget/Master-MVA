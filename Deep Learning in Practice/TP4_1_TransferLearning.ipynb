{
  "cells": [
    {
      "cell_type": "markdown",
      "metadata": {
        "cell_ktag": "N9isWl7XtwVN",
        "id": "4jVkOWmgFT1p"
      },
      "source": [
        "# **Practical session on Transfer Learning**\n",
        "This Pratical session proposes to study several techniques for improving challenging context, in which few data and resources are available."
      ]
    },
    {
      "cell_type": "markdown",
      "metadata": {
        "cell_ktag": "N9isWl7XtwVN",
        "id": "QLKnIngy_2hg"
      },
      "source": [
        "# Introduction\n",
        "\n",
        "**Context :**\n",
        "\n",
        "Assume we are in a context where few \"gold\" labeled data are available for training, say\n",
        "\n",
        "$$\\mathcal{X}_{\\text{train}} = \\{(x_n,y_n)\\}_{n\\leq N_{\\text{train}}}$$\n",
        "\n",
        "where $N_{\\text{train}}$ is small.\n",
        "\n",
        "A large test set $\\mathcal{X}_{\\text{test}}$ as well as a large amount of unlabeled data, $\\mathcal{X}$, is available. We also assume that we have a limited computational budget (e.g., no GPUs).\n",
        "\n",
        "**Instructions to follow :**\n",
        "\n",
        "For each question, write a commented *Code* or a complete answer as a *Markdown*. When the objective of a question is to report a CNN accuracy, please use the following format to report it, at the end of the question :\n",
        "\n",
        "| Model | Number of  epochs  | Train accuracy | Test accuracy |\n",
        "|------|------|------|------|\n",
        "|   XXX  | XXX | XXX | XXX |\n",
        "\n",
        "If applicable, please add the field corresponding to the  __Accuracy on Full Data__ as well as a link to the __Reference paper__ you used to report those numbers. (You do not need to train a CNN on the full CIFAR10 dataset!)\n",
        "\n",
        "In your final report, please *keep the logs of each training procedure* you used. We will only run this jupyter if we have some doubts on your implementation.\n",
        "\n",
        "The total file sizes should be reasonable (feasible with 2MB only!). You will be asked to hand in the notebook, together with any necessary files required to run it if any.\n",
        "\n",
        "You can use https://colab.research.google.com/ to run your experiments."
      ]
    },
    {
      "cell_type": "code",
      "source": [
        "# Imports\n",
        "\n",
        "import torch\n",
        "import torchvision\n",
        "import torch.nn as nn\n",
        "import torch.nn.functional as F\n",
        "import torchvision.models as models\n",
        "import torchvision.transforms as transforms\n",
        "\n",
        "import numpy as np\n",
        "import matplotlib.pyplot as plt"
      ],
      "metadata": {
        "id": "0yaz9DX74MBz"
      },
      "execution_count": null,
      "outputs": []
    },
    {
      "cell_type": "code",
      "source": [
        "# Check if CUDA is available\n",
        "\n",
        "device = 'cuda' if torch.cuda.is_available() else 'cpu'"
      ],
      "metadata": {
        "id": "JeHbxuMMcYCW"
      },
      "execution_count": null,
      "outputs": []
    },
    {
      "cell_type": "markdown",
      "metadata": {
        "cell_ktag": "N9isWl7XtwVN",
        "id": "YmTCQPSh_2hg"
      },
      "source": [
        "## Training set creation\n",
        "__Question 1 (1 points) :__ Propose a dataloader to obtain a training loader that will only use the first 100 samples of the CIFAR-10 training set.\n",
        "\n",
        "Additional information :  \n",
        "\n",
        "*   CIFAR10 dataset : https://en.wikipedia.org/wiki/CIFAR-10\n",
        "*   You can directly use the dataloader framework from Pytorch.\n",
        "*   Alternatively you can modify the file : https://github.com/pytorch/vision/blob/master/torchvision/datasets/cifar.py"
      ]
    },
    {
      "cell_type": "code",
      "execution_count": null,
      "metadata": {
        "cell_ktag": "N9isWl7XtwVN",
        "id": "uZkC5IxR_2hh",
        "colab": {
          "base_uri": "https://localhost:8080/"
        },
        "outputId": "08726fd1-8392-4485-f75c-71b926c066d8"
      },
      "outputs": [
        {
          "output_type": "stream",
          "name": "stdout",
          "text": [
            "Downloading https://www.cs.toronto.edu/~kriz/cifar-10-python.tar.gz to /content/cifar-10-python.tar.gz\n"
          ]
        },
        {
          "output_type": "stream",
          "name": "stderr",
          "text": [
            "100%|██████████| 170498071/170498071 [00:03<00:00, 44093299.55it/s]\n"
          ]
        },
        {
          "output_type": "stream",
          "name": "stdout",
          "text": [
            "Extracting /content/cifar-10-python.tar.gz to /content\n",
            "Files already downloaded and verified\n"
          ]
        }
      ],
      "source": [
        "# Training\n",
        "cifar10_trainset = torchvision.datasets.CIFAR10(root =\"/content\", train=True, download=True , transform=transforms.ToTensor())\n",
        "indices_first = list(range(100))\n",
        "\n",
        "X_train = torch.utils.data.Subset(cifar10_trainset, indices_first)\n",
        "training_loader  = torch.utils.data.DataLoader(X_train)\n",
        "\n",
        "# Test\n",
        "X_test = torchvision.datasets.CIFAR10(root =\"/content\", train=False , download=True, transform=transforms.ToTensor())\n",
        "test_loader = torch.utils.data.DataLoader(X_test)"
      ]
    },
    {
      "cell_type": "code",
      "source": [
        "# Check lengths\n",
        "\n",
        "print(\"Length of full CIFAR10 train set:\", len(cifar10_trainset))\n",
        "print(\"Check length of train set with 100 samples:\", len(X_train))\n",
        "print(\"Length of full CIFAR10 test set:\", len(X_test))"
      ],
      "metadata": {
        "colab": {
          "base_uri": "https://localhost:8080/"
        },
        "id": "8ITwZZ5E43Jt",
        "outputId": "872cf155-8a50-4f33-c5a4-542bb46c15df"
      },
      "execution_count": null,
      "outputs": [
        {
          "output_type": "stream",
          "name": "stdout",
          "text": [
            "Length of full CIFAR10 train set: 50000\n",
            "Check length of train set with 100 samples: 100\n",
            "Length of full CIFAR10 test set: 10000\n"
          ]
        }
      ]
    },
    {
      "cell_type": "markdown",
      "metadata": {
        "cell_ktag": "N9isWl7XtwVN",
        "id": "fUno1nmu_2hh"
      },
      "source": [
        "* This is our dataset $\\mathcal{X}_{\\text{train}}$, it will be used until the end of this project.\n",
        "\n",
        "* The remaining samples correspond to $\\mathcal{X}$.\n",
        "\n",
        "* The testing set $\\mathcal{X}_{\\text{test}}$ corresponds to the whole testing set of CIFAR-10."
      ]
    },
    {
      "cell_type": "markdown",
      "metadata": {
        "cell_ktag": "N9isWl7XtwVN",
        "id": "Vr0d4o5L_2hi"
      },
      "source": [
        "## Testing procedure\n",
        "__Question 2 (0.5 points):__ Explain why the evaluation of the training procedure is difficult. Propose several solutions."
      ]
    },
    {
      "cell_type": "markdown",
      "metadata": {
        "cell_ktag": "N9isWl7XtwVN",
        "id": "ppiTrnpd_2hi"
      },
      "source": [
        "<font color='blue'> All problems come from the fact that we have only selected the 100 first samples of the whole dataset.\n",
        "\n",
        "- <font color='blue'> Problem 1: We will have limited ground truth for validation, and this can make it hard to assess how well the model generalizes to unseen data.\n",
        "\n",
        "- <font color='blue'> Problem 2: The model might overfit to the small labeled dataset, performing well on these known samples but poorly on new, unseen data.\n",
        "\n",
        "- <font color='blue'>Problem 3: With limited labeled data, it's challenging to measure the model's uncertainty and the variability of its predictions across the broader data distribution. This can lead to an incomplete understanding of the model's reliability.\n",
        "\n",
        "- <font color='blue'> Problem 4: We may have an imbalance of classes. Indeed, even if it is not our case, we could have a situation where the 100 first samples of the dataset correspond to the same label. If this was the case, the model would not learn for other classes."
      ]
    },
    {
      "cell_type": "markdown",
      "source": [
        "<font color='blue'> Several solutions can be proposed:\n",
        "- <font color='blue'> Solution 1: We might create a subset of the whole training set containing 100 samples but with stratification. That is, ensuring that the samples represent well the whole training set in terms of proportion on the classes.\n",
        "\n",
        "- <font color='blue'> Solution 2: Since the main problem is that the train set is small, we can perform data augmentation.\n",
        "\n",
        "- <font color='blue'> Solution 3: As seen in class, this setup is ideal to use a weak supervision technique (self-supervised or semi-supervised)."
      ],
      "metadata": {
        "id": "oNRcf1CkVQzK"
      }
    },
    {
      "cell_type": "code",
      "source": [
        "# This cell is intended to explore Problem 4, by the visualization of the distribution of X_train (first 100 samples)\n",
        "\n",
        "labels=[]\n",
        "for sample,label in training_loader:\n",
        "  labels.append(label.item())\n",
        "nbr = np.unique(np.array(labels),return_counts=True)\n",
        "\n",
        "# Plot\n",
        "plt.figure(figsize=(7,3))\n",
        "plt.bar(nbr[0],nbr[1])\n",
        "plt.xticks(nbr[0])\n",
        "plt.xlabel('Classes')\n",
        "plt.ylabel('Number of samples')\n",
        "plt.title('Distribution of X_train')\n",
        "plt.show()"
      ],
      "metadata": {
        "colab": {
          "base_uri": "https://localhost:8080/",
          "height": 333
        },
        "id": "VJUeytmtXcS1",
        "outputId": "da787824-533d-4c1e-8fbf-705d54b6f505"
      },
      "execution_count": null,
      "outputs": [
        {
          "output_type": "display_data",
          "data": {
            "text/plain": [
              "<Figure size 700x300 with 1 Axes>"
            ],
            "image/png": "[encoded data removed]"
          },
          "metadata": {}
        }
      ]
    },
    {
      "cell_type": "markdown",
      "metadata": {
        "cell_ktag": "N9isWl7XtwVN",
        "id": "OEaIwILB_2hi"
      },
      "source": [
        "# The Baseline"
      ]
    },
    {
      "cell_type": "markdown",
      "metadata": {
        "cell_ktag": "N9isWl7XtwVN",
        "id": "M-PQZ2Vl_2hi"
      },
      "source": [
        "In this section, the goal is to train a CNN on $\\mathcal{X}_{\\text{train}}$ and compare its performance with reported numbers from the litterature. You will have to re-use and/or design a standard classification pipeline. You should optimize your pipeline to obtain the best performances (image size, data augmentation by flip, ...).\n",
        "\n",
        "The key ingredients for training a CNN are the batch size, as well as the learning rate scheduler (i.e. how to decrease the learning rate as a function of the number of epochs). A possible scheduler is to start the learning rate at 0.1 and decreasing it every 30 epochs by 10. In case of divergence, reduce the learning rate. A potential batch size could be 10, yet this can be cross-validated.\n",
        "\n",
        "You can get some baselines accuracies in this paper (obviously, it is a different context for those researchers who had access to GPUs!) : http://openaccess.thecvf.com/content_cvpr_2018/papers/Keshari_Learning_Structure_and_CVPR_2018_paper.pdf."
      ]
    },
    {
      "cell_type": "markdown",
      "metadata": {
        "cell_ktag": "N9isWl7XtwVN",
        "id": "ARHWPXrY_2hi"
      },
      "source": [
        "## ResNet architectures"
      ]
    },
    {
      "cell_type": "markdown",
      "metadata": {
        "cell_ktag": "N9isWl7XtwVN",
        "id": "voMbGoNw_2hj"
      },
      "source": [
        "__Question 3 (2 points) :__ Write a classification pipeline for $\\mathcal{X}_{\\text{train}}$, train from scratch and evaluate a *ResNet-18* architecture specific to CIFAR10 (details about the ImageNet model can be found here: https://arxiv.org/abs/1512.03385). Please report the accuracy obtained on the whole dataset as well as the reference paper/GitHub link.\n",
        "\n",
        "*Hint :* You can re-use the following code : https://github.com/kuangliu/pytorch-cifar. During a training of 10 epochs, a batch size of 10 and a learning rate of 0.01, one obtains 40% accuracy on $\\mathcal{X}_{\\text{train}}$ (\\~2 minutes) and 20% accuracy on $\\mathcal{X}_{\\text{test}}$ (\\~5 minutes)."
      ]
    },
    {
      "cell_type": "code",
      "execution_count": null,
      "metadata": {
        "cell_ktag": "N9isWl7XtwVN",
        "id": "RVHhKmWN_2hj"
      },
      "outputs": [],
      "source": [
        "'''ResNet in PyTorch. This code is taken from  https://github.com/kuangliu/pytorch-cifar\n",
        "\n",
        "Reference:\n",
        "[1] Kaiming He, Xiangyu Zhang, Shaoqing Ren, Jian Sun\n",
        "    Deep Residual Learning for Image Recognition. arXiv:1512.03385\n",
        "'''\n",
        "\n",
        "class BasicBlock(nn.Module):\n",
        "    expansion = 1\n",
        "\n",
        "    def __init__(self, in_planes, planes, stride=1):\n",
        "        super(BasicBlock, self).__init__()\n",
        "        self.conv1 = nn.Conv2d(\n",
        "            in_planes, planes, kernel_size=3, stride=stride, padding=1, bias=False)\n",
        "        self.bn1 = nn.BatchNorm2d(planes)\n",
        "        self.conv2 = nn.Conv2d(planes, planes, kernel_size=3,\n",
        "                               stride=1, padding=1, bias=False)\n",
        "        self.bn2 = nn.BatchNorm2d(planes)\n",
        "\n",
        "        self.shortcut = nn.Sequential()\n",
        "        if stride != 1 or in_planes != self.expansion*planes:\n",
        "            self.shortcut = nn.Sequential(\n",
        "                nn.Conv2d(in_planes, self.expansion*planes,\n",
        "                          kernel_size=1, stride=stride, bias=False),\n",
        "                nn.BatchNorm2d(self.expansion*planes)\n",
        "            )\n",
        "\n",
        "    def forward(self, x):\n",
        "        out = F.relu(self.bn1(self.conv1(x)))\n",
        "        out = self.bn2(self.conv2(out))\n",
        "        out += self.shortcut(x)\n",
        "        out = F.relu(out)\n",
        "        return out\n",
        "\n",
        "\n",
        "class ResNet(nn.Module):\n",
        "    def __init__(self, block, num_blocks, num_classes=10):\n",
        "        super(ResNet, self).__init__()\n",
        "        self.in_planes = 64\n",
        "\n",
        "        self.conv1 = nn.Conv2d(3, 64, kernel_size=3,\n",
        "                               stride=1, padding=1, bias=False)\n",
        "        self.bn1 = nn.BatchNorm2d(64)\n",
        "        self.layer1 = self._make_layer(block, 64, num_blocks[0], stride=1)\n",
        "        self.layer2 = self._make_layer(block, 128, num_blocks[1], stride=2)\n",
        "        self.layer3 = self._make_layer(block, 256, num_blocks[2], stride=2)\n",
        "        self.layer4 = self._make_layer(block, 512, num_blocks[3], stride=2)\n",
        "        self.linear = nn.Linear(512*block.expansion, num_classes)\n",
        "\n",
        "    def _make_layer(self, block, planes, num_blocks, stride):\n",
        "        strides = [stride] + [1]*(num_blocks-1)\n",
        "        layers = []\n",
        "        for stride in strides:\n",
        "            layers.append(block(self.in_planes, planes, stride))\n",
        "            self.in_planes = planes * block.expansion\n",
        "        return nn.Sequential(*layers)\n",
        "\n",
        "    def forward(self, x):\n",
        "        out = F.relu(self.bn1(self.conv1(x)))\n",
        "        out = self.layer1(out)\n",
        "        out = self.layer2(out)\n",
        "        out = self.layer3(out)\n",
        "        out = self.layer4(out)\n",
        "        out = F.avg_pool2d(out, 4)\n",
        "        out = out.view(out.size(0), -1)\n",
        "        out = self.linear(out)\n",
        "        return out\n",
        "\n",
        "def ResNet18():\n",
        "    return ResNet(BasicBlock, [2, 2, 2, 2])"
      ]
    },
    {
      "cell_type": "code",
      "source": [
        "def train(model, total_epochs, opt, lr_scheduler, loss_func, data_loader, log_verbose=True, device='cuda', initial_epoch=0):\n",
        "\n",
        "    model.to(device)\n",
        "    accuracy_history, loss_history = [], []\n",
        "\n",
        "    # Training loop\n",
        "    for epoch in range(initial_epoch, total_epochs + initial_epoch):\n",
        "        model.train()  # We set the model to training mode\n",
        "\n",
        "        total_loss, correct_predictions, total_samples = 0, 0, 0\n",
        "\n",
        "        for batch_index, (inputs, labels) in enumerate(data_loader):\n",
        "            inputs, labels = inputs.to(device), labels.to(device)\n",
        "\n",
        "            opt.zero_grad()\n",
        "            predictions = model(inputs)\n",
        "            loss = loss_func(predictions, labels)\n",
        "            loss.backward()\n",
        "            opt.step()\n",
        "\n",
        "            # We accumulate metrics\n",
        "            total_loss += loss.item()\n",
        "            total_samples += labels.size(0)\n",
        "            correct_predictions += (predictions.argmax(1) == labels).sum().item()\n",
        "\n",
        "        # We can now calculate epoch metrics and update histories\n",
        "        epoch_accuracy = 100 * correct_predictions / total_samples\n",
        "        average_loss = total_loss / len(data_loader)\n",
        "\n",
        "        accuracy_history.append(epoch_accuracy)\n",
        "        loss_history.append(average_loss)\n",
        "\n",
        "        # Optionally print\n",
        "        if log_verbose and (epoch % 5 == 0 or epoch == total_epochs + initial_epoch - 1):\n",
        "            print(f'Epoch: {epoch} | Train Loss: {average_loss:.4f} | Train Accuracy: {epoch_accuracy:.2f}%')\n",
        "\n",
        "    return accuracy_history, loss_history"
      ],
      "metadata": {
        "id": "bnLpz785cRVb"
      },
      "execution_count": null,
      "outputs": []
    },
    {
      "cell_type": "code",
      "source": [
        "def test(model, loss_function, device, data_loader, display_output=True):\n",
        "\n",
        "    # We set the model to evaluation mode\n",
        "    model.eval()\n",
        "\n",
        "    # Initialize metrics\n",
        "    total_loss, total_correct, total_samples = 0, 0, 0\n",
        "\n",
        "    with torch.no_grad():\n",
        "        for data, targets in data_loader:\n",
        "            data, targets = data.to(device), targets.to(device)\n",
        "            outputs = model(data)\n",
        "\n",
        "            # We calculate and accumulate the loss\n",
        "            loss = loss_function(outputs, targets)\n",
        "            total_loss += loss.item()\n",
        "\n",
        "            # ... and the accuracy\n",
        "            preds = outputs.argmax(dim=1)\n",
        "            total_correct += (preds == targets).sum().item()\n",
        "            total_samples += targets.size(0)\n",
        "\n",
        "    # We can now calculate final metrics\n",
        "    average_loss = total_loss / len(data_loader)\n",
        "    accuracy = 100 * (total_correct / total_samples)\n",
        "\n",
        "    # Optionally print results\n",
        "    if display_output:\n",
        "        print(f'Test Loss: {average_loss:.4f} | Test Accuracy: {accuracy:.2f}%')\n",
        "\n",
        "    return accuracy"
      ],
      "metadata": {
        "id": "BZ61RKU9cop9"
      },
      "execution_count": null,
      "outputs": []
    },
    {
      "cell_type": "code",
      "source": [
        "# We create a function to plot the training accuracy and loss history over epochs.\n",
        "\n",
        "def plot_training_metrics(training_accuracy, loss_history):\n",
        "\n",
        "    epochs = range(1, len(training_accuracy) + 1)\n",
        "    fig, axes = plt.subplots(1, 2, figsize=(15, 5))\n",
        "\n",
        "    axes[0].plot(epochs, training_accuracy, 'b-', label='Accuracy')\n",
        "    axes[0].set_title('Training Accuracy Over Epochs')\n",
        "    axes[0].set_xlabel('Epoch')\n",
        "    axes[0].set_ylabel('Accuracy')\n",
        "    axes[0].legend()\n",
        "\n",
        "    axes[1].plot(epochs, loss_history, 'r-', label='Loss')\n",
        "    axes[1].set_title('Training Loss Over Epochs')\n",
        "    axes[1].set_xlabel('Epoch')\n",
        "    axes[1].set_ylabel('Loss')\n",
        "    axes[1].legend()\n",
        "\n",
        "    plt.tight_layout()\n",
        "    plt.show()\n"
      ],
      "metadata": {
        "id": "jnDwvHGVcdsv"
      },
      "execution_count": null,
      "outputs": []
    },
    {
      "cell_type": "code",
      "source": [
        "# Epochs and batch size\n",
        "num_epochs = 40\n",
        "batch_size = 20\n",
        "\n",
        "# We must create again the dataloaders to take into account the batch size\n",
        "training_loader  = torch.utils.data.DataLoader(X_train, batch_size=batch_size, shuffle=True)\n",
        "test_loader = torch.utils.data.DataLoader(X_test, batch_size=batch_size, shuffle=False)\n",
        "\n",
        "# Define model\n",
        "neural_net = ResNet18()\n",
        "loss_function = torch.nn.CrossEntropyLoss()\n",
        "optim = torch.optim.Adam(neural_net.parameters(), lr=1e-3)\n",
        "lr_sched = torch.optim.lr_scheduler.ExponentialLR(optim, gamma=0.1)\n",
        "\n",
        "\n",
        "print(\"Training:\")\n",
        "train_accuracy, training_loss = train(neural_net, num_epochs, optim, lr_sched, loss_function, training_loader, log_verbose=True, device='cuda')\n",
        "\n",
        "print(\"\\nTesting:\")\n",
        "test_accuracy = test(neural_net, loss_function, 'cuda', test_loader, display_output=True)\n",
        "\n",
        "# Plot training metrics\n",
        "plot_training_metrics(train_accuracy, training_loss)"
      ],
      "metadata": {
        "colab": {
          "base_uri": "https://localhost:8080/",
          "height": 622
        },
        "id": "1fByTtfvcsIb",
        "outputId": "573c8785-1414-48a2-fc3b-476d7cc96823"
      },
      "execution_count": null,
      "outputs": [
        {
          "output_type": "stream",
          "name": "stdout",
          "text": [
            "Training:\n",
            "Epoch: 0 | Train Loss: 3.2316 | Train Accuracy: 8.00%\n",
            "Epoch: 5 | Train Loss: 1.2604 | Train Accuracy: 57.00%\n",
            "Epoch: 10 | Train Loss: 0.5535 | Train Accuracy: 84.00%\n",
            "Epoch: 15 | Train Loss: 0.2554 | Train Accuracy: 91.00%\n",
            "Epoch: 20 | Train Loss: 0.2059 | Train Accuracy: 96.00%\n",
            "Epoch: 25 | Train Loss: 0.1943 | Train Accuracy: 95.00%\n",
            "Epoch: 30 | Train Loss: 0.0466 | Train Accuracy: 98.00%\n",
            "Epoch: 35 | Train Loss: 0.0142 | Train Accuracy: 100.00%\n",
            "Epoch: 39 | Train Loss: 0.0038 | Train Accuracy: 100.00%\n",
            "\n",
            "Testing:\n",
            "Test Loss: 4.4549 | Test Accuracy: 24.16%\n"
          ]
        },
        {
          "output_type": "display_data",
          "data": {
            "text/plain": [
              "<Figure size 1500x500 with 2 Axes>"
            ],
            "image/png": "[encoded data removed]"
          },
          "metadata": {}
        }
      ]
    },
    {
      "cell_type": "markdown",
      "source": [
        "<font color='blue'>\n",
        "The following table presents the results obtained training a ResNet-18 on X_train (only 100 samples). It also presents the accuracy obtained by https://github.com/kuangliu/pytorch-cifar also using a ResNet-18 architecture.\n",
        "\n",
        "| Model | Number of  epochs  | Train accuracy | Test accuracy | Accuracy on full data\n",
        "|------|------|------|------|------|\n",
        "|   ResNet-18  | 30 | 100% | 24.16% | 93.02%\n",
        "\n",
        "\n"
      ],
      "metadata": {
        "id": "-wuilE41BoKT"
      }
    },
    {
      "cell_type": "markdown",
      "metadata": {
        "cell_ktag": "N9isWl7XtwVN",
        "id": "-C3mHqCk_2hj"
      },
      "source": [
        "# Transfer learning"
      ]
    },
    {
      "cell_type": "markdown",
      "metadata": {
        "cell_ktag": "N9isWl7XtwVN",
        "id": "8Tn9pW14_2hj"
      },
      "source": [
        "We propose to use pre-trained models on a classification and generative task, in order to improve the results of our setting."
      ]
    },
    {
      "cell_type": "markdown",
      "metadata": {
        "cell_ktag": "N9isWl7XtwVN",
        "id": "z8g_3ZDi_2hj"
      },
      "source": [
        "## ImageNet features"
      ]
    },
    {
      "cell_type": "markdown",
      "metadata": {
        "cell_ktag": "N9isWl7XtwVN",
        "id": "PfYEhdFb_2hj"
      },
      "source": [
        "Now, we will use some pre-trained models on ImageNet and see how well they compare on CIFAR. A list is available on : https://pytorch.org/vision/stable/models.html.\n",
        "\n",
        "__Question 4 (1 points):__ Pick a model from the list above, adapt it for CIFAR10 and retrain its final layer (or a block of layers, depending on the resources to which you have access to). Report its accuracy."
      ]
    },
    {
      "cell_type": "code",
      "source": [
        "# We decide to take the ResNet18 model, in order to have te same architecture than for the Baseline\n",
        "\n",
        "class Modified_Net(nn.Module):\n",
        "\n",
        "    def __init__(self):\n",
        "        super().__init__()\n",
        "\n",
        "        # Backbone model\n",
        "        self.model = models.resnet18(pretrained=True)\n",
        "        self.n_features = self.model.fc.in_features # self.model.fc.in_features retrieves the number of input features to the final fully connected layer of ResNet18\n",
        "        self.layers = list(self.model.children())[:-1] # This line selects all layers of the ResNet18 model except for its final classification layer, which we remove\n",
        "        self.backbone = nn.Sequential(*self.layers)\n",
        "\n",
        "        # We add 3 final FC layer\n",
        "        self.fc1 = nn.Linear(self.n_features, 64)\n",
        "        self.fc2 = nn.Linear(64, 64)\n",
        "        self.fc3 = nn.Linear(64, 10)\n",
        "\n",
        "    def forward(self, x):\n",
        "\n",
        "      x = self.backbone(x)\n",
        "      x = x.squeeze(3).squeeze(2) # we need to remove singleton dimensions\n",
        "      x = self.fc1(x)\n",
        "      x = self.fc2(x)\n",
        "\n",
        "      return self.fc3(x)"
      ],
      "metadata": {
        "id": "ijkFZwR5yyKx"
      },
      "execution_count": null,
      "outputs": []
    },
    {
      "cell_type": "code",
      "source": [
        "def retrain_test_second_half(epochs, train_loader, lr) :\n",
        "\n",
        "  model = Modified_Net()\n",
        "  criterion = torch.nn.CrossEntropyLoss()\n",
        "  optim = torch.optim.Adam(neural_net.parameters(), lr=1e-3)\n",
        "  lr_sched = torch.optim.lr_scheduler.ExponentialLR(optim, gamma=0.1)\n",
        "\n",
        "   # We choose to retrain the second half of the architecture\n",
        "\n",
        "  for param in model.parameters():\n",
        "    param.requires_grad = True\n",
        "\n",
        "  child_nbrs = 0\n",
        "  for child in model.children():\n",
        "    child_nbrs += 1\n",
        "\n",
        "  child_counter = 0\n",
        "  for child in model.children():\n",
        "    if child_counter < child_nbrs//2 :\n",
        "        child_counter += 1\n",
        "        for param in child.parameters():\n",
        "            param.requires_grad = False\n",
        "\n",
        "  for param in model.fc1.parameters():\n",
        "    param.requires_grad = True\n",
        "\n",
        "  for param in model.fc2.parameters():\n",
        "    param.requires_grad = True\n",
        "\n",
        "  for param in model.fc3.parameters():\n",
        "    param.requires_grad = True\n",
        "\n",
        "  train_accuracy , training_loss = train(model,epochs,optim, lr_sched, criterion,train_loader,device=\"cuda\")\n",
        "\n",
        "  print(\"\\nTesting\")\n",
        "  test_accuracy = test(model, criterion, device, test_loader)"
      ],
      "metadata": {
        "id": "t5pXFLTF3_ad"
      },
      "execution_count": null,
      "outputs": []
    },
    {
      "cell_type": "code",
      "source": [
        "# Epochs and batch size\n",
        "num_epochs = 60\n",
        "batch_size = 20\n",
        "\n",
        "# We must create again the dataloaders to take into account the batch size\n",
        "training_loader  = torch.utils.data.DataLoader(X_train, batch_size=batch_size, shuffle=True)\n",
        "test_loader = torch.utils.data.DataLoader(X_test, batch_size=batch_size, shuffle=False)\n",
        "\n",
        "# Rerain the second half of the architecture\n",
        "retrain_test_second_half(epochs = num_epochs, train_loader=training_loader, lr = 1e-2)"
      ],
      "metadata": {
        "colab": {
          "base_uri": "https://localhost:8080/"
        },
        "id": "QGAJlmhP4hRd",
        "outputId": "f199f9a0-28c9-406d-e6ba-87ecaf584523"
      },
      "execution_count": null,
      "outputs": [
        {
          "output_type": "stream",
          "name": "stderr",
          "text": [
            "/usr/local/lib/python3.10/dist-packages/torchvision/models/_utils.py:208: UserWarning: The parameter 'pretrained' is deprecated since 0.13 and may be removed in the future, please use 'weights' instead.\n",
            "  warnings.warn(\n",
            "/usr/local/lib/python3.10/dist-packages/torchvision/models/_utils.py:223: UserWarning: Arguments other than a weight enum or `None` for 'weights' are deprecated since 0.13 and may be removed in the future. The current behavior is equivalent to passing `weights=ResNet18_Weights.IMAGENET1K_V1`. You can also use `weights=ResNet18_Weights.DEFAULT` to get the most up-to-date weights.\n",
            "  warnings.warn(msg)\n",
            "Downloading: \"https://download.pytorch.org/models/resnet18-f37072fd.pth\" to /root/.cache/torch/hub/checkpoints/resnet18-f37072fd.pth\n",
            "100%|██████████| 44.7M/44.7M [00:00<00:00, 149MB/s]\n"
          ]
        },
        {
          "output_type": "stream",
          "name": "stdout",
          "text": [
            "Epoch: 0 | Train Loss: 2.3279 | Train Accuracy: 14.00%\n",
            "Epoch: 5 | Train Loss: 1.8925 | Train Accuracy: 39.00%\n",
            "Epoch: 10 | Train Loss: 1.4380 | Train Accuracy: 59.00%\n",
            "Epoch: 15 | Train Loss: 1.0934 | Train Accuracy: 70.00%\n",
            "Epoch: 20 | Train Loss: 0.7513 | Train Accuracy: 82.00%\n",
            "Epoch: 25 | Train Loss: 0.6156 | Train Accuracy: 85.00%\n",
            "Epoch: 30 | Train Loss: 0.4431 | Train Accuracy: 87.00%\n",
            "Epoch: 35 | Train Loss: 0.3267 | Train Accuracy: 93.00%\n",
            "Epoch: 40 | Train Loss: 0.2625 | Train Accuracy: 98.00%\n",
            "Epoch: 45 | Train Loss: 0.3045 | Train Accuracy: 93.00%\n",
            "Epoch: 50 | Train Loss: 0.2426 | Train Accuracy: 94.00%\n",
            "Epoch: 55 | Train Loss: 0.3012 | Train Accuracy: 91.00%\n",
            "Epoch: 59 | Train Loss: 0.3234 | Train Accuracy: 90.00%\n",
            "\n",
            "Testing\n",
            "Test Loss: 3.8804 | Test Accuracy: 22.68%\n"
          ]
        }
      ]
    },
    {
      "cell_type": "markdown",
      "source": [
        " <font color='blue'> Results obtained:\n",
        "\n",
        "| Model | Number of  epochs  | Train accuracy | Test accuracy |\n",
        "|------|------|------|------|\n",
        "|   ResNet-18  | 60 | 90% | 22.68% |"
      ],
      "metadata": {
        "id": "22FIVEhuFHXW"
      }
    },
    {
      "cell_type": "markdown",
      "metadata": {
        "cell_ktag": "N9isWl7XtwVN",
        "id": "SvkuMzLs_2hk"
      },
      "source": [
        "# Incorporating *a priori*\n",
        "Geometrical *a priori* are appealing for image classification tasks, though one might have to handle several boundary effects.\n",
        "\n",
        "__Question 5 (0.5 points) :__ Explain the issues when dealing with translations, rotations, scaling effects, color changes on $32\\times32$ images. Propose several ideas to tackle them."
      ]
    },
    {
      "cell_type": "markdown",
      "source": [
        "<font color='blue'> **Problems:**\n",
        "\n",
        "- <font color='blue'> Translations: Minor positional adjustments can lead to considerable alterations in the pixel configuration of low-resolution images, such as 32x32 pixels. These adjustements can cause important details to be lost or create vague and misleading features in the image as a result of the presence of the boundary (lost of a part of the image).\n",
        "\n",
        "- <font color='blue'>  Rotations: When an image is rotated (by a non-multiple of $\\pi$), the misalignment with the pixel grid can result in aliasing and the appearance of jagged edges. This also lead to a loss of information, and it is even more accentuated for images with low resolution (like here, 32x32).\n",
        "\n",
        "- <font color='blue'> Scaling Effects: Scaling down from a 32×32 resolution can cause a loss of detail, making it difficult to recognize objects or features. Scaling up from such a low resolution introduces pixelation and blur.\n",
        "\n",
        "- <font color='blue'> Color Changes: Applying color modifications to an RGB image impacts not only the color aspects but also the intensity levels, leading to images with unusual colorations. This effect arises because the RGB channels are highly correlated, affecting both color and intensity when we alter them.\n",
        "\n",
        "<font color='blue'> **Solutions**\n",
        "\n",
        "- <font color='blue'> Anti-aliasing Techniques: We can use anti-aliasing when rotating or scaling to reduce the jagged edges effect. Anti-aliasing makes the image smoother by adding intermediate colors at the edges, which can help to retain the perceived shapes despite the low resolution.\n",
        "\n",
        "- <font color='blue'> Super-resolution Techniques: We can also implement super-resolution algorithms to recover the details on scaled-up images.\n",
        "\n",
        "- <font color='blue'> Adaptive Scaling [1]: Rather than using a fixed scale factor, adaptive scaling can adjust based on the content of the image, and this can help preserve important details by scaling less aggressively in areas with much more details.\n",
        "\n",
        "- <font color='blue'> HSV Color Space Transformation: Transforming the image into a HSV color space before applying color changes can help retain more intensity information about the original image.\n",
        "\n",
        "\n",
        "<font color='blue'> [1] T. Li, B. Jing, N. Ying, and X. Yu, “Adaptive scaling,” arXiv:1709.00566, 2017."
      ],
      "metadata": {
        "id": "AzLJFHwY9iE6"
      }
    },
    {
      "cell_type": "markdown",
      "metadata": {
        "cell_ktag": "N9isWl7XtwVN",
        "id": "ds6e6teG_2hk"
      },
      "source": [
        "## Data augmentations"
      ]
    },
    {
      "cell_type": "markdown",
      "metadata": {
        "cell_ktag": "N9isWl7XtwVN",
        "id": "-Ek5wlOo_2hk"
      },
      "source": [
        "__Question 6 (4 points):__ Propose a set of geometric transformation beyond translation, and incorporate them in your training pipeline. Train the model of the __Question 3__ with them and report the accuracies."
      ]
    },
    {
      "cell_type": "markdown",
      "source": [
        " <font color='blue'> For this part, notice that the order in which we apply transformations is important. Indeed, structural modifications (flips, crop) are applied first, followed by appearance modifications (blur, color jitter), and finally, the image is converted to the appropriate format (tensor) and normalized for model training."
      ],
      "metadata": {
        "id": "wUv9LSOWKeoz"
      }
    },
    {
      "cell_type": "code",
      "source": [
        "batch_size = 20\n",
        "\n",
        "# We first define the transformations to apply. We have tested several transformations,\n",
        "# but we estimated that the following were the ones which enhanced the most our model\n",
        "\n",
        "train_transformations = transforms.Compose([\n",
        "                 transforms.RandomHorizontalFlip(),\n",
        "                # transforms.RandomVerticalFlip(),\n",
        "                 transforms.RandomCrop(size=[32,32], padding=3),\n",
        "                 transforms.GaussianBlur(kernel_size=(3,3)),\n",
        "                 transforms.ColorJitter(hue=.1),\n",
        "                 transforms.ToTensor(),\n",
        "                 transforms.Normalize((0.4914, 0.4822, 0.4465), (0.2023, 0.1994, 0.2010))\n",
        "                 ])\n",
        "\n",
        "test_transformations = transforms.Compose([\n",
        "                 transforms.ToTensor(),\n",
        "                 transforms.Normalize((0.4914, 0.4822, 0.4465), (0.2023, 0.1994, 0.2010))\n",
        "                 ])\n",
        "\n",
        "# We import the data one more time to ensure that the above transformations are applied:\n",
        "# Training\n",
        "cifar10_trainset = torchvision.datasets.CIFAR10(root =\"/content\", train=True, download=True , transform=train_transformations)\n",
        "indices_first = list(range(100))\n",
        "\n",
        "X_train = torch.utils.data.Subset(cifar10_trainset, indices_first)\n",
        "training_loader  = torch.utils.data.DataLoader(X_train, batch_size=batch_size, shuffle=True)\n",
        "\n",
        "# Test\n",
        "X_test = torchvision.datasets.CIFAR10(root =\"/content\", train=False , download=True, transform=test_transformations)\n",
        "test_loader = torch.utils.data.DataLoader(X_test, batch_size=batch_size, shuffle=False)"
      ],
      "metadata": {
        "colab": {
          "base_uri": "https://localhost:8080/"
        },
        "id": "T_TtnHitF4ji",
        "outputId": "7f1c2806-7fda-4719-db9f-00d153f3b92a"
      },
      "execution_count": null,
      "outputs": [
        {
          "output_type": "stream",
          "name": "stdout",
          "text": [
            "Files already downloaded and verified\n",
            "Files already downloaded and verified\n"
          ]
        }
      ]
    },
    {
      "cell_type": "code",
      "source": [
        "# Retrain with data augmentation\n",
        "\n",
        "# Epochs\n",
        "num_epochs = 65\n",
        "\n",
        "# Define model\n",
        "neural_net = ResNet18()\n",
        "loss_function = torch.nn.CrossEntropyLoss()\n",
        "optim = torch.optim.SGD(neural_net.parameters(), lr=1e-3, momentum=0.8)\n",
        "lr_sched = torch.optim.lr_scheduler.StepLR(optim, step_size=5, gamma=0.1)\n",
        "\n",
        "print(\"Training:\")\n",
        "train_accuracy, training_loss = train(neural_net, num_epochs, optim, lr_sched, loss_function, training_loader, log_verbose=True, device='cuda')\n",
        "\n",
        "print(\"\\nTesting:\")\n",
        "test_accuracy = test(neural_net, loss_function, 'cuda', test_loader, display_output=True)\n",
        "\n",
        "# Plot training metrics\n",
        "plot_training_metrics(train_accuracy, training_loss)"
      ],
      "metadata": {
        "colab": {
          "base_uri": "https://localhost:8080/",
          "height": 709
        },
        "id": "YVsrbRQDGN6b",
        "outputId": "ab922d5f-ddb1-46f9-c8db-341c3d63df3c"
      },
      "execution_count": null,
      "outputs": [
        {
          "output_type": "stream",
          "name": "stdout",
          "text": [
            "Training:\n",
            "Epoch: 0 | Train Loss: 2.4472 | Train Accuracy: 7.00%\n",
            "Epoch: 5 | Train Loss: 1.9329 | Train Accuracy: 34.00%\n",
            "Epoch: 10 | Train Loss: 1.7187 | Train Accuracy: 41.00%\n",
            "Epoch: 15 | Train Loss: 1.4404 | Train Accuracy: 48.00%\n",
            "Epoch: 20 | Train Loss: 1.2865 | Train Accuracy: 57.00%\n",
            "Epoch: 25 | Train Loss: 1.0775 | Train Accuracy: 64.00%\n",
            "Epoch: 30 | Train Loss: 0.9011 | Train Accuracy: 70.00%\n",
            "Epoch: 35 | Train Loss: 0.7015 | Train Accuracy: 84.00%\n",
            "Epoch: 40 | Train Loss: 0.5625 | Train Accuracy: 91.00%\n",
            "Epoch: 45 | Train Loss: 0.4193 | Train Accuracy: 91.00%\n",
            "Epoch: 50 | Train Loss: 0.3511 | Train Accuracy: 91.00%\n",
            "Epoch: 55 | Train Loss: 0.2834 | Train Accuracy: 94.00%\n",
            "Epoch: 60 | Train Loss: 0.2817 | Train Accuracy: 95.00%\n",
            "Epoch: 64 | Train Loss: 0.1798 | Train Accuracy: 95.00%\n",
            "\n",
            "Testing:\n",
            "Test Loss: 3.2406 | Test Accuracy: 26.59%\n"
          ]
        },
        {
          "output_type": "display_data",
          "data": {
            "text/plain": [
              "<Figure size 1500x500 with 2 Axes>"
            ],
            "image/png": "[encoded data removed]"
          },
          "metadata": {}
        }
      ]
    },
    {
      "cell_type": "markdown",
      "source": [
        "<font color='blue'>\n",
        "The following table presents the results obtained training a ResNet-18 on X_train (only 100 samples) but with data augmentation (remember that we obtained an accuracy of 24.16% without it).\n",
        "\n",
        "| Model | Number of  epochs  | Train accuracy | Test accuracy |\n",
        "|------|------|------|------|\n",
        "|   ResNet-18  | 65 | 95% | 26.59% |\n",
        "\n",
        "<font color='blue'>  We observe that we obtain an accuracy more than 2% higher on the test set, which is what we expected, since data augmentation enhances model robustness and generalization by introducing varied and realistic modifications to training data."
      ],
      "metadata": {
        "id": "vpjvqYgHNCzv"
      }
    },
    {
      "cell_type": "markdown",
      "metadata": {
        "cell_ktag": "N9isWl7XtwVN",
        "id": "HRUA5I8N_2hk"
      },
      "source": [
        "# Conclusions"
      ]
    },
    {
      "cell_type": "markdown",
      "metadata": {
        "cell_ktag": "N9isWl7XtwVN",
        "id": "RmyiWAPJ_2hl"
      },
      "source": [
        "__Question 7 (3 points) :__ Write a short report explaining the pros and the cons of each method that you implemented. 25% of the grade of this project will correspond to this question, thus, it should be done carefully. In particular, please add a plot that will summarize all your numerical results."
      ]
    },
    {
      "cell_type": "markdown",
      "source": [
        "<font color='blue'> In this project, we have implemented 3 methods:\n",
        "1. <font color='blue'> Training a ResNet-18 from scratch on X_train without data augmentation.\n",
        "2. <font color='blue'> Re-train the second half of a ResNet-18 trained on ImageNet and adapt it to CIFAR-10.\n",
        "3.  <font color='blue'> Training a ResNet-18 from scratch on X_train with data augmentation.\n",
        "\n",
        "<font color='blue'> **Method 1**\n",
        "\n",
        "<font color='blue'> Pros: The model learns purely from the original dataset, capturing the specific characteristics and nuances without any artificially introduced variability. It is also simpler to implement than a strategy with data augmentation.\n",
        "\n",
        "<font color='blue'>Cons: Since X_tran only have 100 samples, the model quickly overfits to the training data, learning noise and specific details that do not generalize well to unseen data.\n",
        "\n",
        "<font color='blue'> **Method 2**\n",
        "\n",
        "<font color='blue'> Pros: Leveraging pretrained weights enables us to retrain only a small part of the architecture (here, only the second half), which implies more efficiency. Moreover, pretraining on ImageNet, which contains a wide variety of images, helps the generalize better to CIFAR-10, with fewer data points.\n",
        "\n",
        "<font color='blue'> Cons: There can be a mismatch in feature distribution between ImageNet and CIFAR-10, which might affect the effectiveness of the transferred features. Moreover, fine-tuning should be done carefully and a pre-trained mdoel is required.\n",
        "\n",
        "\n",
        "<font color='blue'> **Method 3**\n",
        "\n",
        "<font color='blue'> Pros: Data augmentation introduces variability that helps the model generalize better to unseen data by simulating different viewing conditions. It also effectively increases the size of the training dataset, and hence the model takes more time to overfit to the training data.\n",
        "\n",
        "<font color='blue'> Cons: Training on augmented data significantly increase the computational cost and time required for training, as it increases the size of the dataset. Moreover, as we have confirmed with our tests, choosing inappropriate data augmentation techniques can introduce misleading information or noise, potentially harming the model's performance."
      ],
      "metadata": {
        "id": "1CCCocVjOrlo"
      }
    },
    {
      "cell_type": "code",
      "source": [
        "# Plot summarizing train and test accuracies obtained\n",
        "\n",
        "methods = ['ResNet-18\\nFrom Scratch', 'ResNet-18\\nTransfer Learning', 'ResNet-18\\nFrom Scratch w/ Augmentation']\n",
        "train_accuracies = [100, 90, 95]\n",
        "test_accuracies = [24.16, 22.68, 26.59]\n",
        "\n",
        "\n",
        "fig, ax = plt.subplots(figsize=(8, 6))\n",
        "positions = list(range(len(methods)))\n",
        "width = 0.4\n",
        "\n",
        "plt.bar([p - width/2 for p in positions], train_accuracies, width, label='Train Accuracy', color='skyblue')\n",
        "plt.bar([p + width/2 for p in positions], test_accuracies, width, label='Test Accuracy', color='orange')\n",
        "\n",
        "ax.set_xticks(positions)\n",
        "ax.set_xticklabels(methods)\n",
        "plt.ylabel('Accuracy (%)')\n",
        "plt.title('Train vs Test Accuracies for Different Methods')\n",
        "plt.legend()\n",
        "plt.show()\n"
      ],
      "metadata": {
        "colab": {
          "base_uri": "https://localhost:8080/",
          "height": 561
        },
        "id": "h4CyFqHkRaqI",
        "outputId": "2c8252ee-3f7a-420f-f20f-f2748c31a300"
      },
      "execution_count": null,
      "outputs": [
        {
          "output_type": "display_data",
          "data": {
            "text/plain": [
              "<Figure size 800x600 with 1 Axes>"
            ],
            "image/png": "[encoded data removed]"
          },
          "metadata": {}
        }
      ]
    },
    {
      "cell_type": "markdown",
      "metadata": {
        "cell_ktag": "N9isWl7XtwVN",
        "id": "sAGp7ddN_2hl"
      },
      "source": [
        "# Weak supervision"
      ]
    },
    {
      "cell_type": "markdown",
      "metadata": {
        "cell_ktag": "N9isWl7XtwVN",
        "id": "wHQRLbC3_2hl"
      },
      "source": [
        "__Bonus \\[open\\] question (up to 3 points) :__ Pick a weakly supervised method that will potentially use $\\mathcal{X}\\cup\\mathcal{X}_{\\text{train}}$ to train a representation (a subset of $\\mathcal{X}$ is also fine). Evaluate it and report the accuracies. You should be careful in the choice of your method, in order to avoid heavy computational effort."
      ]
    }
  ],
  "metadata": {
    "colab": {
      "provenance": [],
      "gpuType": "T4"
    },
    "kernelspec": {
      "display_name": "Python 3",
      "name": "python3"
    },
    "kfiletag": "N9isWl7XtwVN",
    "language_info": {
      "codemirror_mode": {
        "name": "ipython",
        "version": 3
      },
      "file_extension": ".py",
      "mimetype": "text/x-python",
      "name": "python",
      "nbconvert_exporter": "python",
      "pygments_lexer": "ipython3",
      "version": "3.10.6"
    },
    "accelerator": "GPU"
  },
  "nbformat": 4,
  "nbformat_minor": 0
}