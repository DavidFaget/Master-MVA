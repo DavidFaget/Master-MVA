{
  "cells": [
    {
      "cell_type": "markdown",
      "metadata": {
        "cell_ktag": "NJSvz5MV1QGn",
        "id": "nlCNZsWlOSfP"
      },
      "source": [
        "# Practical Session on Graph Neural Networks\n",
        "\n",
        "**by Matthieu Nastorg and Cyriaque Rousselot**"
      ]
    },
    {
      "cell_type": "markdown",
      "metadata": {
        "cell_ktag": "NJSvz5MV1QGn",
        "id": "p0RMEfCaEehI"
      },
      "source": [
        "## **PART 1 : CODING** (8/20)"
      ]
    },
    {
      "cell_type": "markdown",
      "metadata": {
        "cell_ktag": "NJSvz5MV1QGn",
        "id": "v5Lp4PasOby4"
      },
      "source": [
        "### Install Pytorch Geometric\n",
        "\n",
        "To handle graph data, we use the library Pytorch Geometric : https://pytorch-geometric.readthedocs.io/en/latest/\n",
        "\n",
        "*   If you use _Google Colab_, simply run the following cell to install Pytorch Geometric (**advised**).\n",
        "*   If you plan using your _own environment_, follow the documentation to install Pytorch Geometric : https://pytorch-geometric.readthedocs.io/en/latest/install/installation.html and skip the following cell."
      ]
    },
    {
      "cell_type": "code",
      "execution_count": 1,
      "metadata": {
        "cell_ktag": "NJSvz5MV1QGn",
        "colab": {
          "base_uri": "https://localhost:8080/"
        },
        "id": "buW3eZmrj1N2",
        "outputId": "8aa76f6e-190f-43da-8dcd-16b8ae471fe9"
      },
      "outputs": [
        {
          "output_type": "stream",
          "name": "stdout",
          "text": [
            "Looking in links: https://pytorch-geometric.com/whl/torch-2.1.0+cu121.html\n",
            "Collecting torch-scatter\n",
            "  Downloading https://data.pyg.org/whl/torch-2.1.0%2Bcu121/torch_scatter-2.1.2%2Bpt21cu121-cp310-cp310-linux_x86_64.whl (10.8 MB)\n",
            "\u001b[2K     \u001b[90m━━━━━━━━━━━━━━━━━━━━━━━━━━━━━━━━━━━━━━━━\u001b[0m \u001b[32m10.8/10.8 MB\u001b[0m \u001b[31m90.4 MB/s\u001b[0m eta \u001b[36m0:00:00\u001b[0m\n",
            "\u001b[?25hInstalling collected packages: torch-scatter\n",
            "Successfully installed torch-scatter-2.1.2+pt21cu121\n",
            "Looking in links: https://pytorch-geometric.com/whl/torch-2.1.0+cu121.html\n",
            "Collecting torch-sparse\n",
            "  Downloading https://data.pyg.org/whl/torch-2.1.0%2Bcu121/torch_sparse-0.6.18%2Bpt21cu121-cp310-cp310-linux_x86_64.whl (5.0 MB)\n",
            "\u001b[2K     \u001b[90m━━━━━━━━━━━━━━━━━━━━━━━━━━━━━━━━━━━━━━━━\u001b[0m \u001b[32m5.0/5.0 MB\u001b[0m \u001b[31m31.7 MB/s\u001b[0m eta \u001b[36m0:00:00\u001b[0m\n",
            "\u001b[?25hRequirement already satisfied: scipy in /usr/local/lib/python3.10/dist-packages (from torch-sparse) (1.11.4)\n",
            "Requirement already satisfied: numpy<1.28.0,>=1.21.6 in /usr/local/lib/python3.10/dist-packages (from scipy->torch-sparse) (1.25.2)\n",
            "Installing collected packages: torch-sparse\n",
            "Successfully installed torch-sparse-0.6.18+pt21cu121\n",
            "Looking in links: https://pytorch-geometric.com/whl/torch-2.1.0+cu121.html\n",
            "Collecting torch-cluster\n",
            "  Downloading https://data.pyg.org/whl/torch-2.1.0%2Bcu121/torch_cluster-1.6.3%2Bpt21cu121-cp310-cp310-linux_x86_64.whl (3.3 MB)\n",
            "\u001b[2K     \u001b[90m━━━━━━━━━━━━━━━━━━━━━━━━━━━━━━━━━━━━━━━━\u001b[0m \u001b[32m3.3/3.3 MB\u001b[0m \u001b[31m34.2 MB/s\u001b[0m eta \u001b[36m0:00:00\u001b[0m\n",
            "\u001b[?25hRequirement already satisfied: scipy in /usr/local/lib/python3.10/dist-packages (from torch-cluster) (1.11.4)\n",
            "Requirement already satisfied: numpy<1.28.0,>=1.21.6 in /usr/local/lib/python3.10/dist-packages (from scipy->torch-cluster) (1.25.2)\n",
            "Installing collected packages: torch-cluster\n",
            "Successfully installed torch-cluster-1.6.3+pt21cu121\n",
            "Looking in links: https://pytorch-geometric.com/whl/torch-2.1.0+cu121.html\n",
            "Collecting torch-spline-conv\n",
            "  Downloading https://data.pyg.org/whl/torch-2.1.0%2Bcu121/torch_spline_conv-1.2.2%2Bpt21cu121-cp310-cp310-linux_x86_64.whl (932 kB)\n",
            "\u001b[2K     \u001b[90m━━━━━━━━━━━━━━━━━━━━━━━━━━━━━━━━━━━━━━━━\u001b[0m \u001b[32m932.1/932.1 kB\u001b[0m \u001b[31m18.8 MB/s\u001b[0m eta \u001b[36m0:00:00\u001b[0m\n",
            "\u001b[?25hInstalling collected packages: torch-spline-conv\n",
            "Successfully installed torch-spline-conv-1.2.2+pt21cu121\n",
            "Collecting torch-geometric\n",
            "  Downloading torch_geometric-2.5.0-py3-none-any.whl (1.1 MB)\n",
            "\u001b[2K     \u001b[90m━━━━━━━━━━━━━━━━━━━━━━━━━━━━━━━━━━━━━━━━\u001b[0m \u001b[32m1.1/1.1 MB\u001b[0m \u001b[31m12.2 MB/s\u001b[0m eta \u001b[36m0:00:00\u001b[0m\n",
            "\u001b[?25hRequirement already satisfied: tqdm in /usr/local/lib/python3.10/dist-packages (from torch-geometric) (4.66.2)\n",
            "Requirement already satisfied: numpy in /usr/local/lib/python3.10/dist-packages (from torch-geometric) (1.25.2)\n",
            "Requirement already satisfied: scipy in /usr/local/lib/python3.10/dist-packages (from torch-geometric) (1.11.4)\n",
            "Requirement already satisfied: fsspec in /usr/local/lib/python3.10/dist-packages (from torch-geometric) (2023.6.0)\n",
            "Requirement already satisfied: jinja2 in /usr/local/lib/python3.10/dist-packages (from torch-geometric) (3.1.3)\n",
            "Requirement already satisfied: aiohttp in /usr/local/lib/python3.10/dist-packages (from torch-geometric) (3.9.3)\n",
            "Requirement already satisfied: requests in /usr/local/lib/python3.10/dist-packages (from torch-geometric) (2.31.0)\n",
            "Requirement already satisfied: pyparsing in /usr/local/lib/python3.10/dist-packages (from torch-geometric) (3.1.1)\n",
            "Requirement already satisfied: scikit-learn in /usr/local/lib/python3.10/dist-packages (from torch-geometric) (1.2.2)\n",
            "Requirement already satisfied: psutil>=5.8.0 in /usr/local/lib/python3.10/dist-packages (from torch-geometric) (5.9.5)\n",
            "Requirement already satisfied: aiosignal>=1.1.2 in /usr/local/lib/python3.10/dist-packages (from aiohttp->torch-geometric) (1.3.1)\n",
            "Requirement already satisfied: attrs>=17.3.0 in /usr/local/lib/python3.10/dist-packages (from aiohttp->torch-geometric) (23.2.0)\n",
            "Requirement already satisfied: frozenlist>=1.1.1 in /usr/local/lib/python3.10/dist-packages (from aiohttp->torch-geometric) (1.4.1)\n",
            "Requirement already satisfied: multidict<7.0,>=4.5 in /usr/local/lib/python3.10/dist-packages (from aiohttp->torch-geometric) (6.0.5)\n",
            "Requirement already satisfied: yarl<2.0,>=1.0 in /usr/local/lib/python3.10/dist-packages (from aiohttp->torch-geometric) (1.9.4)\n",
            "Requirement already satisfied: async-timeout<5.0,>=4.0 in /usr/local/lib/python3.10/dist-packages (from aiohttp->torch-geometric) (4.0.3)\n",
            "Requirement already satisfied: MarkupSafe>=2.0 in /usr/local/lib/python3.10/dist-packages (from jinja2->torch-geometric) (2.1.5)\n",
            "Requirement already satisfied: charset-normalizer<4,>=2 in /usr/local/lib/python3.10/dist-packages (from requests->torch-geometric) (3.3.2)\n",
            "Requirement already satisfied: idna<4,>=2.5 in /usr/local/lib/python3.10/dist-packages (from requests->torch-geometric) (3.6)\n",
            "Requirement already satisfied: urllib3<3,>=1.21.1 in /usr/local/lib/python3.10/dist-packages (from requests->torch-geometric) (2.0.7)\n",
            "Requirement already satisfied: certifi>=2017.4.17 in /usr/local/lib/python3.10/dist-packages (from requests->torch-geometric) (2024.2.2)\n",
            "Requirement already satisfied: joblib>=1.1.1 in /usr/local/lib/python3.10/dist-packages (from scikit-learn->torch-geometric) (1.3.2)\n",
            "Requirement already satisfied: threadpoolctl>=2.0.0 in /usr/local/lib/python3.10/dist-packages (from scikit-learn->torch-geometric) (3.3.0)\n",
            "Installing collected packages: torch-geometric\n",
            "Successfully installed torch-geometric-2.5.0\n"
          ]
        }
      ],
      "source": [
        "########## INSTALL TORCH GEOMETRIC ##################\n",
        "# https://pytorch-geometric.readthedocs.io/en/latest/\n",
        "#####################################################\n",
        "import torch\n",
        "\n",
        "\n",
        "def format_pytorch_version(version):\n",
        "    return version.split(\"+\")[0]\n",
        "\n",
        "\n",
        "TORCH_version = torch.__version__\n",
        "TORCH = format_pytorch_version(TORCH_version)\n",
        "\n",
        "\n",
        "def format_cuda_version(version):\n",
        "    return \"cu\" + version.replace(\".\", \"\")\n",
        "\n",
        "\n",
        "CUDA_version = torch.version.cuda\n",
        "CUDA = format_cuda_version(CUDA_version)\n",
        "\n",
        "!pip install torch-scatter     -f https://pytorch-geometric.com/whl/torch-{TORCH}+{CUDA}.html\n",
        "!pip install torch-sparse      -f https://pytorch-geometric.com/whl/torch-{TORCH}+{CUDA}.html\n",
        "!pip install torch-cluster     -f https://pytorch-geometric.com/whl/torch-{TORCH}+{CUDA}.html\n",
        "!pip install torch-spline-conv -f https://pytorch-geometric.com/whl/torch-{TORCH}+{CUDA}.html\n",
        "!pip install torch-geometric"
      ]
    },
    {
      "cell_type": "markdown",
      "metadata": {
        "cell_ktag": "NJSvz5MV1QGn",
        "id": "04JPKXjDclTj"
      },
      "source": [
        "### Import required packages\n",
        "\n",
        "Run the following cell to import all required packages. This cell **must not** be modified.\n",
        "\n",
        "To significantly accelerate your training, it is advised to use GPU. Using Google Colab, you need to activate it :\n",
        "\n",
        "*   Edit --> Notebook Setting --> Hardware accelerator --> GPU"
      ]
    },
    {
      "cell_type": "code",
      "execution_count": 2,
      "metadata": {
        "cell_ktag": "NJSvz5MV1QGn",
        "id": "qXGDmBMYgA_x"
      },
      "outputs": [],
      "source": [
        "#####################################################\n",
        "################## PACKAGES #########################\n",
        "#####################################################\n",
        "import numpy as np\n",
        "import matplotlib.pyplot as plt\n",
        "\n",
        "import torch.nn as nn\n",
        "import torch_geometric.nn as graphnn\n",
        "from sklearn.metrics import f1_score\n",
        "from torch_geometric.datasets import PPI\n",
        "from torch_geometric.loader import DataLoader"
      ]
    },
    {
      "cell_type": "markdown",
      "metadata": {
        "cell_ktag": "NJSvz5MV1QGn",
        "id": "3UvCNG8FgdS-"
      },
      "source": [
        "### Dataset\n",
        "\n",
        "We use the Protein-Protein Interaction (PPI) network dataset which includes:\n",
        "- 20 graphs for training\n",
        "- 2 graphs for validation\n",
        "- 2 graphs for testing\n",
        "\n",
        "One graph of the PPI dataset has on average 2372 nodes. Each node:\n",
        "- 50 features : positional gene sets / motif gene / immunological signatures ...\n",
        "- 121 (binary) labels : gene ontology sets (way to classify gene products like proteins).\n",
        "\n",
        "**This problem aims to predict, for a given PPI graph, the correct node's labels**.\n",
        "\n",
        "**It is a node (multi-level) classification task** (trained using supervised learning).\n",
        "\n",
        "For your curiosity, more details information on the dataset and some applications:\n",
        "- https://cs.stanford.edu/~jure/pubs/pathways-psb18.pdf\n",
        "- https://arxiv.org/abs/1707.04638\n",
        "\n",
        "To understand how a graph data is implemented in Pytorch Geometric, refer to : https://pytorch-geometric.readthedocs.io/en/latest/get_started/introduction.html\n"
      ]
    },
    {
      "cell_type": "code",
      "execution_count": 3,
      "metadata": {
        "cell_ktag": "NJSvz5MV1QGn",
        "colab": {
          "base_uri": "https://localhost:8080/"
        },
        "id": "IwdNhvzVNkZB",
        "outputId": "c09193a0-e055-4b9e-f254-8bc765112c38"
      },
      "outputs": [
        {
          "output_type": "stream",
          "name": "stderr",
          "text": [
            "Downloading https://data.dgl.ai/dataset/ppi.zip\n",
            "Extracting ./ppi.zip\n",
            "Processing...\n"
          ]
        },
        {
          "output_type": "stream",
          "name": "stdout",
          "text": [
            "Number of samples in the train dataset:  20\n",
            "Number of samples in the val dataset:  2\n",
            "Number of samples in the test dataset:  2\n",
            "Output of one sample from the train dataset:  Data(x=[1767, 50], edge_index=[2, 32318], y=[1767, 121])\n",
            "Edge_index :\n",
            "tensor([[   0,    0,    0,  ..., 1744, 1745, 1749],\n",
            "        [ 372, 1101,  766,  ..., 1745, 1744, 1739]])\n",
            "Number of features per node:  50\n",
            "Number of classes per node:  121\n"
          ]
        },
        {
          "output_type": "stream",
          "name": "stderr",
          "text": [
            "Done!\n"
          ]
        }
      ],
      "source": [
        "### LOAD DATASETS\n",
        "\n",
        "BATCH_SIZE = 2\n",
        "\n",
        "# Train Dataset\n",
        "train_dataset = PPI(root=\"\", split=\"train\")\n",
        "train_dataloader = DataLoader(train_dataset, batch_size=BATCH_SIZE)\n",
        "# Val Dataset\n",
        "val_dataset = PPI(root=\"\", split=\"val\")\n",
        "val_dataloader = DataLoader(val_dataset, batch_size=BATCH_SIZE)\n",
        "# Test Dataset\n",
        "test_dataset = PPI(root=\"\", split=\"test\")\n",
        "test_dataloader = DataLoader(test_dataset, batch_size=BATCH_SIZE)\n",
        "\n",
        "# Number of features and classes\n",
        "n_features, n_classes = train_dataset[0].x.shape[1], train_dataset[0].y.shape[1]\n",
        "\n",
        "print(\"Number of samples in the train dataset: \", len(train_dataset))\n",
        "print(\"Number of samples in the val dataset: \", len(test_dataset))\n",
        "print(\"Number of samples in the test dataset: \", len(test_dataset))\n",
        "print(\"Output of one sample from the train dataset: \", train_dataset[0])\n",
        "print(\"Edge_index :\")\n",
        "print(train_dataset[0].edge_index)\n",
        "print(\"Number of features per node: \", n_features)\n",
        "print(\"Number of classes per node: \", n_classes)"
      ]
    },
    {
      "cell_type": "markdown",
      "metadata": {
        "cell_ktag": "NJSvz5MV1QGn",
        "id": "hiCcn9qeO6Nm"
      },
      "source": [
        "### Define a basic Model"
      ]
    },
    {
      "cell_type": "markdown",
      "metadata": {
        "cell_ktag": "NJSvz5MV1QGn",
        "id": "8RjzEiJ-eVot"
      },
      "source": [
        "Here we define a very simple Graph Neural Network model which will be used as our baseline. This model consists of three graph convolutional layers (from https://arxiv.org/pdf/1609.02907.pdf). The first two layers computes 256 features, followed by an ELU activation function. The last layer is used for (multi-level) classification task, computing 121 features."
      ]
    },
    {
      "cell_type": "code",
      "execution_count": 4,
      "metadata": {
        "cell_ktag": "NJSvz5MV1QGn",
        "id": "2Km-GN1aMpd_"
      },
      "outputs": [],
      "source": [
        "#####################################################\n",
        "################## MODEL ############################\n",
        "#####################################################\n",
        "class BasicGraphModel(nn.Module):\n",
        "    def __init__(self, input_size, hidden_size, output_size):\n",
        "        super().__init__()\n",
        "\n",
        "        self.graphconv1 = graphnn.GCNConv(input_size, hidden_size)\n",
        "        self.graphconv2 = graphnn.GCNConv(hidden_size, hidden_size)\n",
        "        self.graphconv3 = graphnn.GCNConv(hidden_size, output_size)\n",
        "\n",
        "        self.elu = nn.ELU()\n",
        "\n",
        "    def forward(self, x, edge_index):\n",
        "        x = self.graphconv1(x, edge_index)\n",
        "        x = self.elu(x)\n",
        "        x = self.graphconv2(x, edge_index)\n",
        "        x = self.elu(x)\n",
        "        x = self.graphconv3(x, edge_index)\n",
        "\n",
        "        return x"
      ]
    },
    {
      "cell_type": "markdown",
      "metadata": {
        "cell_ktag": "NJSvz5MV1QGn",
        "id": "6ekk0TrOktOB"
      },
      "source": [
        "Next we construct the function to train the model."
      ]
    },
    {
      "cell_type": "code",
      "execution_count": 5,
      "metadata": {
        "cell_ktag": "NJSvz5MV1QGn",
        "id": "m4lneoadMxqy"
      },
      "outputs": [],
      "source": [
        "#####################################################\n",
        "############## TRAIN FUNCTION #######################\n",
        "#####################################################\n",
        "def train(\n",
        "    model, loss_fcn, device, optimizer, max_epochs, train_dataloader, val_dataloader\n",
        "):\n",
        "\n",
        "    epoch_list = []\n",
        "    scores_list = []\n",
        "\n",
        "    # loop over epochs\n",
        "    for epoch in range(max_epochs):\n",
        "        model.train()\n",
        "        losses = []\n",
        "        # loop over batches\n",
        "        for i, train_batch in enumerate(train_dataloader):\n",
        "            optimizer.zero_grad()\n",
        "            train_batch_device = train_batch.to(device)\n",
        "            # logits is the output of the model\n",
        "            logits = model(train_batch_device.x, train_batch_device.edge_index)\n",
        "            # compute the loss\n",
        "            loss = loss_fcn(logits, train_batch_device.y)\n",
        "            # optimizer step\n",
        "            loss.backward()\n",
        "            optimizer.step()\n",
        "            losses.append(loss.item())\n",
        "        loss_data = np.array(losses).mean()\n",
        "        print(\"Epoch {:05d} | Loss: {:.4f}\".format(epoch + 1, loss_data))\n",
        "\n",
        "        if epoch % 5 == 0:\n",
        "            # evaluate the model on the validation set\n",
        "            # computes the f1-score (see next function)\n",
        "            score = evaluate(model, loss_fcn, device, val_dataloader)\n",
        "            print(\"F1-Score: {:.4f}\".format(score))\n",
        "            scores_list.append(score)\n",
        "            epoch_list.append(epoch)\n",
        "\n",
        "    return epoch_list, scores_list"
      ]
    },
    {
      "cell_type": "markdown",
      "metadata": {
        "cell_ktag": "NJSvz5MV1QGn",
        "id": "PTd9OqaelLni"
      },
      "source": [
        "Next function is designed to evaluate the performance of the model, computing the F1-Score"
      ]
    },
    {
      "cell_type": "code",
      "execution_count": 6,
      "metadata": {
        "cell_ktag": "NJSvz5MV1QGn",
        "id": "PajZzg5zM7V1"
      },
      "outputs": [],
      "source": [
        "#####################################################\n",
        "############### TEST FUNCTION #######################\n",
        "#####################################################\n",
        "def evaluate(model, loss_fcn, device, dataloader):\n",
        "    score_list_batch = []\n",
        "\n",
        "    model.eval()\n",
        "    for i, batch in enumerate(dataloader):\n",
        "        batch = batch.to(device)\n",
        "        output = model(batch.x, batch.edge_index)\n",
        "        loss_test = loss_fcn(output, batch.y)\n",
        "        predict = np.where(output.detach().cpu().numpy() >= 0, 1, 0)\n",
        "        score = f1_score(batch.y.cpu().numpy(), predict, average=\"micro\")\n",
        "        score_list_batch.append(score)\n",
        "\n",
        "    return np.array(score_list_batch).mean()"
      ]
    },
    {
      "cell_type": "markdown",
      "metadata": {
        "cell_ktag": "NJSvz5MV1QGn",
        "id": "EilgopwMlpsu"
      },
      "source": [
        "Let's train this model !"
      ]
    },
    {
      "cell_type": "code",
      "execution_count": 7,
      "metadata": {
        "cell_ktag": "NJSvz5MV1QGn",
        "colab": {
          "base_uri": "https://localhost:8080/"
        },
        "id": "Xkqo7e0gNACE",
        "outputId": "afac637c-2652-468c-d5c5-a7e8a28a6e32"
      },
      "outputs": [
        {
          "output_type": "stream",
          "name": "stdout",
          "text": [
            "\n",
            "Device:  cuda\n",
            "Epoch 00001 | Loss: 0.6386\n",
            "F1-Score: 0.4456\n",
            "Epoch 00002 | Loss: 0.5828\n",
            "Epoch 00003 | Loss: 0.5626\n",
            "Epoch 00004 | Loss: 0.5563\n",
            "Epoch 00005 | Loss: 0.5515\n",
            "Epoch 00006 | Loss: 0.5465\n",
            "F1-Score: 0.4911\n",
            "Epoch 00007 | Loss: 0.5418\n",
            "Epoch 00008 | Loss: 0.5375\n",
            "Epoch 00009 | Loss: 0.5343\n",
            "Epoch 00010 | Loss: 0.5317\n",
            "Epoch 00011 | Loss: 0.5288\n",
            "F1-Score: 0.5307\n",
            "Epoch 00012 | Loss: 0.5261\n",
            "Epoch 00013 | Loss: 0.5236\n",
            "Epoch 00014 | Loss: 0.5212\n",
            "Epoch 00015 | Loss: 0.5190\n",
            "Epoch 00016 | Loss: 0.5169\n",
            "F1-Score: 0.5183\n",
            "Epoch 00017 | Loss: 0.5147\n",
            "Epoch 00018 | Loss: 0.5126\n",
            "Epoch 00019 | Loss: 0.5104\n",
            "Epoch 00020 | Loss: 0.5079\n",
            "Epoch 00021 | Loss: 0.5057\n",
            "F1-Score: 0.5284\n",
            "Epoch 00022 | Loss: 0.5038\n",
            "Epoch 00023 | Loss: 0.5018\n",
            "Epoch 00024 | Loss: 0.4998\n",
            "Epoch 00025 | Loss: 0.4980\n",
            "Epoch 00026 | Loss: 0.4963\n",
            "F1-Score: 0.5404\n",
            "Epoch 00027 | Loss: 0.4944\n",
            "Epoch 00028 | Loss: 0.4924\n",
            "Epoch 00029 | Loss: 0.4907\n",
            "Epoch 00030 | Loss: 0.4889\n",
            "Epoch 00031 | Loss: 0.4872\n",
            "F1-Score: 0.5476\n",
            "Epoch 00032 | Loss: 0.4853\n",
            "Epoch 00033 | Loss: 0.4835\n",
            "Epoch 00034 | Loss: 0.4820\n",
            "Epoch 00035 | Loss: 0.4806\n",
            "Epoch 00036 | Loss: 0.4793\n",
            "F1-Score: 0.5562\n",
            "Epoch 00037 | Loss: 0.4777\n",
            "Epoch 00038 | Loss: 0.4763\n",
            "Epoch 00039 | Loss: 0.4751\n",
            "Epoch 00040 | Loss: 0.4740\n",
            "Epoch 00041 | Loss: 0.4729\n",
            "F1-Score: 0.5718\n",
            "Epoch 00042 | Loss: 0.4717\n",
            "Epoch 00043 | Loss: 0.4713\n",
            "Epoch 00044 | Loss: 0.4717\n",
            "Epoch 00045 | Loss: 0.4691\n",
            "Epoch 00046 | Loss: 0.4672\n",
            "F1-Score: 0.5653\n",
            "Epoch 00047 | Loss: 0.4652\n",
            "Epoch 00048 | Loss: 0.4639\n",
            "Epoch 00049 | Loss: 0.4621\n",
            "Epoch 00050 | Loss: 0.4614\n",
            "Epoch 00051 | Loss: 0.4591\n",
            "F1-Score: 0.5816\n",
            "Epoch 00052 | Loss: 0.4582\n",
            "Epoch 00053 | Loss: 0.4570\n",
            "Epoch 00054 | Loss: 0.4566\n",
            "Epoch 00055 | Loss: 0.4551\n",
            "Epoch 00056 | Loss: 0.4551\n",
            "F1-Score: 0.5919\n",
            "Epoch 00057 | Loss: 0.4551\n",
            "Epoch 00058 | Loss: 0.4557\n",
            "Epoch 00059 | Loss: 0.4540\n",
            "Epoch 00060 | Loss: 0.4544\n",
            "Epoch 00061 | Loss: 0.4533\n",
            "F1-Score: 0.5845\n",
            "Epoch 00062 | Loss: 0.4524\n",
            "Epoch 00063 | Loss: 0.4518\n",
            "Epoch 00064 | Loss: 0.4508\n",
            "Epoch 00065 | Loss: 0.4493\n",
            "Epoch 00066 | Loss: 0.4485\n",
            "F1-Score: 0.5848\n",
            "Epoch 00067 | Loss: 0.4469\n",
            "Epoch 00068 | Loss: 0.4463\n",
            "Epoch 00069 | Loss: 0.4454\n",
            "Epoch 00070 | Loss: 0.4442\n",
            "Epoch 00071 | Loss: 0.4434\n",
            "F1-Score: 0.6120\n",
            "Epoch 00072 | Loss: 0.4428\n",
            "Epoch 00073 | Loss: 0.4432\n",
            "Epoch 00074 | Loss: 0.4410\n",
            "Epoch 00075 | Loss: 0.4402\n",
            "Epoch 00076 | Loss: 0.4394\n",
            "F1-Score: 0.6112\n",
            "Epoch 00077 | Loss: 0.4392\n",
            "Epoch 00078 | Loss: 0.4384\n",
            "Epoch 00079 | Loss: 0.4402\n",
            "Epoch 00080 | Loss: 0.4382\n",
            "Epoch 00081 | Loss: 0.4379\n",
            "F1-Score: 0.6153\n",
            "Epoch 00082 | Loss: 0.4400\n",
            "Epoch 00083 | Loss: 0.4395\n",
            "Epoch 00084 | Loss: 0.4366\n",
            "Epoch 00085 | Loss: 0.4361\n",
            "Epoch 00086 | Loss: 0.4344\n",
            "F1-Score: 0.6036\n",
            "Epoch 00087 | Loss: 0.4341\n",
            "Epoch 00088 | Loss: 0.4350\n",
            "Epoch 00089 | Loss: 0.4335\n",
            "Epoch 00090 | Loss: 0.4343\n",
            "Epoch 00091 | Loss: 0.4362\n",
            "F1-Score: 0.5659\n",
            "Epoch 00092 | Loss: 0.4374\n",
            "Epoch 00093 | Loss: 0.4387\n",
            "Epoch 00094 | Loss: 0.4417\n",
            "Epoch 00095 | Loss: 0.4401\n",
            "Epoch 00096 | Loss: 0.4395\n",
            "F1-Score: 0.5844\n",
            "Epoch 00097 | Loss: 0.4358\n",
            "Epoch 00098 | Loss: 0.4351\n",
            "Epoch 00099 | Loss: 0.4350\n",
            "Epoch 00100 | Loss: 0.4363\n",
            "Epoch 00101 | Loss: 0.4354\n",
            "F1-Score: 0.6331\n",
            "Epoch 00102 | Loss: 0.4344\n",
            "Epoch 00103 | Loss: 0.4333\n",
            "Epoch 00104 | Loss: 0.4320\n",
            "Epoch 00105 | Loss: 0.4319\n",
            "Epoch 00106 | Loss: 0.4299\n",
            "F1-Score: 0.5842\n",
            "Epoch 00107 | Loss: 0.4282\n",
            "Epoch 00108 | Loss: 0.4280\n",
            "Epoch 00109 | Loss: 0.4285\n",
            "Epoch 00110 | Loss: 0.4290\n",
            "Epoch 00111 | Loss: 0.4285\n",
            "F1-Score: 0.6248\n",
            "Epoch 00112 | Loss: 0.4270\n",
            "Epoch 00113 | Loss: 0.4279\n",
            "Epoch 00114 | Loss: 0.4259\n",
            "Epoch 00115 | Loss: 0.4251\n",
            "Epoch 00116 | Loss: 0.4235\n",
            "F1-Score: 0.6208\n",
            "Epoch 00117 | Loss: 0.4220\n",
            "Epoch 00118 | Loss: 0.4213\n",
            "Epoch 00119 | Loss: 0.4205\n",
            "Epoch 00120 | Loss: 0.4203\n",
            "Epoch 00121 | Loss: 0.4198\n",
            "F1-Score: 0.6195\n",
            "Epoch 00122 | Loss: 0.4187\n",
            "Epoch 00123 | Loss: 0.4178\n",
            "Epoch 00124 | Loss: 0.4176\n",
            "Epoch 00125 | Loss: 0.4167\n",
            "Epoch 00126 | Loss: 0.4164\n",
            "F1-Score: 0.6399\n",
            "Epoch 00127 | Loss: 0.4174\n",
            "Epoch 00128 | Loss: 0.4217\n",
            "Epoch 00129 | Loss: 0.4245\n",
            "Epoch 00130 | Loss: 0.4270\n",
            "Epoch 00131 | Loss: 0.4265\n",
            "F1-Score: 0.5911\n",
            "Epoch 00132 | Loss: 0.4280\n",
            "Epoch 00133 | Loss: 0.4299\n",
            "Epoch 00134 | Loss: 0.4286\n",
            "Epoch 00135 | Loss: 0.4251\n",
            "Epoch 00136 | Loss: 0.4207\n",
            "F1-Score: 0.6359\n",
            "Epoch 00137 | Loss: 0.4189\n",
            "Epoch 00138 | Loss: 0.4202\n",
            "Epoch 00139 | Loss: 0.4194\n",
            "Epoch 00140 | Loss: 0.4183\n",
            "Epoch 00141 | Loss: 0.4189\n",
            "F1-Score: 0.6208\n",
            "Epoch 00142 | Loss: 0.4173\n",
            "Epoch 00143 | Loss: 0.4164\n",
            "Epoch 00144 | Loss: 0.4153\n",
            "Epoch 00145 | Loss: 0.4134\n",
            "Epoch 00146 | Loss: 0.4127\n",
            "F1-Score: 0.6226\n",
            "Epoch 00147 | Loss: 0.4118\n",
            "Epoch 00148 | Loss: 0.4124\n",
            "Epoch 00149 | Loss: 0.4115\n",
            "Epoch 00150 | Loss: 0.4128\n",
            "Epoch 00151 | Loss: 0.4146\n",
            "F1-Score: 0.6433\n",
            "Epoch 00152 | Loss: 0.4142\n",
            "Epoch 00153 | Loss: 0.4151\n",
            "Epoch 00154 | Loss: 0.4143\n",
            "Epoch 00155 | Loss: 0.4181\n",
            "Epoch 00156 | Loss: 0.4186\n",
            "F1-Score: 0.5931\n",
            "Epoch 00157 | Loss: 0.4163\n",
            "Epoch 00158 | Loss: 0.4140\n",
            "Epoch 00159 | Loss: 0.4141\n",
            "Epoch 00160 | Loss: 0.4137\n",
            "Epoch 00161 | Loss: 0.4119\n",
            "F1-Score: 0.6297\n",
            "Epoch 00162 | Loss: 0.4125\n",
            "Epoch 00163 | Loss: 0.4117\n",
            "Epoch 00164 | Loss: 0.4099\n",
            "Epoch 00165 | Loss: 0.4100\n",
            "Epoch 00166 | Loss: 0.4075\n",
            "F1-Score: 0.6336\n",
            "Epoch 00167 | Loss: 0.4071\n",
            "Epoch 00168 | Loss: 0.4057\n",
            "Epoch 00169 | Loss: 0.4040\n",
            "Epoch 00170 | Loss: 0.4027\n",
            "Epoch 00171 | Loss: 0.4023\n",
            "F1-Score: 0.6407\n",
            "Epoch 00172 | Loss: 0.4018\n",
            "Epoch 00173 | Loss: 0.4015\n",
            "Epoch 00174 | Loss: 0.4014\n",
            "Epoch 00175 | Loss: 0.4018\n",
            "Epoch 00176 | Loss: 0.4022\n",
            "F1-Score: 0.6041\n",
            "Epoch 00177 | Loss: 0.4024\n",
            "Epoch 00178 | Loss: 0.4036\n",
            "Epoch 00179 | Loss: 0.4066\n",
            "Epoch 00180 | Loss: 0.4078\n",
            "Epoch 00181 | Loss: 0.4104\n",
            "F1-Score: 0.6563\n",
            "Epoch 00182 | Loss: 0.4127\n",
            "Epoch 00183 | Loss: 0.4130\n",
            "Epoch 00184 | Loss: 0.4184\n",
            "Epoch 00185 | Loss: 0.4170\n",
            "Epoch 00186 | Loss: 0.4127\n",
            "F1-Score: 0.6027\n",
            "Epoch 00187 | Loss: 0.4089\n",
            "Epoch 00188 | Loss: 0.4080\n",
            "Epoch 00189 | Loss: 0.4079\n",
            "Epoch 00190 | Loss: 0.4067\n",
            "Epoch 00191 | Loss: 0.4055\n",
            "F1-Score: 0.6396\n",
            "Epoch 00192 | Loss: 0.4056\n",
            "Epoch 00193 | Loss: 0.4062\n",
            "Epoch 00194 | Loss: 0.4045\n",
            "Epoch 00195 | Loss: 0.4039\n",
            "Epoch 00196 | Loss: 0.4031\n",
            "F1-Score: 0.6533\n",
            "Epoch 00197 | Loss: 0.4023\n",
            "Epoch 00198 | Loss: 0.4029\n",
            "Epoch 00199 | Loss: 0.4033\n",
            "Epoch 00200 | Loss: 0.4022\n"
          ]
        }
      ],
      "source": [
        "### DEVICE GPU OR CPU : will select GPU if available\n",
        "device = torch.device(\"cuda\" if torch.cuda.is_available() else \"cpu\")\n",
        "print(\"\\nDevice: \", device)\n",
        "\n",
        "### Max number of epochs\n",
        "max_epochs = 200\n",
        "\n",
        "### DEFINE THE MODEL\n",
        "basic_model = BasicGraphModel(\n",
        "    input_size=n_features, hidden_size=256, output_size=n_classes\n",
        ").to(device)\n",
        "\n",
        "### DEFINE LOSS FUNCTION\n",
        "loss_fcn = nn.BCEWithLogitsLoss()\n",
        "\n",
        "### DEFINE OPTIMIZER\n",
        "optimizer = torch.optim.Adam(basic_model.parameters(), lr=0.005)\n",
        "\n",
        "### TRAIN THE MODEL\n",
        "epoch_list, basic_model_scores = train(\n",
        "    basic_model,\n",
        "    loss_fcn,\n",
        "    device,\n",
        "    optimizer,\n",
        "    max_epochs,\n",
        "    train_dataloader,\n",
        "    val_dataloader,\n",
        ")"
      ]
    },
    {
      "cell_type": "markdown",
      "metadata": {
        "cell_ktag": "NJSvz5MV1QGn",
        "id": "2sGc5g7Xmap2"
      },
      "source": [
        "Let's evaluate the performance of this basic model"
      ]
    },
    {
      "cell_type": "code",
      "execution_count": 8,
      "metadata": {
        "cell_ktag": "NJSvz5MV1QGn",
        "colab": {
          "base_uri": "https://localhost:8080/",
          "height": 485
        },
        "id": "ztfbbg2TNP7F",
        "outputId": "7821e7f6-b8cc-4ea0-e9cb-1e600dbcb18d"
      },
      "outputs": [
        {
          "output_type": "stream",
          "name": "stdout",
          "text": [
            "Basic Model : F1-Score on the test set: 0.6572\n"
          ]
        },
        {
          "output_type": "display_data",
          "data": {
            "text/plain": [
              "<Figure size 1000x500 with 1 Axes>"
            ],
            "image/png": "[encoded data removed]"
          },
          "metadata": {}
        }
      ],
      "source": [
        "### F1-SCORE ON TEST DATASET\n",
        "score_test = evaluate(basic_model, loss_fcn, device, test_dataloader)\n",
        "print(\"Basic Model : F1-Score on the test set: {:.4f}\".format(score_test))\n",
        "\n",
        "\n",
        "### PLOT EVOLUTION OF F1-SCORE W.R.T EPOCHS\n",
        "def plot_f1_score(epoch_list, scores):\n",
        "    plt.figure(figsize=[10, 5])\n",
        "    plt.plot(epoch_list, scores)\n",
        "    plt.title(\"Evolution of F1S-Score w.r.t epochs\")\n",
        "    plt.ylim([0.0, 1.0])\n",
        "    plt.show()\n",
        "\n",
        "\n",
        "plot_f1_score(epoch_list, basic_model_scores)"
      ]
    },
    {
      "cell_type": "markdown",
      "metadata": {
        "cell_ktag": "NJSvz5MV1QGn",
        "id": "TRVsy5vLnWm_"
      },
      "source": [
        "### Define a better model\n",
        "\n",
        "Now, it's your turn to improve this basic model ! To do so, complete whenever ###### YOUR ANSWER ######## and run the two following cells.\n",
        "\n",
        "**HINT :** https://arxiv.org/pdf/1710.10903.pdf"
      ]
    },
    {
      "cell_type": "code",
      "source": [
        "import torch.nn.functional as F\n",
        "\n",
        "class StudentModel(nn.Module):\n",
        "    def __init__(\n",
        "        self, input_size, hidden_size, output_size, num_heads=5, dropout=0, n_layers=4\n",
        "    ):\n",
        "        super().__init__()\n",
        "        self.layers = nn.ModuleList()\n",
        "        self.nonlinearity = F.leaky_relu\n",
        "\n",
        "        # First GATConv layer\n",
        "        self.layers.append(\n",
        "            graphnn.GATConv(input_size, hidden_size, heads=num_heads, dropout=dropout)\n",
        "        )\n",
        "\n",
        "        # Other GATConv layers\n",
        "        for _ in range(1, n_layers - 1):\n",
        "            self.layers.append(\n",
        "                graphnn.GATConv(\n",
        "                    hidden_size * num_heads,\n",
        "                    hidden_size,\n",
        "                    heads=num_heads,\n",
        "                    dropout=dropout,\n",
        "                )\n",
        "            )\n",
        "\n",
        "        # Final linear layer\n",
        "        self.layers.append(nn.Linear(hidden_size * num_heads, output_size))\n",
        "\n",
        "    def forward(self, x, edge_index):\n",
        "        for _, layer in enumerate(self.layers[:-1]):\n",
        "            x = self.nonlinearity(layer(x, edge_index))\n",
        "        x = self.layers[-1](x)\n",
        "        return x"
      ],
      "metadata": {
        "id": "EZBNNZ3UvaJS"
      },
      "execution_count": 9,
      "outputs": []
    },
    {
      "cell_type": "markdown",
      "metadata": {
        "cell_ktag": "NJSvz5MV1QGn",
        "id": "4yGdQ2uxpCAX"
      },
      "source": [
        "Let's train your model !"
      ]
    },
    {
      "cell_type": "code",
      "source": [
        "## Student model\n",
        "student_model = StudentModel(input_size=n_features, hidden_size=350, output_size=n_classes).to(device)\n",
        "\n",
        "### DEFINE LOSS FUNCTION AND OPTIMIZER\n",
        "optimizer = torch.optim.Adam(student_model.parameters(), lr=0.005)\n",
        "\n",
        "### TRAIN\n",
        "epoch_list, student_model_scores = train(student_model, loss_fcn, device, optimizer, max_epochs, train_dataloader, val_dataloader)"
      ],
      "metadata": {
        "colab": {
          "base_uri": "https://localhost:8080/"
        },
        "id": "2q2fFm4Ens_M",
        "outputId": "9bd4cd24-a0f2-4014-94f8-59738ce2d378"
      },
      "execution_count": 10,
      "outputs": [
        {
          "output_type": "stream",
          "name": "stdout",
          "text": [
            "Epoch 00001 | Loss: 0.6718\n",
            "F1-Score: 0.4242\n",
            "Epoch 00002 | Loss: 0.5634\n",
            "Epoch 00003 | Loss: 0.5570\n",
            "Epoch 00004 | Loss: 0.5519\n",
            "Epoch 00005 | Loss: 0.5511\n",
            "Epoch 00006 | Loss: 0.5447\n",
            "F1-Score: 0.3858\n",
            "Epoch 00007 | Loss: 0.5425\n",
            "Epoch 00008 | Loss: 0.5353\n",
            "Epoch 00009 | Loss: 0.5350\n",
            "Epoch 00010 | Loss: 0.5278\n",
            "Epoch 00011 | Loss: 0.5254\n",
            "F1-Score: 0.4748\n",
            "Epoch 00012 | Loss: 0.5217\n",
            "Epoch 00013 | Loss: 0.5172\n",
            "Epoch 00014 | Loss: 0.5076\n",
            "Epoch 00015 | Loss: 0.5041\n",
            "Epoch 00016 | Loss: 0.4955\n",
            "F1-Score: 0.5235\n",
            "Epoch 00017 | Loss: 0.4972\n",
            "Epoch 00018 | Loss: 0.4883\n",
            "Epoch 00019 | Loss: 0.4824\n",
            "Epoch 00020 | Loss: 0.4778\n",
            "Epoch 00021 | Loss: 0.4724\n",
            "F1-Score: 0.5659\n",
            "Epoch 00022 | Loss: 0.4719\n",
            "Epoch 00023 | Loss: 0.4739\n",
            "Epoch 00024 | Loss: 0.4681\n",
            "Epoch 00025 | Loss: 0.4581\n",
            "Epoch 00026 | Loss: 0.4496\n",
            "F1-Score: 0.6014\n",
            "Epoch 00027 | Loss: 0.4398\n",
            "Epoch 00028 | Loss: 0.4340\n",
            "Epoch 00029 | Loss: 0.4297\n",
            "Epoch 00030 | Loss: 0.4276\n",
            "Epoch 00031 | Loss: 0.4324\n",
            "F1-Score: 0.6231\n",
            "Epoch 00032 | Loss: 0.4292\n",
            "Epoch 00033 | Loss: 0.4231\n",
            "Epoch 00034 | Loss: 0.4165\n",
            "Epoch 00035 | Loss: 0.4038\n",
            "Epoch 00036 | Loss: 0.3903\n",
            "F1-Score: 0.6575\n",
            "Epoch 00037 | Loss: 0.3762\n",
            "Epoch 00038 | Loss: 0.3639\n",
            "Epoch 00039 | Loss: 0.3519\n",
            "Epoch 00040 | Loss: 0.3430\n",
            "Epoch 00041 | Loss: 0.3456\n",
            "F1-Score: 0.6867\n",
            "Epoch 00042 | Loss: 0.3439\n",
            "Epoch 00043 | Loss: 0.3282\n",
            "Epoch 00044 | Loss: 0.3123\n",
            "Epoch 00045 | Loss: 0.2980\n",
            "Epoch 00046 | Loss: 0.2881\n",
            "F1-Score: 0.7669\n",
            "Epoch 00047 | Loss: 0.2805\n",
            "Epoch 00048 | Loss: 0.2914\n",
            "Epoch 00049 | Loss: 0.2763\n",
            "Epoch 00050 | Loss: 0.2687\n",
            "Epoch 00051 | Loss: 0.2653\n",
            "F1-Score: 0.7810\n",
            "Epoch 00052 | Loss: 0.2564\n",
            "Epoch 00053 | Loss: 0.2459\n",
            "Epoch 00054 | Loss: 0.2330\n",
            "Epoch 00055 | Loss: 0.2286\n",
            "Epoch 00056 | Loss: 0.2289\n",
            "F1-Score: 0.7986\n",
            "Epoch 00057 | Loss: 0.2254\n",
            "Epoch 00058 | Loss: 0.2200\n",
            "Epoch 00059 | Loss: 0.2086\n",
            "Epoch 00060 | Loss: 0.2054\n",
            "Epoch 00061 | Loss: 0.2032\n",
            "F1-Score: 0.8216\n",
            "Epoch 00062 | Loss: 0.2019\n",
            "Epoch 00063 | Loss: 0.1961\n",
            "Epoch 00064 | Loss: 0.1961\n",
            "Epoch 00065 | Loss: 0.1796\n",
            "Epoch 00066 | Loss: 0.1636\n",
            "F1-Score: 0.8625\n",
            "Epoch 00067 | Loss: 0.1538\n",
            "Epoch 00068 | Loss: 0.1474\n",
            "Epoch 00069 | Loss: 0.1445\n",
            "Epoch 00070 | Loss: 0.1401\n",
            "Epoch 00071 | Loss: 0.1330\n",
            "F1-Score: 0.8818\n",
            "Epoch 00072 | Loss: 0.1271\n",
            "Epoch 00073 | Loss: 0.1254\n",
            "Epoch 00074 | Loss: 0.1240\n",
            "Epoch 00075 | Loss: 0.1288\n",
            "Epoch 00076 | Loss: 0.1259\n",
            "F1-Score: 0.8874\n",
            "Epoch 00077 | Loss: 0.1194\n",
            "Epoch 00078 | Loss: 0.1069\n",
            "Epoch 00079 | Loss: 0.0955\n",
            "Epoch 00080 | Loss: 0.0897\n",
            "Epoch 00081 | Loss: 0.0854\n",
            "F1-Score: 0.9104\n",
            "Epoch 00082 | Loss: 0.0860\n",
            "Epoch 00083 | Loss: 0.0912\n",
            "Epoch 00084 | Loss: 0.0956\n",
            "Epoch 00085 | Loss: 0.0995\n",
            "Epoch 00086 | Loss: 0.1016\n",
            "F1-Score: 0.9073\n",
            "Epoch 00087 | Loss: 0.0959\n",
            "Epoch 00088 | Loss: 0.0891\n",
            "Epoch 00089 | Loss: 0.0799\n",
            "Epoch 00090 | Loss: 0.0722\n",
            "Epoch 00091 | Loss: 0.0641\n",
            "F1-Score: 0.9275\n",
            "Epoch 00092 | Loss: 0.0611\n",
            "Epoch 00093 | Loss: 0.0604\n",
            "Epoch 00094 | Loss: 0.0601\n",
            "Epoch 00095 | Loss: 0.0617\n",
            "Epoch 00096 | Loss: 0.0641\n",
            "F1-Score: 0.9298\n",
            "Epoch 00097 | Loss: 0.0637\n",
            "Epoch 00098 | Loss: 0.0636\n",
            "Epoch 00099 | Loss: 0.0618\n",
            "Epoch 00100 | Loss: 0.0575\n",
            "Epoch 00101 | Loss: 0.0537\n",
            "F1-Score: 0.9371\n",
            "Epoch 00102 | Loss: 0.0505\n",
            "Epoch 00103 | Loss: 0.0456\n",
            "Epoch 00104 | Loss: 0.0438\n",
            "Epoch 00105 | Loss: 0.0423\n",
            "Epoch 00106 | Loss: 0.0423\n",
            "F1-Score: 0.9384\n",
            "Epoch 00107 | Loss: 0.0440\n",
            "Epoch 00108 | Loss: 0.0453\n",
            "Epoch 00109 | Loss: 0.0418\n",
            "Epoch 00110 | Loss: 0.0412\n",
            "Epoch 00111 | Loss: 0.0385\n",
            "F1-Score: 0.9412\n",
            "Epoch 00112 | Loss: 0.0363\n",
            "Epoch 00113 | Loss: 0.0354\n",
            "Epoch 00114 | Loss: 0.0322\n",
            "Epoch 00115 | Loss: 0.0302\n",
            "Epoch 00116 | Loss: 0.0304\n",
            "F1-Score: 0.9439\n",
            "Epoch 00117 | Loss: 0.0288\n",
            "Epoch 00118 | Loss: 0.0279\n",
            "Epoch 00119 | Loss: 0.0269\n",
            "Epoch 00120 | Loss: 0.0266\n",
            "Epoch 00121 | Loss: 0.0256\n",
            "F1-Score: 0.9486\n",
            "Epoch 00122 | Loss: 0.0250\n",
            "Epoch 00123 | Loss: 0.0244\n",
            "Epoch 00124 | Loss: 0.0251\n",
            "Epoch 00125 | Loss: 0.0255\n",
            "Epoch 00126 | Loss: 0.0253\n",
            "F1-Score: 0.9492\n",
            "Epoch 00127 | Loss: 0.0266\n",
            "Epoch 00128 | Loss: 0.0269\n",
            "Epoch 00129 | Loss: 0.0274\n",
            "Epoch 00130 | Loss: 0.0263\n",
            "Epoch 00131 | Loss: 0.0273\n",
            "F1-Score: 0.9504\n",
            "Epoch 00132 | Loss: 0.0269\n",
            "Epoch 00133 | Loss: 0.0283\n",
            "Epoch 00134 | Loss: 0.0291\n",
            "Epoch 00135 | Loss: 0.0290\n",
            "Epoch 00136 | Loss: 0.0275\n",
            "F1-Score: 0.9511\n",
            "Epoch 00137 | Loss: 0.0277\n",
            "Epoch 00138 | Loss: 0.0249\n",
            "Epoch 00139 | Loss: 0.0225\n",
            "Epoch 00140 | Loss: 0.0210\n",
            "Epoch 00141 | Loss: 0.0183\n",
            "F1-Score: 0.9561\n",
            "Epoch 00142 | Loss: 0.0173\n",
            "Epoch 00143 | Loss: 0.0168\n",
            "Epoch 00144 | Loss: 0.0170\n",
            "Epoch 00145 | Loss: 0.0168\n",
            "Epoch 00146 | Loss: 0.0180\n",
            "F1-Score: 0.9547\n",
            "Epoch 00147 | Loss: 0.0173\n",
            "Epoch 00148 | Loss: 0.0164\n",
            "Epoch 00149 | Loss: 0.0157\n",
            "Epoch 00150 | Loss: 0.0149\n",
            "Epoch 00151 | Loss: 0.0149\n",
            "F1-Score: 0.9587\n",
            "Epoch 00152 | Loss: 0.0186\n",
            "Epoch 00153 | Loss: 0.0171\n",
            "Epoch 00154 | Loss: 0.0157\n",
            "Epoch 00155 | Loss: 0.0160\n",
            "Epoch 00156 | Loss: 0.0159\n",
            "F1-Score: 0.9569\n",
            "Epoch 00157 | Loss: 0.0168\n",
            "Epoch 00158 | Loss: 0.0177\n",
            "Epoch 00159 | Loss: 0.0183\n",
            "Epoch 00160 | Loss: 0.0180\n",
            "Epoch 00161 | Loss: 0.0193\n",
            "F1-Score: 0.9569\n",
            "Epoch 00162 | Loss: 0.0221\n",
            "Epoch 00163 | Loss: 0.0203\n",
            "Epoch 00164 | Loss: 0.0222\n",
            "Epoch 00165 | Loss: 0.0203\n",
            "Epoch 00166 | Loss: 0.0182\n",
            "F1-Score: 0.9573\n",
            "Epoch 00167 | Loss: 0.0175\n",
            "Epoch 00168 | Loss: 0.0155\n",
            "Epoch 00169 | Loss: 0.0139\n",
            "Epoch 00170 | Loss: 0.0127\n",
            "Epoch 00171 | Loss: 0.0122\n",
            "F1-Score: 0.9619\n",
            "Epoch 00172 | Loss: 0.0111\n",
            "Epoch 00173 | Loss: 0.0105\n",
            "Epoch 00174 | Loss: 0.0094\n",
            "Epoch 00175 | Loss: 0.0087\n",
            "Epoch 00176 | Loss: 0.0081\n",
            "F1-Score: 0.9636\n",
            "Epoch 00177 | Loss: 0.0087\n",
            "Epoch 00178 | Loss: 0.0082\n",
            "Epoch 00179 | Loss: 0.0083\n",
            "Epoch 00180 | Loss: 0.0081\n",
            "Epoch 00181 | Loss: 0.0087\n",
            "F1-Score: 0.9627\n",
            "Epoch 00182 | Loss: 0.0084\n",
            "Epoch 00183 | Loss: 0.0085\n",
            "Epoch 00184 | Loss: 0.0083\n",
            "Epoch 00185 | Loss: 0.0084\n",
            "Epoch 00186 | Loss: 0.0087\n",
            "F1-Score: 0.9626\n",
            "Epoch 00187 | Loss: 0.0089\n",
            "Epoch 00188 | Loss: 0.0089\n",
            "Epoch 00189 | Loss: 0.0095\n",
            "Epoch 00190 | Loss: 0.0092\n",
            "Epoch 00191 | Loss: 0.0088\n",
            "F1-Score: 0.9636\n",
            "Epoch 00192 | Loss: 0.0080\n",
            "Epoch 00193 | Loss: 0.0078\n",
            "Epoch 00194 | Loss: 0.0072\n",
            "Epoch 00195 | Loss: 0.0071\n",
            "Epoch 00196 | Loss: 0.0068\n",
            "F1-Score: 0.9651\n",
            "Epoch 00197 | Loss: 0.0070\n",
            "Epoch 00198 | Loss: 0.0065\n",
            "Epoch 00199 | Loss: 0.0061\n",
            "Epoch 00200 | Loss: 0.0059\n"
          ]
        }
      ]
    },
    {
      "cell_type": "markdown",
      "metadata": {
        "cell_ktag": "NJSvz5MV1QGn",
        "id": "aWatNTPBpQGY"
      },
      "source": [
        "Let's evaluate the performance of your model"
      ]
    },
    {
      "cell_type": "code",
      "execution_count": 11,
      "metadata": {
        "cell_ktag": "NJSvz5MV1QGn",
        "id": "WFWMqwDuSj7b",
        "colab": {
          "base_uri": "https://localhost:8080/",
          "height": 504
        },
        "outputId": "7e4bbdae-4d79-4af8-a079-31c1f33d591f"
      },
      "outputs": [
        {
          "output_type": "stream",
          "name": "stdout",
          "text": [
            "Student Model : F1-Score on the test set: 0.9803\n"
          ]
        },
        {
          "output_type": "display_data",
          "data": {
            "text/plain": [
              "<Figure size 1000x500 with 1 Axes>"
            ],
            "image/png": "[encoded data removed]"
          },
          "metadata": {}
        }
      ],
      "source": [
        "score_test = evaluate(student_model, loss_fcn, device, test_dataloader)\n",
        "print(\"Student Model : F1-Score on the test set: {:.4f}\".format(score_test))\n",
        "\n",
        "\n",
        "def plot_f1_score(epoch_list, basic_model_scores, student_model_scores):\n",
        "    plt.figure(figsize=[10, 5])\n",
        "    plt.plot(epoch_list, basic_model_scores, \"b\", label=\"Basic Model\")\n",
        "    plt.plot(epoch_list, student_model_scores, \"r\", label=\"Student Model\")\n",
        "    plt.title(\"Evolution of f1 score w.r.t epochs\")\n",
        "    plt.ylim([0.0, 1.0])\n",
        "    plt.ylabel(\"Epochs\")\n",
        "    plt.xlabel(\"F1-Score\")\n",
        "    plt.legend()\n",
        "    plt.show()\n",
        "\n",
        "\n",
        "plot_f1_score(epoch_list, basic_model_scores, student_model_scores)"
      ]
    },
    {
      "cell_type": "markdown",
      "metadata": {
        "cell_ktag": "NJSvz5MV1QGn",
        "id": "i9aVEYkuR3fp"
      },
      "source": [
        "## **PART 2 : QUESTIONS** (12/20)"
      ]
    },
    {
      "cell_type": "markdown",
      "metadata": {
        "cell_ktag": "NJSvz5MV1QGn",
        "id": "vZ-r6AWtR-Co"
      },
      "source": [
        "**1. Make a small paragraph that : (4pts)**\n",
        "1. Explains your achitecture and justify your choices (why the Graph Layer you chose is more efficient than the GCNLayer from the Basic Model?).\n",
        "2. Analyses your results (what is the F1-Score ? are your results convincing ? what is your position w.r.t state-of-the-art ?)."
      ]
    },
    {
      "cell_type": "markdown",
      "source": [
        "><font color=\"blue\"> 1. **Architecture and choices:** We used a neural network composed of 3 GAT layers with Leaky ReLu as the activation function, and a final linear layer. The reason why we decided to use this kind of layers is that they can achieve better results with more simple architectures according to the state-of-the-art [4][5].\n",
        "\n",
        "><font color=\"blue\">Through experimentation with architectures of 2, 3 and 4 GAT layers, the configuration with 3 GAT layers emerged as the most performing. We tested GAT hidden sizes of 200, 250, 300, 350, 400 and 450, which allowed us to see that 350 was the best choice. We tried with 1, 2, 3, 4 and 5 heads, noticing that 5 was the choice with a higher F1-Score. We also evaluated ELU and ReLu activation functions, but both resulted in inferior performance compared to Leaky ReLU. We trained the model for 200 epochs. While it was feasible to extend the training, we decided to mantain the same number of epochs used in the baseline model for a direct comparison. For the learning rate, we tried several values between 0.001 and 0.01, and we found that 0.005 was a good learning rate. Finally, we found that setting the dropout rate to 0 was the best choice, since including dropout resulted in a worse performance of our model.\n",
        "\n",
        "><font color=\"blue\"> **Why is it more efficient than the Basic Model?** Graph Attention Networks (GATs) utilize attention mechanisms to assign dynamic weights to the features of neighboring nodes. This process enables GATs to prioritize more significant information for each node, resulting in more flexible representations. On the other hand, Graph Convolutional Networks (GCNs) use a uniform aggregation method, which may mix less pertinent information, weakening the influence of key neighbors. GATs' ability to adapt their focus according to the relevance of information makes them more effective across a variety of graph structures, thus improving their performance on different tasks.\n",
        "\n",
        "><font color=\"blue\"> 2. **Analysis of our results**\n",
        "\n",
        "><font color=\"blue\"> **What is the F1-Score ?** The F1-Score is a metric used to evaluate the accuracy of a binary classification model, combining precision and recall into a single measure. It is the harmonic mean of precision (the proportion of true positive results in all positive predictions) and recall (the proportion of true positive results in all actual positives). The F1-Score ranges from 0 to 1, where 1 indicates perfect precision and recall, and 0 means the model failed both. It's especially useful when the classes are imbalanced, because it balances the trade-off between precision and recall. It is also useful in scenarios where identifying true positives is as important as minimizing false positives and negatives.\n",
        "\n",
        "><font color=\"blue\">  **Are your results convincing ?** The model's F1-Score shows that after 200 epochs, the metric is very close to 1, demonstrating a good ability to balance precision and recall, which indicates that the model is effective at making correct predictions and thus it is reliable. Also, the log-shaped progression of the F1-Score suggests that while further impprovements are possible, significant gains might require a larger number of epochs.\n",
        "\n",
        "><font color=\"blue\">  **What is your position w.r.t state-of-the-art ?** This kind of architecture was presented in 2018, and at that time it was achieving the best results on the PPI dataset [4]. Now, there are some architectures with better performances (although usually they are also based on GAT layers). For instance, the architecture presented on [5], which was made by a combination of GCN layers, GAT layers and pooling layers, achieves a F1-Score of 0.9887 after training for only 50 epochs on the same dataset, which is not far from our score."
      ],
      "metadata": {
        "id": "2JQfirj2JMbb"
      }
    },
    {
      "cell_type": "markdown",
      "metadata": {
        "cell_ktag": "NJSvz5MV1QGn",
        "id": "5HIVqG4u5jfc"
      },
      "source": [
        "**2. Provide a diagramm of your architecture, which includes a good and clear legend as well as shapes information. The diagramm must be submitted as an external file, along with this notebook (PDF, JEPG or PNG format accepted). (2pts)**"
      ]
    },
    {
      "cell_type": "markdown",
      "metadata": {
        "cell_ktag": "NJSvz5MV1QGn",
        "id": "crMHLjkJ5pxl"
      },
      "source": [
        "**3. Make a small paragraph that explains: (6pts)**\n",
        "1. What _oversmoothing_ is in the context of Graph Neural Network. Why is it an issue ?\n",
        "2. Are there solutions to overcome it ?\n",
        "3. Do you think the model you constructed is robust with respect to oversmoothing ? Why ?"
      ]
    },
    {
      "cell_type": "markdown",
      "metadata": {
        "cell_ktag": "NJSvz5MV1QGn",
        "id": "QLPosSov_uPK"
      },
      "source": [
        "> <font color=\"blue\"> 1. According to [1], oversmoothing in Graph Neural Networks (GNNs) occurs when node features become too similar after multiple layers of processing, causing a loss of distinctive information. This happens because each layer of a GNN aggregates information from a node's neighbors, and with many layers, nodes end up sharing too much information, losing their unique characteristics. Oversmoothing is problematic because it degrades the performance of GNNs on tasks like node classification by making it harder to distinguish between nodes. It limits the depth of GNNs since beyond a certain number of layers, adding more layers does not improve but rather worsens performance.\n",
        "\n",
        "> <font color=\"blue\"> 2. Yes, there are several solutions to overcome it. Once again according to [1], several recent methods include Normalization and Regularization (penalizing deviations of over-smoothing measures during\n",
        "training, normalizing the node feature embeddings or adding noise to the optimization process), change of GNN dynamics (for example, the use\n",
        "of non-linear oscillators which are coupled through the graph structure yielding Graph-Coupled Oscillator Network [2]) and residual connections. Other solutions are also possible such as the one explained in [3], which addresses oversmoothing by incorporating node relation information, such as absolute differences and element-wise products of node embeddings, to emphasize differences between nodes and prevent their embeddings from becoming indistinguishable.\n",
        "\n",
        "\n",
        "> <font color=\"blue\"> 3. Yes, we think the model we constructed is more robust to over-smoothing, because GATConv layers are trying to learn node representations by weighting the importance of each neighbor's features differently (and also the importance of the node's own features, as it is clarified in [4]). We believe that this approach can mitigate the oversmoothing effect, because it allows the model to emphasize significant neighbors while discarding less pertinent information, unlike graph convolutional layers that uniformly distribute information about all neighbors, potentially leading to feature homogeniation after multiple layers. Also, the model has potential for self-regularizing oversmoothing, since it has the hability to assign greater weight to the node itself as needed, if the model's performance starts to decrease during training.\n",
        "\n",
        "> <font color=\"blue\"> At the same time, the fact that our architecture is able to achieve good results with only three GATConv layers is also helping to mitigate oversmoothing, because other operations may require more layers, which may induce feature homogenization.\n",
        "\n",
        "<font color=\"blue\"> **References:**\n",
        "\n",
        "<font color=\"blue\"> [1] T. Konstantin Rusch, Michael M. Bronstein, Siddhartha Mishra, *A survey on oversmoothing in Graph Neural Networks*, https://arxiv.org/pdf/2303.10993.pdf\n",
        "\n",
        "<font color=\"blue\"> [2] T. Rusch et al., *Graph-Coupled Oscillator Networks*, https://arxiv.org/pdf/2202.02296.pdf\n",
        "\n",
        "<font color=\"blue\"> [3] Y. Koishekenov, *Reducing Over-smoothing in Graph Neural Networks Using Relational Embeddings*, https://arxiv.org/pdf/2301.02924.pdf\n",
        "\n",
        "<font color=\"blue\"> [4] P. Velickovic, G. Cucurull, A. Casanova, A. Romero, P. Lio, Y. Bengio, *Graph Attention Networks*, https://arxiv.org/pdf/1710.10903.pdf\n",
        "\n",
        "<font color=\"blue\"> [5] K. Jha, S. Saha, H. Singh, *Prediction of protein-protein\n",
        "interaction using graph neural\n",
        "networks*, https://www.nature.com/articles/s41598-022-12201-9\n"
      ]
    }
  ],
  "metadata": {
    "accelerator": "GPU",
    "colab": {
      "provenance": [],
      "gpuType": "T4"
    },
    "kernelspec": {
      "display_name": "Python 3",
      "name": "python3"
    },
    "kfiletag": "NJSvz5MV1QGn",
    "language_info": {
      "codemirror_mode": {
        "name": "ipython",
        "version": 3
      },
      "file_extension": ".py",
      "mimetype": "text/x-python",
      "name": "python",
      "nbconvert_exporter": "python",
      "pygments_lexer": "ipython3",
      "version": "3.7.6"
    }
  },
  "nbformat": 4,
  "nbformat_minor": 0
}